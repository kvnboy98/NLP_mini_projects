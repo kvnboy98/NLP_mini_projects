{
  "cells": [
    {
      "cell_type": "markdown",
      "metadata": {
        "id": "I_TRsStYyi8N"
      },
      "source": [
        "### Loading Text From Internet"
      ]
    },
    {
      "cell_type": "code",
      "execution_count": null,
      "metadata": {
        "colab": {
          "base_uri": "https://localhost:8080/"
        },
        "id": "rpWFe6I-yrhM",
        "outputId": "ea821c5d-cb7a-432d-ac7e-2067561ae8b8"
      },
      "outputs": [
        {
          "output_type": "stream",
          "name": "stdout",
          "text": [
            "Looking in indexes: https://pypi.org/simple, https://us-python.pkg.dev/colab-wheels/public/simple/\n",
            "Requirement already satisfied: spacy in /usr/local/lib/python3.7/dist-packages (2.2.4)\n",
            "Collecting spacy\n",
            "  Downloading spacy-3.3.1-cp37-cp37m-manylinux_2_17_x86_64.manylinux2014_x86_64.whl (6.2 MB)\n",
            "\u001b[K     |████████████████████████████████| 6.2 MB 5.2 MB/s \n",
            "\u001b[?25hCollecting pathy>=0.3.5\n",
            "  Downloading pathy-0.6.1-py3-none-any.whl (42 kB)\n",
            "\u001b[K     |████████████████████████████████| 42 kB 1.3 MB/s \n",
            "\u001b[?25hCollecting catalogue<2.1.0,>=2.0.6\n",
            "  Downloading catalogue-2.0.7-py3-none-any.whl (17 kB)\n",
            "Requirement already satisfied: cymem<2.1.0,>=2.0.2 in /usr/local/lib/python3.7/dist-packages (from spacy) (2.0.6)\n",
            "Requirement already satisfied: tqdm<5.0.0,>=4.38.0 in /usr/local/lib/python3.7/dist-packages (from spacy) (4.64.0)\n",
            "Requirement already satisfied: murmurhash<1.1.0,>=0.28.0 in /usr/local/lib/python3.7/dist-packages (from spacy) (1.0.7)\n",
            "Collecting langcodes<4.0.0,>=3.2.0\n",
            "  Downloading langcodes-3.3.0-py3-none-any.whl (181 kB)\n",
            "\u001b[K     |████████████████████████████████| 181 kB 58.8 MB/s \n",
            "\u001b[?25hCollecting srsly<3.0.0,>=2.4.3\n",
            "  Downloading srsly-2.4.3-cp37-cp37m-manylinux_2_17_x86_64.manylinux2014_x86_64.whl (457 kB)\n",
            "\u001b[K     |████████████████████████████████| 457 kB 56.9 MB/s \n",
            "\u001b[?25hRequirement already satisfied: requests<3.0.0,>=2.13.0 in /usr/local/lib/python3.7/dist-packages (from spacy) (2.23.0)\n",
            "Collecting spacy-loggers<2.0.0,>=1.0.0\n",
            "  Downloading spacy_loggers-1.0.2-py3-none-any.whl (7.2 kB)\n",
            "Collecting spacy-legacy<3.1.0,>=3.0.9\n",
            "  Downloading spacy_legacy-3.0.9-py2.py3-none-any.whl (20 kB)\n",
            "Collecting thinc<8.1.0,>=8.0.14\n",
            "  Downloading thinc-8.0.17-cp37-cp37m-manylinux_2_17_x86_64.manylinux2014_x86_64.whl (660 kB)\n",
            "\u001b[K     |████████████████████████████████| 660 kB 71.7 MB/s \n",
            "\u001b[?25hCollecting typing-extensions<4.2.0,>=3.7.4\n",
            "  Downloading typing_extensions-4.1.1-py3-none-any.whl (26 kB)\n",
            "Requirement already satisfied: setuptools in /usr/local/lib/python3.7/dist-packages (from spacy) (57.4.0)\n",
            "Requirement already satisfied: packaging>=20.0 in /usr/local/lib/python3.7/dist-packages (from spacy) (21.3)\n",
            "Requirement already satisfied: jinja2 in /usr/local/lib/python3.7/dist-packages (from spacy) (2.11.3)\n",
            "Requirement already satisfied: numpy>=1.15.0 in /usr/local/lib/python3.7/dist-packages (from spacy) (1.21.6)\n",
            "Requirement already satisfied: preshed<3.1.0,>=3.0.2 in /usr/local/lib/python3.7/dist-packages (from spacy) (3.0.6)\n",
            "Requirement already satisfied: wasabi<1.1.0,>=0.9.1 in /usr/local/lib/python3.7/dist-packages (from spacy) (0.9.1)\n",
            "Collecting pydantic!=1.8,!=1.8.1,<1.9.0,>=1.7.4\n",
            "  Downloading pydantic-1.8.2-cp37-cp37m-manylinux2014_x86_64.whl (10.1 MB)\n",
            "\u001b[K     |████████████████████████████████| 10.1 MB 46.5 MB/s \n",
            "\u001b[?25hRequirement already satisfied: blis<0.8.0,>=0.4.0 in /usr/local/lib/python3.7/dist-packages (from spacy) (0.4.1)\n",
            "Collecting typer<0.5.0,>=0.3.0\n",
            "  Downloading typer-0.4.1-py3-none-any.whl (27 kB)\n",
            "Requirement already satisfied: zipp>=0.5 in /usr/local/lib/python3.7/dist-packages (from catalogue<2.1.0,>=2.0.6->spacy) (3.8.0)\n",
            "Requirement already satisfied: pyparsing!=3.0.5,>=2.0.2 in /usr/local/lib/python3.7/dist-packages (from packaging>=20.0->spacy) (3.0.9)\n",
            "Collecting smart-open<6.0.0,>=5.0.0\n",
            "  Downloading smart_open-5.2.1-py3-none-any.whl (58 kB)\n",
            "\u001b[K     |████████████████████████████████| 58 kB 6.6 MB/s \n",
            "\u001b[?25hRequirement already satisfied: urllib3!=1.25.0,!=1.25.1,<1.26,>=1.21.1 in /usr/local/lib/python3.7/dist-packages (from requests<3.0.0,>=2.13.0->spacy) (1.24.3)\n",
            "Requirement already satisfied: certifi>=2017.4.17 in /usr/local/lib/python3.7/dist-packages (from requests<3.0.0,>=2.13.0->spacy) (2022.5.18.1)\n",
            "Requirement already satisfied: idna<3,>=2.5 in /usr/local/lib/python3.7/dist-packages (from requests<3.0.0,>=2.13.0->spacy) (2.10)\n",
            "Requirement already satisfied: chardet<4,>=3.0.2 in /usr/local/lib/python3.7/dist-packages (from requests<3.0.0,>=2.13.0->spacy) (3.0.4)\n",
            "Requirement already satisfied: click<9.0.0,>=7.1.1 in /usr/local/lib/python3.7/dist-packages (from typer<0.5.0,>=0.3.0->spacy) (7.1.2)\n",
            "Requirement already satisfied: MarkupSafe>=0.23 in /usr/local/lib/python3.7/dist-packages (from jinja2->spacy) (2.0.1)\n",
            "Installing collected packages: typing-extensions, catalogue, typer, srsly, smart-open, pydantic, thinc, spacy-loggers, spacy-legacy, pathy, langcodes, spacy\n",
            "  Attempting uninstall: typing-extensions\n",
            "    Found existing installation: typing-extensions 4.2.0\n",
            "    Uninstalling typing-extensions-4.2.0:\n",
            "      Successfully uninstalled typing-extensions-4.2.0\n",
            "  Attempting uninstall: catalogue\n",
            "    Found existing installation: catalogue 1.0.0\n",
            "    Uninstalling catalogue-1.0.0:\n",
            "      Successfully uninstalled catalogue-1.0.0\n",
            "  Attempting uninstall: srsly\n",
            "    Found existing installation: srsly 1.0.5\n",
            "    Uninstalling srsly-1.0.5:\n",
            "      Successfully uninstalled srsly-1.0.5\n",
            "  Attempting uninstall: smart-open\n",
            "    Found existing installation: smart-open 6.0.0\n",
            "    Uninstalling smart-open-6.0.0:\n",
            "      Successfully uninstalled smart-open-6.0.0\n",
            "  Attempting uninstall: thinc\n",
            "    Found existing installation: thinc 7.4.0\n",
            "    Uninstalling thinc-7.4.0:\n",
            "      Successfully uninstalled thinc-7.4.0\n",
            "  Attempting uninstall: spacy\n",
            "    Found existing installation: spacy 2.2.4\n",
            "    Uninstalling spacy-2.2.4:\n",
            "      Successfully uninstalled spacy-2.2.4\n",
            "Successfully installed catalogue-2.0.7 langcodes-3.3.0 pathy-0.6.1 pydantic-1.8.2 smart-open-5.2.1 spacy-3.3.1 spacy-legacy-3.0.9 spacy-loggers-1.0.2 srsly-2.4.3 thinc-8.0.17 typer-0.4.1 typing-extensions-4.1.1\n"
          ]
        }
      ],
      "source": [
        "!pip install spacy --upgrade"
      ]
    },
    {
      "cell_type": "code",
      "execution_count": null,
      "metadata": {
        "colab": {
          "base_uri": "https://localhost:8080/",
          "height": 36
        },
        "id": "bzr0y2nEz7ZY",
        "outputId": "613abc74-31e4-43f6-dcd9-0808ddb630ae"
      },
      "outputs": [
        {
          "output_type": "execute_result",
          "data": {
            "text/plain": [
              "'3.3.1'"
            ],
            "application/vnd.google.colaboratory.intrinsic+json": {
              "type": "string"
            }
          },
          "metadata": {},
          "execution_count": 2
        }
      ],
      "source": [
        "import spacy\n",
        "spacy.__version__"
      ]
    },
    {
      "cell_type": "code",
      "execution_count": null,
      "metadata": {
        "colab": {
          "base_uri": "https://localhost:8080/"
        },
        "id": "2QWLj8xi0NhL",
        "outputId": "498df290-5831-42c2-9919-d598ef9c9658"
      },
      "outputs": [
        {
          "output_type": "stream",
          "name": "stdout",
          "text": [
            "Looking in indexes: https://pypi.org/simple, https://us-python.pkg.dev/colab-wheels/public/simple/\n",
            "Collecting en-core-web-sm==3.3.0\n",
            "  Downloading https://github.com/explosion/spacy-models/releases/download/en_core_web_sm-3.3.0/en_core_web_sm-3.3.0-py3-none-any.whl (12.8 MB)\n",
            "\u001b[K     |████████████████████████████████| 12.8 MB 5.3 MB/s \n",
            "\u001b[?25hRequirement already satisfied: spacy<3.4.0,>=3.3.0.dev0 in /usr/local/lib/python3.7/dist-packages (from en-core-web-sm==3.3.0) (3.3.1)\n",
            "Requirement already satisfied: catalogue<2.1.0,>=2.0.6 in /usr/local/lib/python3.7/dist-packages (from spacy<3.4.0,>=3.3.0.dev0->en-core-web-sm==3.3.0) (2.0.7)\n",
            "Requirement already satisfied: numpy>=1.15.0 in /usr/local/lib/python3.7/dist-packages (from spacy<3.4.0,>=3.3.0.dev0->en-core-web-sm==3.3.0) (1.21.6)\n",
            "Requirement already satisfied: wasabi<1.1.0,>=0.9.1 in /usr/local/lib/python3.7/dist-packages (from spacy<3.4.0,>=3.3.0.dev0->en-core-web-sm==3.3.0) (0.9.1)\n",
            "Requirement already satisfied: thinc<8.1.0,>=8.0.14 in /usr/local/lib/python3.7/dist-packages (from spacy<3.4.0,>=3.3.0.dev0->en-core-web-sm==3.3.0) (8.0.17)\n",
            "Requirement already satisfied: cymem<2.1.0,>=2.0.2 in /usr/local/lib/python3.7/dist-packages (from spacy<3.4.0,>=3.3.0.dev0->en-core-web-sm==3.3.0) (2.0.6)\n",
            "Requirement already satisfied: murmurhash<1.1.0,>=0.28.0 in /usr/local/lib/python3.7/dist-packages (from spacy<3.4.0,>=3.3.0.dev0->en-core-web-sm==3.3.0) (1.0.7)\n",
            "Requirement already satisfied: blis<0.8.0,>=0.4.0 in /usr/local/lib/python3.7/dist-packages (from spacy<3.4.0,>=3.3.0.dev0->en-core-web-sm==3.3.0) (0.4.1)\n",
            "Requirement already satisfied: requests<3.0.0,>=2.13.0 in /usr/local/lib/python3.7/dist-packages (from spacy<3.4.0,>=3.3.0.dev0->en-core-web-sm==3.3.0) (2.23.0)\n",
            "Requirement already satisfied: jinja2 in /usr/local/lib/python3.7/dist-packages (from spacy<3.4.0,>=3.3.0.dev0->en-core-web-sm==3.3.0) (2.11.3)\n",
            "Requirement already satisfied: typer<0.5.0,>=0.3.0 in /usr/local/lib/python3.7/dist-packages (from spacy<3.4.0,>=3.3.0.dev0->en-core-web-sm==3.3.0) (0.4.1)\n",
            "Requirement already satisfied: packaging>=20.0 in /usr/local/lib/python3.7/dist-packages (from spacy<3.4.0,>=3.3.0.dev0->en-core-web-sm==3.3.0) (21.3)\n",
            "Requirement already satisfied: pydantic!=1.8,!=1.8.1,<1.9.0,>=1.7.4 in /usr/local/lib/python3.7/dist-packages (from spacy<3.4.0,>=3.3.0.dev0->en-core-web-sm==3.3.0) (1.8.2)\n",
            "Requirement already satisfied: setuptools in /usr/local/lib/python3.7/dist-packages (from spacy<3.4.0,>=3.3.0.dev0->en-core-web-sm==3.3.0) (57.4.0)\n",
            "Requirement already satisfied: preshed<3.1.0,>=3.0.2 in /usr/local/lib/python3.7/dist-packages (from spacy<3.4.0,>=3.3.0.dev0->en-core-web-sm==3.3.0) (3.0.6)\n",
            "Requirement already satisfied: tqdm<5.0.0,>=4.38.0 in /usr/local/lib/python3.7/dist-packages (from spacy<3.4.0,>=3.3.0.dev0->en-core-web-sm==3.3.0) (4.64.0)\n",
            "Requirement already satisfied: spacy-loggers<2.0.0,>=1.0.0 in /usr/local/lib/python3.7/dist-packages (from spacy<3.4.0,>=3.3.0.dev0->en-core-web-sm==3.3.0) (1.0.2)\n",
            "Requirement already satisfied: typing-extensions<4.2.0,>=3.7.4 in /usr/local/lib/python3.7/dist-packages (from spacy<3.4.0,>=3.3.0.dev0->en-core-web-sm==3.3.0) (4.1.1)\n",
            "Requirement already satisfied: srsly<3.0.0,>=2.4.3 in /usr/local/lib/python3.7/dist-packages (from spacy<3.4.0,>=3.3.0.dev0->en-core-web-sm==3.3.0) (2.4.3)\n",
            "Requirement already satisfied: pathy>=0.3.5 in /usr/local/lib/python3.7/dist-packages (from spacy<3.4.0,>=3.3.0.dev0->en-core-web-sm==3.3.0) (0.6.1)\n",
            "Requirement already satisfied: langcodes<4.0.0,>=3.2.0 in /usr/local/lib/python3.7/dist-packages (from spacy<3.4.0,>=3.3.0.dev0->en-core-web-sm==3.3.0) (3.3.0)\n",
            "Requirement already satisfied: spacy-legacy<3.1.0,>=3.0.9 in /usr/local/lib/python3.7/dist-packages (from spacy<3.4.0,>=3.3.0.dev0->en-core-web-sm==3.3.0) (3.0.9)\n",
            "Requirement already satisfied: zipp>=0.5 in /usr/local/lib/python3.7/dist-packages (from catalogue<2.1.0,>=2.0.6->spacy<3.4.0,>=3.3.0.dev0->en-core-web-sm==3.3.0) (3.8.0)\n",
            "Requirement already satisfied: pyparsing!=3.0.5,>=2.0.2 in /usr/local/lib/python3.7/dist-packages (from packaging>=20.0->spacy<3.4.0,>=3.3.0.dev0->en-core-web-sm==3.3.0) (3.0.9)\n",
            "Requirement already satisfied: smart-open<6.0.0,>=5.0.0 in /usr/local/lib/python3.7/dist-packages (from pathy>=0.3.5->spacy<3.4.0,>=3.3.0.dev0->en-core-web-sm==3.3.0) (5.2.1)\n",
            "Requirement already satisfied: urllib3!=1.25.0,!=1.25.1,<1.26,>=1.21.1 in /usr/local/lib/python3.7/dist-packages (from requests<3.0.0,>=2.13.0->spacy<3.4.0,>=3.3.0.dev0->en-core-web-sm==3.3.0) (1.24.3)\n",
            "Requirement already satisfied: chardet<4,>=3.0.2 in /usr/local/lib/python3.7/dist-packages (from requests<3.0.0,>=2.13.0->spacy<3.4.0,>=3.3.0.dev0->en-core-web-sm==3.3.0) (3.0.4)\n",
            "Requirement already satisfied: certifi>=2017.4.17 in /usr/local/lib/python3.7/dist-packages (from requests<3.0.0,>=2.13.0->spacy<3.4.0,>=3.3.0.dev0->en-core-web-sm==3.3.0) (2022.5.18.1)\n",
            "Requirement already satisfied: idna<3,>=2.5 in /usr/local/lib/python3.7/dist-packages (from requests<3.0.0,>=2.13.0->spacy<3.4.0,>=3.3.0.dev0->en-core-web-sm==3.3.0) (2.10)\n",
            "Requirement already satisfied: click<9.0.0,>=7.1.1 in /usr/local/lib/python3.7/dist-packages (from typer<0.5.0,>=0.3.0->spacy<3.4.0,>=3.3.0.dev0->en-core-web-sm==3.3.0) (7.1.2)\n",
            "Requirement already satisfied: MarkupSafe>=0.23 in /usr/local/lib/python3.7/dist-packages (from jinja2->spacy<3.4.0,>=3.3.0.dev0->en-core-web-sm==3.3.0) (2.0.1)\n",
            "Installing collected packages: en-core-web-sm\n",
            "  Attempting uninstall: en-core-web-sm\n",
            "    Found existing installation: en-core-web-sm 2.2.5\n",
            "    Uninstalling en-core-web-sm-2.2.5:\n",
            "      Successfully uninstalled en-core-web-sm-2.2.5\n",
            "Successfully installed en-core-web-sm-3.3.0\n",
            "\u001b[38;5;2m✔ Download and installation successful\u001b[0m\n",
            "You can now load the package via spacy.load('en_core_web_sm')\n"
          ]
        }
      ],
      "source": [
        "!python -m spacy download en_core_web_sm"
      ]
    },
    {
      "cell_type": "code",
      "execution_count": null,
      "metadata": {
        "colab": {
          "base_uri": "https://localhost:8080/"
        },
        "id": "MXfayhya0X23",
        "outputId": "65e8836d-706e-4111-9231-a9bdf7ea6978"
      },
      "outputs": [
        {
          "output_type": "stream",
          "name": "stdout",
          "text": [
            "Looking in indexes: https://pypi.org/simple, https://us-python.pkg.dev/colab-wheels/public/simple/\n",
            "Collecting goose3\n",
            "  Downloading goose3-3.1.11-py3-none-any.whl (87 kB)\n",
            "\u001b[K     |████████████████████████████████| 87 kB 3.7 MB/s \n",
            "\u001b[?25hRequirement already satisfied: Pillow in /usr/local/lib/python3.7/dist-packages (from goose3) (7.1.2)\n",
            "Collecting cssselect\n",
            "  Downloading cssselect-1.1.0-py2.py3-none-any.whl (16 kB)\n",
            "Requirement already satisfied: jieba in /usr/local/lib/python3.7/dist-packages (from goose3) (0.42.1)\n",
            "Requirement already satisfied: lxml in /usr/local/lib/python3.7/dist-packages (from goose3) (4.2.6)\n",
            "Collecting langdetect\n",
            "  Downloading langdetect-1.0.9.tar.gz (981 kB)\n",
            "\u001b[K     |████████████████████████████████| 981 kB 39.6 MB/s \n",
            "\u001b[?25hRequirement already satisfied: python-dateutil in /usr/local/lib/python3.7/dist-packages (from goose3) (2.8.2)\n",
            "Requirement already satisfied: nltk in /usr/local/lib/python3.7/dist-packages (from goose3) (3.7)\n",
            "Requirement already satisfied: beautifulsoup4 in /usr/local/lib/python3.7/dist-packages (from goose3) (4.6.3)\n",
            "Requirement already satisfied: requests in /usr/local/lib/python3.7/dist-packages (from goose3) (2.23.0)\n",
            "Requirement already satisfied: six in /usr/local/lib/python3.7/dist-packages (from langdetect->goose3) (1.15.0)\n",
            "Requirement already satisfied: regex>=2021.8.3 in /usr/local/lib/python3.7/dist-packages (from nltk->goose3) (2022.6.2)\n",
            "Requirement already satisfied: joblib in /usr/local/lib/python3.7/dist-packages (from nltk->goose3) (1.1.0)\n",
            "Requirement already satisfied: tqdm in /usr/local/lib/python3.7/dist-packages (from nltk->goose3) (4.64.0)\n",
            "Requirement already satisfied: click in /usr/local/lib/python3.7/dist-packages (from nltk->goose3) (7.1.2)\n",
            "Requirement already satisfied: urllib3!=1.25.0,!=1.25.1,<1.26,>=1.21.1 in /usr/local/lib/python3.7/dist-packages (from requests->goose3) (1.24.3)\n",
            "Requirement already satisfied: chardet<4,>=3.0.2 in /usr/local/lib/python3.7/dist-packages (from requests->goose3) (3.0.4)\n",
            "Requirement already satisfied: certifi>=2017.4.17 in /usr/local/lib/python3.7/dist-packages (from requests->goose3) (2022.5.18.1)\n",
            "Requirement already satisfied: idna<3,>=2.5 in /usr/local/lib/python3.7/dist-packages (from requests->goose3) (2.10)\n",
            "Building wheels for collected packages: langdetect\n",
            "  Building wheel for langdetect (setup.py) ... \u001b[?25l\u001b[?25hdone\n",
            "  Created wheel for langdetect: filename=langdetect-1.0.9-py3-none-any.whl size=993242 sha256=ca67c2621d95714879fbb4eb3f0ca959759c6a3fee757b6e0b455edecfebe2db\n",
            "  Stored in directory: /root/.cache/pip/wheels/c5/96/8a/f90c59ed25d75e50a8c10a1b1c2d4c402e4dacfa87f3aff36a\n",
            "Successfully built langdetect\n",
            "Installing collected packages: langdetect, cssselect, goose3\n",
            "Successfully installed cssselect-1.1.0 goose3-3.1.11 langdetect-1.0.9\n"
          ]
        }
      ],
      "source": [
        "!pip install goose3"
      ]
    },
    {
      "cell_type": "code",
      "execution_count": null,
      "metadata": {
        "id": "u9oEmNHf0eAv"
      },
      "outputs": [],
      "source": [
        "from goose3 import Goose\n",
        "g = Goose()\n",
        "url = 'https://hbr.org/2022/04/the-power-of-natural-language-processing'\n",
        "article = g.extract(url)"
      ]
    },
    {
      "cell_type": "code",
      "execution_count": null,
      "metadata": {
        "colab": {
          "base_uri": "https://localhost:8080/",
          "height": 36
        },
        "id": "QHJOkk9706UB",
        "outputId": "e904df02-934d-498d-d180-e77d1f62639f"
      },
      "outputs": [
        {
          "output_type": "execute_result",
          "data": {
            "text/plain": [
              "'The Power of Natural Language Processing'"
            ],
            "application/vnd.google.colaboratory.intrinsic+json": {
              "type": "string"
            }
          },
          "metadata": {},
          "execution_count": 6
        }
      ],
      "source": [
        "article.title"
      ]
    },
    {
      "cell_type": "code",
      "execution_count": null,
      "metadata": {
        "colab": {
          "base_uri": "https://localhost:8080/",
          "height": 127
        },
        "id": "bIeyS2_D083B",
        "outputId": "c251f78d-efc2-4cf2-d153-ae9e96bd0551"
      },
      "outputs": [
        {
          "output_type": "execute_result",
          "data": {
            "text/plain": [
              "'The conventional wisdom around AI has been that while computers have the edge over humans when it comes to data-driven decision making, it can’t compete on qualitative tasks. That, however, is changing. Natural language processing (NLP) tools have advanced rapidly and can help with writing, coding, and discipline-specific reasoning. Companies that want to make use of this new tech should focus on the following: 1) Identify text data assets and determine how the latest techniques can be leveraged to add value for your firm, 2) understand how you might leverage AI-based language technologies to make better decisions or reorganize your skilled labor, 3) begin incorporating new language-based AI tools for a variety of tasks to better understand their capabilities, and 4) don’t underestimate the transformative potential of AI.\\n\\nUntil recently, the conventional wisdom was that while AI was better than humans at data-driven decision making tasks, it was still inferior to humans for cognitive and creative ones. But in the past two years language-based AI has advanced by leaps and bounds, changing common notions of what this technology can do.\\n\\nThe most visible advances have been in what’s called “natural language processing” (NLP), the branch of AI focused on how computers can process language like humans do. It has been used to write an article for The Guardian, and AI-authored blog posts have gone viral — feats that weren’t possible a few years ago. AI even excels at cognitive tasks like programming where it is able to generate programs for simple video games from human instructions.\\n\\nYet while these stunts may be attention grabbing, are they really indicative of what this tech can do for businesses?\\n\\nWhat NLP Can Do\\n\\nThe best known natural language processing tool is GPT-3, from OpenAI, which uses AI and statistics to predict the next word in a sentence based on the preceding words. NLP practitioners call tools like this “language models,” and they can be used for simple analytics tasks, such as classifying documents and analyzing the sentiment in blocks of text, as well as more advanced tasks, such as answering questions and summarizing reports. Language models are already reshaping traditional text analytics, but GPT-3 was an especially pivotal language model because, at 10x larger than any previous model upon release, it was the first , which enabled it to perform even more advanced tasks like programming and solving high school–level math problems. The latest version, called InstructGPT, has been fine-tuned by humans to generate responses that are much better aligned with human values and user intentions, and Google’s latest model shows further impressive breakthroughs on language and reasoning.\\n\\nFor businesses, the three areas where GPT-3 has appeared most promising are writing, coding, and discipline-specific reasoning. OpenAI, the Microsoft-funded creator of GPT-3, has developed a GPT-3-based language model intended to act as an assistant for programmers by generating code from natural language input. This tool, Codex, is already powering products like Copilot for Microsoft’s subsidiary GitHub and is capable of creating a basic video game simply by typing instructions. This transformative capability was already expected to change the nature of how programmers do their jobs, but models continue to improve — the latest from Google’s DeepMind AI lab, for example, demonstrates the critical thinking and logic skills necessary to outperform most humans in programming competitions.\\n\\nModels like GPT-3 are considered to be foundation models — an emerging AI research area — which also work for other types of data such as images and video. Foundation models can even be trained on multiple forms of data at the same time, like OpenAI’s DALL·E 2, which is trained on language and images to generate high-resolution renderings of imaginary scenes or objects simply from text prompts. Due to their potential to transform the nature of cognitive work, economists expect that foundation models may affect every part of the economy and could lead to increases in economic growth similar to the industrial revolution.\\n\\nIn my own work, I’ve been looking at how GPT-3-based tools can assist researchers in the research process. I am currently working with Ought, a San Francisco company developing an open-ended reasoning tool (called Elicit) that is intended to help researchers answer questions in minutes or hours instead of weeks or months. Elicit is designed for a growing number of specific tasks relevant to research, like summarization, data labeling, rephrasing, brainstorming, and literature reviews.\\n\\nI’ve found — not surprisingly — that Elicit works better for some tasks than others. Tasks like data labeling and summarization are still rough around the edges, with noisy results and spotty accuracy, but research from Ought and research from OpenAI shows promise for the future.\\n\\nFor example, the rephrase task is useful for writing, but the lack of integration with word processing apps renders it impractical for now. Brainstorming tasks are great for generating ideas or identifying overlooked topics, and despite the noisy results and barriers to adoption, they are currently valuable for a variety of situations. Yet, of all the tasks Elicit offers, I find the literature review the most useful. Because Elicit is an AI research assistant, this is sort of its bread-and-butter, and when I need to start digging into a new research topic, it has become my go-to resource.\\n\\nAll of this is changing how I work. I spend much less time trying to find existing content relevant to my research questions because its results are more applicable than other, more traditional interfaces for academic search like Google Scholar. I am also beginning to integrate brainstorming tasks into my work as well, and my experience with these tools has inspired my latest research, which seeks to utilize foundation models for supporting strategic planning.\\n\\nHow Can Organizations Prepare for the Future?\\n\\nIdentify your text data assets and determine how the latest techniques can be leveraged to add value for your firm.\\n\\nYou are certainly aware of the value of data, but you still may be overlooking some essential data assets if you are not utilizing text analytics and NLP throughout your organization. Text data is certainly valuable for customer experience management and understanding the voice of the customer, but think about other text data assets in your organization: emails, analysts’ reports, contracts, press releases, archives — even meetings and phone calls can be transcribed.\\n\\nThere is so much text data, and you don’t need advanced models like GPT-3 to extract its value. Hugging Face, an NLP startup, recently released AutoNLP, a new tool that automates training models for standard text analytics tasks by simply uploading your data to the platform. The data still needs labels, but far fewer than in other applications. Because many firms have made ambitious bets on AI only to struggle to drive value into the core business, remain cautious to not be overzealous. This can be a good first step that your existing machine learning engineers — or even talented data scientists — can manage.\\n\\nTo take the next step, again, identify your data assets. Many sectors, and even divisions within your organization, use highly specialized vocabularies. Through a combination of your data assets and open datasets, train a model for the needs of specific sectors or divisions. Think of finance. You do not want a model specialized in finance. You want a model customized for commercial banking, or for capital markets. And data is critical, but now it is unlabeled data, and the more the better. Specialized models like this can unlock untold value for your firm.\\n\\nUnderstand how you might leverage AI-based language technologies to make better decisions or reorganize your skilled labor.\\n\\nLanguage-based AI won’t replace jobs, but it will automate many tasks, even for decision makers. Startups like Verneek are creating Elicit-like tools to enable everyone to make data-informed decisions. These new tools will transcend traditional business intelligence and will transform the nature of many roles in organizations — programmers are just the beginning.\\n\\nYou need to start understanding how these technologies can be used to reorganize your skilled labor. The next generation of tools like OpenAI’s Codex will lead to more productive programmers, which likely means fewer dedicated programmers and more employees with modest programming skills using them for an increasing number of more complex tasks. This may not be true for all software developers, but it has significant implications for tasks like data processing and web development.\\n\\nBegin incorporating new language-based AI tools for a variety of tasks to better understand their capabilities.\\n\\nRight now tools like Elicit are just emerging, but they can already be useful in surprising ways. In fact, the previous suggestion was inspired by one of Elicit’s brainstorming tasks conditioned on my other three suggestions. The original suggestion itself wasn’t perfect, but it reminded me of some critical topics that I had overlooked, and I revised the article accordingly. In organizations, tasks like this can assist strategic thinking or scenario-planning exercises. Although there is tremendous potential for such applications, right now the results are still relatively crude, but they can already add value in their current state.\\n\\nThe bottom line is that you need to encourage broad adoption of language-based AI tools throughout your business. It is difficult to anticipate just how these tools might be used at different levels of your organization, but the best way to get an understanding of this tech may be for you and other leaders in your firm to adopt it yourselves. Don’t bet the boat on it because some of the tech may not work out, but if your team gains a better understanding of what is possible, then you will be ahead of the competition. Remember that while current AI might not be poised to replace managers, managers who understand AI are poised to replace managers who don’t.\\n\\nDo not underestimate the transformative potential of AI.\\n\\nLarge foundation models like GPT-3 exhibit abilities to generalize to a large number of tasks without any task-specific training. The recent progress in this tech is a significant step toward human-level generalization and general artificial intelligence that are the ultimate goals of many AI researchers, including those at OpenAI and Google’s DeepMind. Such systems have tremendous disruptive potential that could lead to AI-driven explosive economic growth, which would radically transform business and society. While you may still be skeptical of radically transformative AI like artificial general intelligence, it is prudent for organizations’ leaders to be cognizant of early signs of progress due to its tremendous disruptive potential.\\n\\nConsider that former Google chief Eric Schmidt expects general artificial intelligence in 10–20 years and that the UK recently took an official position on risks from artificial general intelligence. Had organizations paid attention to Anthony Fauci’s 2017 warning on the importance of pandemic preparedness, the most severe effects of the pandemic and ensuing supply chain crisis may have been avoided. Ignoring the transformative potential of AI also carries risks, and similar to the supply chain crisis, firms’ inaction or irresponsible use of AI could have widespread and damaging effects on society (e.g., increasing inequality or domain-specific risks from automation). However, unlike the supply chain crisis, societal changes from transformative AI will likely be irreversible and could even continue to accelerate. Organizations should begin preparing now not only to capitalize on transformative AI, but to do their part to avoid undesirable futures and ensure that advanced AI is used to equitably benefit society.\\n\\nLanguage-Based AI Tools Are Here to Stay\\n\\nPowerful generalizable language-based AI tools like Elicit are here, and they are just the tip of the iceberg; multimodal foundation model-based tools are poised to transform business in ways that are still difficult to predict. To begin preparing now, start understanding your text data assets and the variety of cognitive tasks involved in different roles in your organization. Aggressively adopt new language-based AI technologies; some will work well and others will not, but your employees will be quicker to adjust when you move on to the next. And don’t forget to adopt these technologies yourself — this is the best way for you to start to understand their future roles in your organization.'"
            ],
            "application/vnd.google.colaboratory.intrinsic+json": {
              "type": "string"
            }
          },
          "metadata": {},
          "execution_count": 7
        }
      ],
      "source": [
        "article.cleaned_text"
      ]
    },
    {
      "cell_type": "code",
      "execution_count": null,
      "metadata": {
        "colab": {
          "base_uri": "https://localhost:8080/"
        },
        "id": "1-r1_Jc11C_U",
        "outputId": "a315e938-c895-44a9-d8b8-476aa45b09a8"
      },
      "outputs": [
        {
          "output_type": "execute_result",
          "data": {
            "text/plain": [
              "[]"
            ]
          },
          "metadata": {},
          "execution_count": 8
        }
      ],
      "source": [
        "article.authors"
      ]
    },
    {
      "cell_type": "code",
      "execution_count": null,
      "metadata": {
        "colab": {
          "base_uri": "https://localhost:8080/"
        },
        "id": "bCjJCTgB1Het",
        "outputId": "6283cdb8-740e-4003-e5c2-b31e3c2a1f1e"
      },
      "outputs": [
        {
          "output_type": "execute_result",
          "data": {
            "text/plain": [
              "['http://twitter.com/HarvardBiz',\n",
              " 'http://www.facebook.com/HBR',\n",
              " 'https://www.linkedin.com/company/harvard-business-review?trk=biz-companies-cym',\n",
              " '#',\n",
              " '#',\n",
              " '/product/the-power-of-natural-language-processing/H06ZS3-PDF-ENG',\n",
              " 'javascript:window.print();',\n",
              " '/2022/04/the-power-of-natural-language-processing?language=es',\n",
              " '/2022/04/the-power-of-natural-language-processing?language=pt',\n",
              " '/2019/07/what-ai-driven-decision-making-looks-like',\n",
              " 'https://www.science.org/doi/abs/10.1126/science.aap8062',\n",
              " 'https://www.theguardian.com/commentisfree/2020/sep/08/robot-wrote-this-article-gpt-3',\n",
              " 'https://www.technologyreview.com/2020/08/14/1006780/ai-gpt-3-fake-blog-reached-top-of-hacker-news/',\n",
              " '/2017/07/why-ai-cant-write-this-article-yet?ab=seriesnav-bigidea',\n",
              " 'https://openai.com/blog/openai-codex/',\n",
              " 'https://openai.com/blog/gpt-3-apps/',\n",
              " 'https://dl.acm.org/doi/abs/10.1145/3505245',\n",
              " 'https://openai.com/blog/grade-school-math/',\n",
              " 'https://openai.com/blog/instruction-following/#guide',\n",
              " 'https://ai.googleblog.com/2022/04/pathways-language-model-palm-scaling-to.html',\n",
              " '/2020/09/the-next-big-breakthrough-in-ai-will-be-around-language',\n",
              " 'https://www.youtube.com/watch?v=SGUCcjHTmGY',\n",
              " 'https://www.nytimes.com/2021/09/09/technology/codex-artificial-intelligence-coding.html',\n",
              " 'https://deepmind.com/blog/article/Competitive-programming-with-AlphaCode',\n",
              " 'https://arxiv.org/abs/2108.07258',\n",
              " 'https://openai.com/dall-e-2/',\n",
              " 'https://techcrunch.com/2022/04/10/deep-science-combining-vision-and-language-could-be-the-key-to-more-capable-ai/',\n",
              " 'https://youtu.be/AYPOzc50PHw?t=1867',\n",
              " 'https://ought.org/',\n",
              " 'https://elicit.org/',\n",
              " 'https://arxiv.org/abs/2109.14076',\n",
              " 'https://arxiv.org/abs/2009.01325',\n",
              " 'https://www.forbes.com/sites/forbestechcouncil/2019/11/15/data-is-the-new-oil-and-thats-a-good-thing/?sh=429497f97304',\n",
              " 'https://www.forbes.com/sites/forbestechcouncil/2021/11/08/the-growing-importance-of-text-analytics-and-nlp-for-customer-experience-success/?sh=3a2c4b82212b',\n",
              " 'https://huggingface.co/',\n",
              " 'https://huggingface.co/autonlp',\n",
              " 'https://www.verneek.com/',\n",
              " 'https://www.sciencedirect.com/science/article/pii/S0016328721001932',\n",
              " 'https://www.mckinsey.com/business-functions/operations/our-insights/an-executive-primer-on-artificial-general-intelligence',\n",
              " 'https://www.theatlantic.com/technology/archive/2021/09/eric-schmidt-artificial-intelligence-misinformation/620218/',\n",
              " 'https://www.gov.uk/government/publications/national-ai-strategy/national-ai-strategy-html-version',\n",
              " 'https://www.healthaffairs.org/do/10.1377/hblog20170209.058678/full/']"
            ]
          },
          "metadata": {},
          "execution_count": 9
        }
      ],
      "source": [
        "article.links"
      ]
    },
    {
      "cell_type": "markdown",
      "metadata": {
        "id": "RePyATdg1PBG"
      },
      "source": [
        "### Named Entity Recognition"
      ]
    },
    {
      "cell_type": "code",
      "execution_count": null,
      "metadata": {
        "id": "3SdPKvVj1ZCX"
      },
      "outputs": [],
      "source": [
        "nlp = spacy.load('en_core_web_sm')"
      ]
    },
    {
      "cell_type": "code",
      "execution_count": null,
      "metadata": {
        "id": "-ZNfBE1TEBgJ"
      },
      "outputs": [],
      "source": [
        "document = nlp(article.cleaned_text)"
      ]
    },
    {
      "cell_type": "code",
      "execution_count": null,
      "metadata": {
        "colab": {
          "base_uri": "https://localhost:8080/"
        },
        "id": "mZfJm2M-EMpO",
        "outputId": "f218a319-371e-46d6-968d-75146e344bd6"
      },
      "outputs": [
        {
          "output_type": "stream",
          "name": "stdout",
          "text": [
            "The - DET\n",
            "conventional - ADJ\n",
            "wisdom - NOUN\n",
            "around - ADP\n",
            "AI - PROPN\n",
            "has - AUX\n",
            "been - AUX\n",
            "that - SCONJ\n",
            "while - SCONJ\n",
            "computers - NOUN\n",
            "have - VERB\n",
            "the - DET\n",
            "edge - NOUN\n",
            "over - ADP\n",
            "humans - NOUN\n",
            "when - SCONJ\n",
            "it - PRON\n",
            "comes - VERB\n",
            "to - ADP\n",
            "data - NOUN\n",
            "- - PUNCT\n",
            "driven - VERB\n",
            "decision - NOUN\n",
            "making - NOUN\n",
            ", - PUNCT\n",
            "it - PRON\n",
            "ca - AUX\n",
            "n’t - PART\n",
            "compete - VERB\n",
            "on - ADP\n",
            "qualitative - ADJ\n",
            "tasks - NOUN\n",
            ". - PUNCT\n",
            "That - PRON\n",
            ", - PUNCT\n",
            "however - ADV\n",
            ", - PUNCT\n",
            "is - AUX\n",
            "changing - VERB\n",
            ". - PUNCT\n",
            "Natural - ADJ\n",
            "language - NOUN\n",
            "processing - NOUN\n",
            "( - PUNCT\n",
            "NLP - PROPN\n",
            ") - PUNCT\n",
            "tools - NOUN\n",
            "have - AUX\n",
            "advanced - VERB\n",
            "rapidly - ADV\n",
            "and - CCONJ\n",
            "can - AUX\n",
            "help - VERB\n",
            "with - ADP\n",
            "writing - NOUN\n",
            ", - PUNCT\n",
            "coding - NOUN\n",
            ", - PUNCT\n",
            "and - CCONJ\n",
            "discipline - NOUN\n",
            "- - PUNCT\n",
            "specific - ADJ\n",
            "reasoning - NOUN\n",
            ". - PUNCT\n",
            "Companies - NOUN\n",
            "that - PRON\n",
            "want - VERB\n",
            "to - PART\n",
            "make - VERB\n",
            "use - NOUN\n",
            "of - ADP\n",
            "this - DET\n",
            "new - ADJ\n",
            "tech - NOUN\n",
            "should - AUX\n",
            "focus - VERB\n",
            "on - ADP\n",
            "the - DET\n",
            "following - NOUN\n",
            ": - PUNCT\n",
            "1 - X\n",
            ") - PUNCT\n",
            "Identify - VERB\n",
            "text - NOUN\n",
            "data - NOUN\n",
            "assets - NOUN\n",
            "and - CCONJ\n",
            "determine - VERB\n",
            "how - SCONJ\n",
            "the - DET\n",
            "latest - ADJ\n",
            "techniques - NOUN\n",
            "can - AUX\n",
            "be - AUX\n",
            "leveraged - VERB\n",
            "to - PART\n",
            "add - VERB\n",
            "value - NOUN\n",
            "for - ADP\n",
            "your - PRON\n",
            "firm - NOUN\n",
            ", - PUNCT\n",
            "2 - X\n",
            ") - PUNCT\n",
            "understand - VERB\n",
            "how - SCONJ\n",
            "you - PRON\n",
            "might - AUX\n",
            "leverage - VERB\n",
            "AI - PROPN\n",
            "- - PUNCT\n",
            "based - VERB\n",
            "language - NOUN\n",
            "technologies - NOUN\n",
            "to - PART\n",
            "make - VERB\n",
            "better - ADJ\n",
            "decisions - NOUN\n",
            "or - CCONJ\n",
            "reorganize - VERB\n",
            "your - PRON\n",
            "skilled - ADJ\n",
            "labor - NOUN\n",
            ", - PUNCT\n",
            "3 - X\n",
            ") - PUNCT\n",
            "begin - VERB\n",
            "incorporating - VERB\n",
            "new - ADJ\n",
            "language - NOUN\n",
            "- - PUNCT\n",
            "based - VERB\n",
            "AI - PROPN\n",
            "tools - NOUN\n",
            "for - ADP\n",
            "a - DET\n",
            "variety - NOUN\n",
            "of - ADP\n",
            "tasks - NOUN\n",
            "to - PART\n",
            "better - ADV\n",
            "understand - VERB\n",
            "their - PRON\n",
            "capabilities - NOUN\n",
            ", - PUNCT\n",
            "and - CCONJ\n",
            "4 - X\n",
            ") - PUNCT\n",
            "do - AUX\n",
            "n’t - PART\n",
            "underestimate - VERB\n",
            "the - DET\n",
            "transformative - NOUN\n",
            "potential - NOUN\n",
            "of - ADP\n",
            "AI - PROPN\n",
            ". - PUNCT\n",
            "\n",
            "\n",
            " - SPACE\n",
            "Until - ADP\n",
            "recently - ADV\n",
            ", - PUNCT\n",
            "the - DET\n",
            "conventional - ADJ\n",
            "wisdom - NOUN\n",
            "was - AUX\n",
            "that - SCONJ\n",
            "while - SCONJ\n",
            "AI - PROPN\n",
            "was - AUX\n",
            "better - ADJ\n",
            "than - ADP\n",
            "humans - NOUN\n",
            "at - ADP\n",
            "data - NOUN\n",
            "- - PUNCT\n",
            "driven - VERB\n",
            "decision - NOUN\n",
            "making - VERB\n",
            "tasks - NOUN\n",
            ", - PUNCT\n",
            "it - PRON\n",
            "was - AUX\n",
            "still - ADV\n",
            "inferior - ADJ\n",
            "to - ADP\n",
            "humans - NOUN\n",
            "for - ADP\n",
            "cognitive - ADJ\n",
            "and - CCONJ\n",
            "creative - ADJ\n",
            "ones - NOUN\n",
            ". - PUNCT\n",
            "But - CCONJ\n",
            "in - ADP\n",
            "the - DET\n",
            "past - ADJ\n",
            "two - NUM\n",
            "years - NOUN\n",
            "language - NOUN\n",
            "- - PUNCT\n",
            "based - VERB\n",
            "AI - PROPN\n",
            "has - AUX\n",
            "advanced - VERB\n",
            "by - ADP\n",
            "leaps - NOUN\n",
            "and - CCONJ\n",
            "bounds - NOUN\n",
            ", - PUNCT\n",
            "changing - VERB\n",
            "common - ADJ\n",
            "notions - NOUN\n",
            "of - ADP\n",
            "what - PRON\n",
            "this - DET\n",
            "technology - NOUN\n",
            "can - AUX\n",
            "do - AUX\n",
            ". - PUNCT\n",
            "\n",
            "\n",
            " - SPACE\n",
            "The - DET\n",
            "most - ADV\n",
            "visible - ADJ\n",
            "advances - NOUN\n",
            "have - AUX\n",
            "been - AUX\n",
            "in - ADP\n",
            "what - PRON\n",
            "’s - AUX\n",
            "called - VERB\n",
            "“ - PUNCT\n",
            "natural - ADJ\n",
            "language - NOUN\n",
            "processing - NOUN\n",
            "” - PUNCT\n",
            "( - PUNCT\n",
            "NLP - PROPN\n",
            ") - PUNCT\n",
            ", - PUNCT\n",
            "the - DET\n",
            "branch - NOUN\n",
            "of - ADP\n",
            "AI - PROPN\n",
            "focused - VERB\n",
            "on - ADP\n",
            "how - SCONJ\n",
            "computers - NOUN\n",
            "can - AUX\n",
            "process - VERB\n",
            "language - NOUN\n",
            "like - SCONJ\n",
            "humans - NOUN\n",
            "do - VERB\n",
            ". - PUNCT\n",
            "It - PRON\n",
            "has - AUX\n",
            "been - AUX\n",
            "used - VERB\n",
            "to - PART\n",
            "write - VERB\n",
            "an - DET\n",
            "article - NOUN\n",
            "for - ADP\n",
            "The - DET\n",
            "Guardian - PROPN\n",
            ", - PUNCT\n",
            "and - CCONJ\n",
            "AI - PROPN\n",
            "- - PUNCT\n",
            "authored - VERB\n",
            "blog - NOUN\n",
            "posts - NOUN\n",
            "have - AUX\n",
            "gone - VERB\n",
            "viral - ADJ\n",
            "— - PUNCT\n",
            "feats - NOUN\n",
            "that - PRON\n",
            "were - AUX\n",
            "n’t - PART\n",
            "possible - ADJ\n",
            "a - DET\n",
            "few - ADJ\n",
            "years - NOUN\n",
            "ago - ADV\n",
            ". - PUNCT\n",
            "AI - PROPN\n",
            "even - ADV\n",
            "excels - NOUN\n",
            "at - ADP\n",
            "cognitive - ADJ\n",
            "tasks - NOUN\n",
            "like - ADP\n",
            "programming - NOUN\n",
            "where - SCONJ\n",
            "it - PRON\n",
            "is - AUX\n",
            "able - ADJ\n",
            "to - PART\n",
            "generate - VERB\n",
            "programs - NOUN\n",
            "for - ADP\n",
            "simple - ADJ\n",
            "video - NOUN\n",
            "games - NOUN\n",
            "from - ADP\n",
            "human - ADJ\n",
            "instructions - NOUN\n",
            ". - PUNCT\n",
            "\n",
            "\n",
            " - SPACE\n",
            "Yet - CCONJ\n",
            "while - SCONJ\n",
            "these - DET\n",
            "stunts - NOUN\n",
            "may - AUX\n",
            "be - AUX\n",
            "attention - NOUN\n",
            "grabbing - VERB\n",
            ", - PUNCT\n",
            "are - AUX\n",
            "they - PRON\n",
            "really - ADV\n",
            "indicative - ADJ\n",
            "of - ADP\n",
            "what - PRON\n",
            "this - DET\n",
            "tech - NOUN\n",
            "can - AUX\n",
            "do - AUX\n",
            "for - ADP\n",
            "businesses - NOUN\n",
            "? - PUNCT\n",
            "\n",
            "\n",
            " - SPACE\n",
            "What - PRON\n",
            "NLP - PROPN\n",
            "Can - AUX\n",
            "Do - VERB\n",
            "\n",
            "\n",
            " - SPACE\n",
            "The - DET\n",
            "best - ADV\n",
            "known - VERB\n",
            "natural - ADJ\n",
            "language - NOUN\n",
            "processing - NOUN\n",
            "tool - NOUN\n",
            "is - AUX\n",
            "GPT-3 - ADJ\n",
            ", - PUNCT\n",
            "from - ADP\n",
            "OpenAI - PROPN\n",
            ", - PUNCT\n",
            "which - PRON\n",
            "uses - VERB\n",
            "AI - PROPN\n",
            "and - CCONJ\n",
            "statistics - NOUN\n",
            "to - PART\n",
            "predict - VERB\n",
            "the - DET\n",
            "next - ADJ\n",
            "word - NOUN\n",
            "in - ADP\n",
            "a - DET\n",
            "sentence - NOUN\n",
            "based - VERB\n",
            "on - ADP\n",
            "the - DET\n",
            "preceding - VERB\n",
            "words - NOUN\n",
            ". - PUNCT\n",
            "NLP - PROPN\n",
            "practitioners - NOUN\n",
            "call - VERB\n",
            "tools - NOUN\n",
            "like - ADP\n",
            "this - DET\n",
            "“ - PUNCT\n",
            "language - NOUN\n",
            "models - NOUN\n",
            ", - PUNCT\n",
            "” - PUNCT\n",
            "and - CCONJ\n",
            "they - PRON\n",
            "can - AUX\n",
            "be - AUX\n",
            "used - VERB\n",
            "for - ADP\n",
            "simple - ADJ\n",
            "analytics - NOUN\n",
            "tasks - NOUN\n",
            ", - PUNCT\n",
            "such - ADJ\n",
            "as - ADP\n",
            "classifying - VERB\n",
            "documents - NOUN\n",
            "and - CCONJ\n",
            "analyzing - VERB\n",
            "the - DET\n",
            "sentiment - NOUN\n",
            "in - ADP\n",
            "blocks - NOUN\n",
            "of - ADP\n",
            "text - NOUN\n",
            ", - PUNCT\n",
            "as - ADV\n",
            "well - ADV\n",
            "as - ADP\n",
            "more - ADV\n",
            "advanced - ADJ\n",
            "tasks - NOUN\n",
            ", - PUNCT\n",
            "such - ADJ\n",
            "as - ADP\n",
            "answering - VERB\n",
            "questions - NOUN\n",
            "and - CCONJ\n",
            "summarizing - VERB\n",
            "reports - NOUN\n",
            ". - PUNCT\n",
            "Language - NOUN\n",
            "models - NOUN\n",
            "are - AUX\n",
            "already - ADV\n",
            "reshaping - VERB\n",
            "traditional - ADJ\n",
            "text - NOUN\n",
            "analytics - NOUN\n",
            ", - PUNCT\n",
            "but - CCONJ\n",
            "GPT-3 - PROPN\n",
            "was - AUX\n",
            "an - DET\n",
            "especially - ADV\n",
            "pivotal - ADJ\n",
            "language - NOUN\n",
            "model - NOUN\n",
            "because - SCONJ\n",
            ", - PUNCT\n",
            "at - ADP\n",
            "10x - NOUN\n",
            "larger - ADJ\n",
            "than - ADP\n",
            "any - DET\n",
            "previous - ADJ\n",
            "model - NOUN\n",
            "upon - SCONJ\n",
            "release - NOUN\n",
            ", - PUNCT\n",
            "it - PRON\n",
            "was - AUX\n",
            "the - DET\n",
            "first - ADJ\n",
            ", - PUNCT\n",
            "which - PRON\n",
            "enabled - VERB\n",
            "it - PRON\n",
            "to - PART\n",
            "perform - VERB\n",
            "even - ADV\n",
            "more - ADV\n",
            "advanced - ADJ\n",
            "tasks - NOUN\n",
            "like - ADP\n",
            "programming - VERB\n",
            "and - CCONJ\n",
            "solving - VERB\n",
            "high - ADJ\n",
            "school - NOUN\n",
            "– - PUNCT\n",
            "level - NOUN\n",
            "math - NOUN\n",
            "problems - NOUN\n",
            ". - PUNCT\n",
            "The - DET\n",
            "latest - ADJ\n",
            "version - NOUN\n",
            ", - PUNCT\n",
            "called - VERB\n",
            "InstructGPT - NOUN\n",
            ", - PUNCT\n",
            "has - AUX\n",
            "been - AUX\n",
            "fine - ADV\n",
            "- - PUNCT\n",
            "tuned - VERB\n",
            "by - ADP\n",
            "humans - NOUN\n",
            "to - PART\n",
            "generate - VERB\n",
            "responses - NOUN\n",
            "that - PRON\n",
            "are - AUX\n",
            "much - ADV\n",
            "better - ADV\n",
            "aligned - VERB\n",
            "with - ADP\n",
            "human - ADJ\n",
            "values - NOUN\n",
            "and - CCONJ\n",
            "user - NOUN\n",
            "intentions - NOUN\n",
            ", - PUNCT\n",
            "and - CCONJ\n",
            "Google - PROPN\n",
            "’s - PART\n",
            "latest - ADJ\n",
            "model - NOUN\n",
            "shows - VERB\n",
            "further - ADJ\n",
            "impressive - ADJ\n",
            "breakthroughs - NOUN\n",
            "on - ADP\n",
            "language - NOUN\n",
            "and - CCONJ\n",
            "reasoning - NOUN\n",
            ". - PUNCT\n",
            "\n",
            "\n",
            " - SPACE\n",
            "For - ADP\n",
            "businesses - NOUN\n",
            ", - PUNCT\n",
            "the - DET\n",
            "three - NUM\n",
            "areas - NOUN\n",
            "where - SCONJ\n",
            "GPT-3 - PROPN\n",
            "has - AUX\n",
            "appeared - VERB\n",
            "most - ADV\n",
            "promising - ADJ\n",
            "are - AUX\n",
            "writing - VERB\n",
            ", - PUNCT\n",
            "coding - NOUN\n",
            ", - PUNCT\n",
            "and - CCONJ\n",
            "discipline - NOUN\n",
            "- - PUNCT\n",
            "specific - ADJ\n",
            "reasoning - NOUN\n",
            ". - PUNCT\n",
            "OpenAI - PROPN\n",
            ", - PUNCT\n",
            "the - DET\n",
            "Microsoft - PROPN\n",
            "- - PUNCT\n",
            "funded - VERB\n",
            "creator - NOUN\n",
            "of - ADP\n",
            "GPT-3 - PROPN\n",
            ", - PUNCT\n",
            "has - AUX\n",
            "developed - VERB\n",
            "a - DET\n",
            "GPT-3 - PROPN\n",
            "- - PUNCT\n",
            "based - VERB\n",
            "language - NOUN\n",
            "model - NOUN\n",
            "intended - VERB\n",
            "to - PART\n",
            "act - VERB\n",
            "as - ADP\n",
            "an - DET\n",
            "assistant - NOUN\n",
            "for - ADP\n",
            "programmers - NOUN\n",
            "by - ADP\n",
            "generating - VERB\n",
            "code - NOUN\n",
            "from - ADP\n",
            "natural - ADJ\n",
            "language - NOUN\n",
            "input - NOUN\n",
            ". - PUNCT\n",
            "This - DET\n",
            "tool - NOUN\n",
            ", - PUNCT\n",
            "Codex - PROPN\n",
            ", - PUNCT\n",
            "is - AUX\n",
            "already - ADV\n",
            "powering - VERB\n",
            "products - NOUN\n",
            "like - ADP\n",
            "Copilot - PROPN\n",
            "for - ADP\n",
            "Microsoft - PROPN\n",
            "’s - PART\n",
            "subsidiary - NOUN\n",
            "GitHub - PROPN\n",
            "and - CCONJ\n",
            "is - AUX\n",
            "capable - ADJ\n",
            "of - ADP\n",
            "creating - VERB\n",
            "a - DET\n",
            "basic - ADJ\n",
            "video - NOUN\n",
            "game - NOUN\n",
            "simply - ADV\n",
            "by - ADP\n",
            "typing - VERB\n",
            "instructions - NOUN\n",
            ". - PUNCT\n",
            "This - DET\n",
            "transformative - NOUN\n",
            "capability - NOUN\n",
            "was - AUX\n",
            "already - ADV\n",
            "expected - VERB\n",
            "to - PART\n",
            "change - VERB\n",
            "the - DET\n",
            "nature - NOUN\n",
            "of - ADP\n",
            "how - SCONJ\n",
            "programmers - NOUN\n",
            "do - AUX\n",
            "their - PRON\n",
            "jobs - NOUN\n",
            ", - PUNCT\n",
            "but - CCONJ\n",
            "models - NOUN\n",
            "continue - VERB\n",
            "to - PART\n",
            "improve - VERB\n",
            "— - PUNCT\n",
            "the - DET\n",
            "latest - ADJ\n",
            "from - ADP\n",
            "Google - PROPN\n",
            "’s - PART\n",
            "DeepMind - PROPN\n",
            "AI - PROPN\n",
            "lab - NOUN\n",
            ", - PUNCT\n",
            "for - ADP\n",
            "example - NOUN\n",
            ", - PUNCT\n",
            "demonstrates - VERB\n",
            "the - DET\n",
            "critical - ADJ\n",
            "thinking - NOUN\n",
            "and - CCONJ\n",
            "logic - NOUN\n",
            "skills - NOUN\n",
            "necessary - ADJ\n",
            "to - PART\n",
            "outperform - VERB\n",
            "most - ADJ\n",
            "humans - NOUN\n",
            "in - ADP\n",
            "programming - NOUN\n",
            "competitions - NOUN\n",
            ". - PUNCT\n",
            "\n",
            "\n",
            " - SPACE\n",
            "Models - PROPN\n",
            "like - ADP\n",
            "GPT-3 - PROPN\n",
            "are - AUX\n",
            "considered - VERB\n",
            "to - PART\n",
            "be - AUX\n",
            "foundation - NOUN\n",
            "models - NOUN\n",
            "— - PUNCT\n",
            "an - DET\n",
            "emerging - VERB\n",
            "AI - PROPN\n",
            "research - NOUN\n",
            "area - NOUN\n",
            "— - PUNCT\n",
            "which - PRON\n",
            "also - ADV\n",
            "work - VERB\n",
            "for - ADP\n",
            "other - ADJ\n",
            "types - NOUN\n",
            "of - ADP\n",
            "data - NOUN\n",
            "such - ADJ\n",
            "as - ADP\n",
            "images - NOUN\n",
            "and - CCONJ\n",
            "video - NOUN\n",
            ". - PUNCT\n",
            "Foundation - NOUN\n",
            "models - NOUN\n",
            "can - AUX\n",
            "even - ADV\n",
            "be - AUX\n",
            "trained - VERB\n",
            "on - ADP\n",
            "multiple - ADJ\n",
            "forms - NOUN\n",
            "of - ADP\n",
            "data - NOUN\n",
            "at - ADP\n",
            "the - DET\n",
            "same - ADJ\n",
            "time - NOUN\n",
            ", - PUNCT\n",
            "like - ADP\n",
            "OpenAI - PROPN\n",
            "’s - PUNCT\n",
            "DALL·E - PROPN\n",
            "2 - NUM\n",
            ", - PUNCT\n",
            "which - PRON\n",
            "is - AUX\n",
            "trained - VERB\n",
            "on - ADP\n",
            "language - NOUN\n",
            "and - CCONJ\n",
            "images - NOUN\n",
            "to - PART\n",
            "generate - VERB\n",
            "high - ADJ\n",
            "- - PUNCT\n",
            "resolution - NOUN\n",
            "renderings - NOUN\n",
            "of - ADP\n",
            "imaginary - ADJ\n",
            "scenes - NOUN\n",
            "or - CCONJ\n",
            "objects - NOUN\n",
            "simply - ADV\n",
            "from - ADP\n",
            "text - NOUN\n",
            "prompts - NOUN\n",
            ". - PUNCT\n",
            "Due - ADP\n",
            "to - ADP\n",
            "their - PRON\n",
            "potential - NOUN\n",
            "to - PART\n",
            "transform - VERB\n",
            "the - DET\n",
            "nature - NOUN\n",
            "of - ADP\n",
            "cognitive - ADJ\n",
            "work - NOUN\n",
            ", - PUNCT\n",
            "economists - NOUN\n",
            "expect - VERB\n",
            "that - SCONJ\n",
            "foundation - NOUN\n",
            "models - NOUN\n",
            "may - AUX\n",
            "affect - VERB\n",
            "every - DET\n",
            "part - NOUN\n",
            "of - ADP\n",
            "the - DET\n",
            "economy - NOUN\n",
            "and - CCONJ\n",
            "could - AUX\n",
            "lead - VERB\n",
            "to - ADP\n",
            "increases - NOUN\n",
            "in - ADP\n",
            "economic - ADJ\n",
            "growth - NOUN\n",
            "similar - ADJ\n",
            "to - ADP\n",
            "the - DET\n",
            "industrial - ADJ\n",
            "revolution - NOUN\n",
            ". - PUNCT\n",
            "\n",
            "\n",
            " - SPACE\n",
            "In - ADP\n",
            "my - PRON\n",
            "own - ADJ\n",
            "work - NOUN\n",
            ", - PUNCT\n",
            "I - PRON\n",
            "’ve - AUX\n",
            "been - AUX\n",
            "looking - VERB\n",
            "at - ADP\n",
            "how - SCONJ\n",
            "GPT-3 - PROPN\n",
            "- - PUNCT\n",
            "based - VERB\n",
            "tools - NOUN\n",
            "can - AUX\n",
            "assist - VERB\n",
            "researchers - NOUN\n",
            "in - ADP\n",
            "the - DET\n",
            "research - NOUN\n",
            "process - NOUN\n",
            ". - PUNCT\n",
            "I - PRON\n",
            "am - AUX\n",
            "currently - ADV\n",
            "working - VERB\n",
            "with - ADP\n",
            "Ought - PROPN\n",
            ", - PUNCT\n",
            "a - DET\n",
            "San - PROPN\n",
            "Francisco - PROPN\n",
            "company - NOUN\n",
            "developing - VERB\n",
            "an - DET\n",
            "open - ADV\n",
            "- - PUNCT\n",
            "ended - VERB\n",
            "reasoning - NOUN\n",
            "tool - NOUN\n",
            "( - PUNCT\n",
            "called - VERB\n",
            "Elicit - PROPN\n",
            ") - PUNCT\n",
            "that - PRON\n",
            "is - AUX\n",
            "intended - VERB\n",
            "to - PART\n",
            "help - VERB\n",
            "researchers - NOUN\n",
            "answer - VERB\n",
            "questions - NOUN\n",
            "in - ADP\n",
            "minutes - NOUN\n",
            "or - CCONJ\n",
            "hours - NOUN\n",
            "instead - ADV\n",
            "of - ADP\n",
            "weeks - NOUN\n",
            "or - CCONJ\n",
            "months - NOUN\n",
            ". - PUNCT\n",
            "Elicit - NOUN\n",
            "is - AUX\n",
            "designed - VERB\n",
            "for - ADP\n",
            "a - DET\n",
            "growing - VERB\n",
            "number - NOUN\n",
            "of - ADP\n",
            "specific - ADJ\n",
            "tasks - NOUN\n",
            "relevant - ADJ\n",
            "to - ADP\n",
            "research - NOUN\n",
            ", - PUNCT\n",
            "like - ADP\n",
            "summarization - NOUN\n",
            ", - PUNCT\n",
            "data - NOUN\n",
            "labeling - NOUN\n",
            ", - PUNCT\n",
            "rephrasing - NOUN\n",
            ", - PUNCT\n",
            "brainstorming - NOUN\n",
            ", - PUNCT\n",
            "and - CCONJ\n",
            "literature - NOUN\n",
            "reviews - NOUN\n",
            ". - PUNCT\n",
            "\n",
            "\n",
            " - SPACE\n",
            "I - PRON\n",
            "’ve - AUX\n",
            "found - VERB\n",
            "— - PUNCT\n",
            "not - PART\n",
            "surprisingly - ADV\n",
            "— - PUNCT\n",
            "that - SCONJ\n",
            "Elicit - PROPN\n",
            "works - VERB\n",
            "better - ADV\n",
            "for - ADP\n",
            "some - DET\n",
            "tasks - NOUN\n",
            "than - ADP\n",
            "others - NOUN\n",
            ". - PUNCT\n",
            "Tasks - NOUN\n",
            "like - ADP\n",
            "data - NOUN\n",
            "labeling - NOUN\n",
            "and - CCONJ\n",
            "summarization - NOUN\n",
            "are - AUX\n",
            "still - ADV\n",
            "rough - ADJ\n",
            "around - ADP\n",
            "the - DET\n",
            "edges - NOUN\n",
            ", - PUNCT\n",
            "with - ADP\n",
            "noisy - ADJ\n",
            "results - NOUN\n",
            "and - CCONJ\n",
            "spotty - ADJ\n",
            "accuracy - NOUN\n",
            ", - PUNCT\n",
            "but - CCONJ\n",
            "research - NOUN\n",
            "from - ADP\n",
            "Ought - PROPN\n",
            "and - CCONJ\n",
            "research - NOUN\n",
            "from - ADP\n",
            "OpenAI - PROPN\n",
            "shows - VERB\n",
            "promise - NOUN\n",
            "for - ADP\n",
            "the - DET\n",
            "future - NOUN\n",
            ". - PUNCT\n",
            "\n",
            "\n",
            " - SPACE\n",
            "For - ADP\n",
            "example - NOUN\n",
            ", - PUNCT\n",
            "the - DET\n",
            "rephrase - ADJ\n",
            "task - NOUN\n",
            "is - AUX\n",
            "useful - ADJ\n",
            "for - ADP\n",
            "writing - NOUN\n",
            ", - PUNCT\n",
            "but - CCONJ\n",
            "the - DET\n",
            "lack - NOUN\n",
            "of - ADP\n",
            "integration - NOUN\n",
            "with - ADP\n",
            "word - NOUN\n",
            "processing - NOUN\n",
            "apps - NOUN\n",
            "renders - VERB\n",
            "it - PRON\n",
            "impractical - ADJ\n",
            "for - ADP\n",
            "now - ADV\n",
            ". - PUNCT\n",
            "Brainstorming - VERB\n",
            "tasks - NOUN\n",
            "are - AUX\n",
            "great - ADJ\n",
            "for - ADP\n",
            "generating - VERB\n",
            "ideas - NOUN\n",
            "or - CCONJ\n",
            "identifying - VERB\n",
            "overlooked - VERB\n",
            "topics - NOUN\n",
            ", - PUNCT\n",
            "and - CCONJ\n",
            "despite - SCONJ\n",
            "the - DET\n",
            "noisy - ADJ\n",
            "results - NOUN\n",
            "and - CCONJ\n",
            "barriers - NOUN\n",
            "to - ADP\n",
            "adoption - NOUN\n",
            ", - PUNCT\n",
            "they - PRON\n",
            "are - AUX\n",
            "currently - ADV\n",
            "valuable - ADJ\n",
            "for - ADP\n",
            "a - DET\n",
            "variety - NOUN\n",
            "of - ADP\n",
            "situations - NOUN\n",
            ". - PUNCT\n",
            "Yet - ADV\n",
            ", - PUNCT\n",
            "of - ADP\n",
            "all - DET\n",
            "the - DET\n",
            "tasks - NOUN\n",
            "Elicit - NOUN\n",
            "offers - VERB\n",
            ", - PUNCT\n",
            "I - PRON\n",
            "find - VERB\n",
            "the - DET\n",
            "literature - NOUN\n",
            "review - VERB\n",
            "the - DET\n",
            "most - ADV\n",
            "useful - ADJ\n",
            ". - PUNCT\n",
            "Because - SCONJ\n",
            "Elicit - PROPN\n",
            "is - AUX\n",
            "an - DET\n",
            "AI - PROPN\n",
            "research - NOUN\n",
            "assistant - NOUN\n",
            ", - PUNCT\n",
            "this - PRON\n",
            "is - AUX\n",
            "sort - ADV\n",
            "of - ADP\n",
            "its - PRON\n",
            "bread - NOUN\n",
            "- - PUNCT\n",
            "and - CCONJ\n",
            "- - PUNCT\n",
            "butter - NOUN\n",
            ", - PUNCT\n",
            "and - CCONJ\n",
            "when - SCONJ\n",
            "I - PRON\n",
            "need - VERB\n",
            "to - PART\n",
            "start - VERB\n",
            "digging - VERB\n",
            "into - ADP\n",
            "a - DET\n",
            "new - ADJ\n",
            "research - NOUN\n",
            "topic - NOUN\n",
            ", - PUNCT\n",
            "it - PRON\n",
            "has - AUX\n",
            "become - VERB\n",
            "my - PRON\n",
            "go - VERB\n",
            "- - PUNCT\n",
            "to - NOUN\n",
            "resource - NOUN\n",
            ". - PUNCT\n",
            "\n",
            "\n",
            " - SPACE\n",
            "All - PRON\n",
            "of - ADP\n",
            "this - PRON\n",
            "is - AUX\n",
            "changing - VERB\n",
            "how - SCONJ\n",
            "I - PRON\n",
            "work - VERB\n",
            ". - PUNCT\n",
            "I - PRON\n",
            "spend - VERB\n",
            "much - ADV\n",
            "less - ADJ\n",
            "time - NOUN\n",
            "trying - VERB\n",
            "to - PART\n",
            "find - VERB\n",
            "existing - VERB\n",
            "content - NOUN\n",
            "relevant - ADJ\n",
            "to - ADP\n",
            "my - PRON\n",
            "research - NOUN\n",
            "questions - NOUN\n",
            "because - SCONJ\n",
            "its - PRON\n",
            "results - NOUN\n",
            "are - AUX\n",
            "more - ADV\n",
            "applicable - ADJ\n",
            "than - ADP\n",
            "other - ADJ\n",
            ", - PUNCT\n",
            "more - ADV\n",
            "traditional - ADJ\n",
            "interfaces - NOUN\n",
            "for - ADP\n",
            "academic - ADJ\n",
            "search - NOUN\n",
            "like - ADP\n",
            "Google - PROPN\n",
            "Scholar - PROPN\n",
            ". - PUNCT\n",
            "I - PRON\n",
            "am - AUX\n",
            "also - ADV\n",
            "beginning - VERB\n",
            "to - PART\n",
            "integrate - VERB\n",
            "brainstorming - VERB\n",
            "tasks - NOUN\n",
            "into - ADP\n",
            "my - PRON\n",
            "work - NOUN\n",
            "as - ADV\n",
            "well - ADV\n",
            ", - PUNCT\n",
            "and - CCONJ\n",
            "my - PRON\n",
            "experience - NOUN\n",
            "with - ADP\n",
            "these - DET\n",
            "tools - NOUN\n",
            "has - AUX\n",
            "inspired - VERB\n",
            "my - PRON\n",
            "latest - ADJ\n",
            "research - NOUN\n",
            ", - PUNCT\n",
            "which - PRON\n",
            "seeks - VERB\n",
            "to - PART\n",
            "utilize - VERB\n",
            "foundation - NOUN\n",
            "models - NOUN\n",
            "for - ADP\n",
            "supporting - VERB\n",
            "strategic - ADJ\n",
            "planning - NOUN\n",
            ". - PUNCT\n",
            "\n",
            "\n",
            " - SPACE\n",
            "How - SCONJ\n",
            "Can - AUX\n",
            "Organizations - PROPN\n",
            "Prepare - VERB\n",
            "for - ADP\n",
            "the - DET\n",
            "Future - PROPN\n",
            "? - PUNCT\n",
            "\n",
            "\n",
            " - SPACE\n",
            "Identify - VERB\n",
            "your - PRON\n",
            "text - NOUN\n",
            "data - NOUN\n",
            "assets - NOUN\n",
            "and - CCONJ\n",
            "determine - VERB\n",
            "how - SCONJ\n",
            "the - DET\n",
            "latest - ADJ\n",
            "techniques - NOUN\n",
            "can - AUX\n",
            "be - AUX\n",
            "leveraged - VERB\n",
            "to - PART\n",
            "add - VERB\n",
            "value - NOUN\n",
            "for - ADP\n",
            "your - PRON\n",
            "firm - NOUN\n",
            ". - PUNCT\n",
            "\n",
            "\n",
            " - SPACE\n",
            "You - PRON\n",
            "are - AUX\n",
            "certainly - ADV\n",
            "aware - ADJ\n",
            "of - ADP\n",
            "the - DET\n",
            "value - NOUN\n",
            "of - ADP\n",
            "data - NOUN\n",
            ", - PUNCT\n",
            "but - CCONJ\n",
            "you - PRON\n",
            "still - ADV\n",
            "may - AUX\n",
            "be - AUX\n",
            "overlooking - VERB\n",
            "some - DET\n",
            "essential - ADJ\n",
            "data - NOUN\n",
            "assets - NOUN\n",
            "if - SCONJ\n",
            "you - PRON\n",
            "are - AUX\n",
            "not - PART\n",
            "utilizing - VERB\n",
            "text - NOUN\n",
            "analytics - NOUN\n",
            "and - CCONJ\n",
            "NLP - PROPN\n",
            "throughout - ADP\n",
            "your - PRON\n",
            "organization - NOUN\n",
            ". - PUNCT\n",
            "Text - NOUN\n",
            "data - NOUN\n",
            "is - AUX\n",
            "certainly - ADV\n",
            "valuable - ADJ\n",
            "for - ADP\n",
            "customer - NOUN\n",
            "experience - NOUN\n",
            "management - NOUN\n",
            "and - CCONJ\n",
            "understanding - VERB\n",
            "the - DET\n",
            "voice - NOUN\n",
            "of - ADP\n",
            "the - DET\n",
            "customer - NOUN\n",
            ", - PUNCT\n",
            "but - CCONJ\n",
            "think - VERB\n",
            "about - ADP\n",
            "other - ADJ\n",
            "text - NOUN\n",
            "data - NOUN\n",
            "assets - NOUN\n",
            "in - ADP\n",
            "your - PRON\n",
            "organization - NOUN\n",
            ": - PUNCT\n",
            "emails - NOUN\n",
            ", - PUNCT\n",
            "analysts - NOUN\n",
            "’ - PART\n",
            "reports - NOUN\n",
            ", - PUNCT\n",
            "contracts - NOUN\n",
            ", - PUNCT\n",
            "press - NOUN\n",
            "releases - NOUN\n",
            ", - PUNCT\n",
            "archives - NOUN\n",
            "— - PUNCT\n",
            "even - ADV\n",
            "meetings - NOUN\n",
            "and - CCONJ\n",
            "phone - NOUN\n",
            "calls - NOUN\n",
            "can - AUX\n",
            "be - AUX\n",
            "transcribed - VERB\n",
            ". - PUNCT\n",
            "\n",
            "\n",
            " - SPACE\n",
            "There - PRON\n",
            "is - VERB\n",
            "so - ADV\n",
            "much - ADJ\n",
            "text - NOUN\n",
            "data - NOUN\n",
            ", - PUNCT\n",
            "and - CCONJ\n",
            "you - PRON\n",
            "do - AUX\n",
            "n’t - PART\n",
            "need - VERB\n",
            "advanced - ADJ\n",
            "models - NOUN\n",
            "like - ADP\n",
            "GPT-3 - PROPN\n",
            "to - PART\n",
            "extract - VERB\n",
            "its - PRON\n",
            "value - NOUN\n",
            ". - PUNCT\n",
            "Hugging - VERB\n",
            "Face - PROPN\n",
            ", - PUNCT\n",
            "an - DET\n",
            "NLP - PROPN\n",
            "startup - NOUN\n",
            ", - PUNCT\n",
            "recently - ADV\n",
            "released - VERB\n",
            "AutoNLP - NOUN\n",
            ", - PUNCT\n",
            "a - DET\n",
            "new - ADJ\n",
            "tool - NOUN\n",
            "that - PRON\n",
            "automates - VERB\n",
            "training - NOUN\n",
            "models - NOUN\n",
            "for - ADP\n",
            "standard - ADJ\n",
            "text - NOUN\n",
            "analytics - NOUN\n",
            "tasks - NOUN\n",
            "by - ADP\n",
            "simply - ADV\n",
            "uploading - VERB\n",
            "your - PRON\n",
            "data - NOUN\n",
            "to - ADP\n",
            "the - DET\n",
            "platform - NOUN\n",
            ". - PUNCT\n",
            "The - DET\n",
            "data - NOUN\n",
            "still - ADV\n",
            "needs - VERB\n",
            "labels - NOUN\n",
            ", - PUNCT\n",
            "but - CCONJ\n",
            "far - ADV\n",
            "fewer - ADJ\n",
            "than - ADP\n",
            "in - ADP\n",
            "other - ADJ\n",
            "applications - NOUN\n",
            ". - PUNCT\n",
            "Because - SCONJ\n",
            "many - ADJ\n",
            "firms - NOUN\n",
            "have - AUX\n",
            "made - VERB\n",
            "ambitious - ADJ\n",
            "bets - NOUN\n",
            "on - ADP\n",
            "AI - PROPN\n",
            "only - ADV\n",
            "to - PART\n",
            "struggle - VERB\n",
            "to - PART\n",
            "drive - VERB\n",
            "value - NOUN\n",
            "into - ADP\n",
            "the - DET\n",
            "core - NOUN\n",
            "business - NOUN\n",
            ", - PUNCT\n",
            "remain - VERB\n",
            "cautious - ADJ\n",
            "to - PART\n",
            "not - PART\n",
            "be - AUX\n",
            "overzealous - ADJ\n",
            ". - PUNCT\n",
            "This - PRON\n",
            "can - AUX\n",
            "be - AUX\n",
            "a - DET\n",
            "good - ADJ\n",
            "first - ADJ\n",
            "step - NOUN\n",
            "that - PRON\n",
            "your - PRON\n",
            "existing - VERB\n",
            "machine - NOUN\n",
            "learning - VERB\n",
            "engineers - NOUN\n",
            "— - PUNCT\n",
            "or - CCONJ\n",
            "even - ADV\n",
            "talented - ADJ\n",
            "data - NOUN\n",
            "scientists - NOUN\n",
            "— - PUNCT\n",
            "can - AUX\n",
            "manage - VERB\n",
            ". - PUNCT\n",
            "\n",
            "\n",
            " - SPACE\n",
            "To - PART\n",
            "take - VERB\n",
            "the - DET\n",
            "next - ADJ\n",
            "step - NOUN\n",
            ", - PUNCT\n",
            "again - ADV\n",
            ", - PUNCT\n",
            "identify - VERB\n",
            "your - PRON\n",
            "data - NOUN\n",
            "assets - NOUN\n",
            ". - PUNCT\n",
            "Many - ADJ\n",
            "sectors - NOUN\n",
            ", - PUNCT\n",
            "and - CCONJ\n",
            "even - ADV\n",
            "divisions - NOUN\n",
            "within - ADP\n",
            "your - PRON\n",
            "organization - NOUN\n",
            ", - PUNCT\n",
            "use - VERB\n",
            "highly - ADV\n",
            "specialized - VERB\n",
            "vocabularies - NOUN\n",
            ". - PUNCT\n",
            "Through - ADP\n",
            "a - DET\n",
            "combination - NOUN\n",
            "of - ADP\n",
            "your - PRON\n",
            "data - NOUN\n",
            "assets - NOUN\n",
            "and - CCONJ\n",
            "open - ADJ\n",
            "datasets - NOUN\n",
            ", - PUNCT\n",
            "train - VERB\n",
            "a - DET\n",
            "model - NOUN\n",
            "for - ADP\n",
            "the - DET\n",
            "needs - NOUN\n",
            "of - ADP\n",
            "specific - ADJ\n",
            "sectors - NOUN\n",
            "or - CCONJ\n",
            "divisions - NOUN\n",
            ". - PUNCT\n",
            "Think - VERB\n",
            "of - ADP\n",
            "finance - NOUN\n",
            ". - PUNCT\n",
            "You - PRON\n",
            "do - AUX\n",
            "not - PART\n",
            "want - VERB\n",
            "a - DET\n",
            "model - NOUN\n",
            "specialized - VERB\n",
            "in - ADP\n",
            "finance - NOUN\n",
            ". - PUNCT\n",
            "You - PRON\n",
            "want - VERB\n",
            "a - DET\n",
            "model - NOUN\n",
            "customized - VERB\n",
            "for - ADP\n",
            "commercial - ADJ\n",
            "banking - NOUN\n",
            ", - PUNCT\n",
            "or - CCONJ\n",
            "for - ADP\n",
            "capital - NOUN\n",
            "markets - NOUN\n",
            ". - PUNCT\n",
            "And - CCONJ\n",
            "data - NOUN\n",
            "is - AUX\n",
            "critical - ADJ\n",
            ", - PUNCT\n",
            "but - CCONJ\n",
            "now - ADV\n",
            "it - PRON\n",
            "is - AUX\n",
            "unlabeled - VERB\n",
            "data - NOUN\n",
            ", - PUNCT\n",
            "and - CCONJ\n",
            "the - PRON\n",
            "more - ADV\n",
            "the - PRON\n",
            "better - ADJ\n",
            ". - PUNCT\n",
            "Specialized - ADJ\n",
            "models - NOUN\n",
            "like - ADP\n",
            "this - PRON\n",
            "can - AUX\n",
            "unlock - VERB\n",
            "untold - ADJ\n",
            "value - NOUN\n",
            "for - ADP\n",
            "your - PRON\n",
            "firm - NOUN\n",
            ". - PUNCT\n",
            "\n",
            "\n",
            " - SPACE\n",
            "Understand - VERB\n",
            "how - SCONJ\n",
            "you - PRON\n",
            "might - AUX\n",
            "leverage - VERB\n",
            "AI - PROPN\n",
            "- - PUNCT\n",
            "based - VERB\n",
            "language - NOUN\n",
            "technologies - NOUN\n",
            "to - PART\n",
            "make - VERB\n",
            "better - ADJ\n",
            "decisions - NOUN\n",
            "or - CCONJ\n",
            "reorganize - VERB\n",
            "your - PRON\n",
            "skilled - ADJ\n",
            "labor - NOUN\n",
            ". - PUNCT\n",
            "\n",
            "\n",
            " - SPACE\n",
            "Language - NOUN\n",
            "- - PUNCT\n",
            "based - VERB\n",
            "AI - PROPN\n",
            "wo - AUX\n",
            "n’t - PART\n",
            "replace - VERB\n",
            "jobs - NOUN\n",
            ", - PUNCT\n",
            "but - CCONJ\n",
            "it - PRON\n",
            "will - AUX\n",
            "automate - VERB\n",
            "many - ADJ\n",
            "tasks - NOUN\n",
            ", - PUNCT\n",
            "even - ADV\n",
            "for - ADP\n",
            "decision - NOUN\n",
            "makers - NOUN\n",
            ". - PUNCT\n",
            "Startups - NOUN\n",
            "like - ADP\n",
            "Verneek - PROPN\n",
            "are - AUX\n",
            "creating - VERB\n",
            "Elicit - NOUN\n",
            "- - PUNCT\n",
            "like - ADJ\n",
            "tools - NOUN\n",
            "to - PART\n",
            "enable - VERB\n",
            "everyone - PRON\n",
            "to - PART\n",
            "make - VERB\n",
            "data - NOUN\n",
            "- - PUNCT\n",
            "informed - VERB\n",
            "decisions - NOUN\n",
            ". - PUNCT\n",
            "These - DET\n",
            "new - ADJ\n",
            "tools - NOUN\n",
            "will - AUX\n",
            "transcend - VERB\n",
            "traditional - ADJ\n",
            "business - NOUN\n",
            "intelligence - NOUN\n",
            "and - CCONJ\n",
            "will - AUX\n",
            "transform - VERB\n",
            "the - DET\n",
            "nature - NOUN\n",
            "of - ADP\n",
            "many - ADJ\n",
            "roles - NOUN\n",
            "in - ADP\n",
            "organizations - NOUN\n",
            "— - PUNCT\n",
            "programmers - NOUN\n",
            "are - AUX\n",
            "just - ADV\n",
            "the - DET\n",
            "beginning - NOUN\n",
            ". - PUNCT\n",
            "\n",
            "\n",
            " - SPACE\n",
            "You - PRON\n",
            "need - VERB\n",
            "to - PART\n",
            "start - VERB\n",
            "understanding - VERB\n",
            "how - SCONJ\n",
            "these - DET\n",
            "technologies - NOUN\n",
            "can - AUX\n",
            "be - AUX\n",
            "used - VERB\n",
            "to - PART\n",
            "reorganize - VERB\n",
            "your - PRON\n",
            "skilled - ADJ\n",
            "labor - NOUN\n",
            ". - PUNCT\n",
            "The - DET\n",
            "next - ADJ\n",
            "generation - NOUN\n",
            "of - ADP\n",
            "tools - NOUN\n",
            "like - ADP\n",
            "OpenAI - PROPN\n",
            "’s - PART\n",
            "Codex - PROPN\n",
            "will - AUX\n",
            "lead - VERB\n",
            "to - ADP\n",
            "more - ADV\n",
            "productive - ADJ\n",
            "programmers - NOUN\n",
            ", - PUNCT\n",
            "which - PRON\n",
            "likely - ADV\n",
            "means - VERB\n",
            "fewer - ADJ\n",
            "dedicated - ADJ\n",
            "programmers - NOUN\n",
            "and - CCONJ\n",
            "more - ADJ\n",
            "employees - NOUN\n",
            "with - ADP\n",
            "modest - ADJ\n",
            "programming - NOUN\n",
            "skills - NOUN\n",
            "using - VERB\n",
            "them - PRON\n",
            "for - ADP\n",
            "an - DET\n",
            "increasing - VERB\n",
            "number - NOUN\n",
            "of - ADP\n",
            "more - ADJ\n",
            "complex - ADJ\n",
            "tasks - NOUN\n",
            ". - PUNCT\n",
            "This - PRON\n",
            "may - AUX\n",
            "not - PART\n",
            "be - AUX\n",
            "true - ADJ\n",
            "for - ADP\n",
            "all - DET\n",
            "software - NOUN\n",
            "developers - NOUN\n",
            ", - PUNCT\n",
            "but - CCONJ\n",
            "it - PRON\n",
            "has - VERB\n",
            "significant - ADJ\n",
            "implications - NOUN\n",
            "for - ADP\n",
            "tasks - NOUN\n",
            "like - ADP\n",
            "data - NOUN\n",
            "processing - NOUN\n",
            "and - CCONJ\n",
            "web - NOUN\n",
            "development - NOUN\n",
            ". - PUNCT\n",
            "\n",
            "\n",
            " - SPACE\n",
            "Begin - VERB\n",
            "incorporating - VERB\n",
            "new - ADJ\n",
            "language - NOUN\n",
            "- - PUNCT\n",
            "based - VERB\n",
            "AI - PROPN\n",
            "tools - NOUN\n",
            "for - ADP\n",
            "a - DET\n",
            "variety - NOUN\n",
            "of - ADP\n",
            "tasks - NOUN\n",
            "to - PART\n",
            "better - ADV\n",
            "understand - VERB\n",
            "their - PRON\n",
            "capabilities - NOUN\n",
            ". - PUNCT\n",
            "\n",
            "\n",
            " - SPACE\n",
            "Right - ADV\n",
            "now - ADV\n",
            "tools - NOUN\n",
            "like - ADP\n",
            "Elicit - PROPN\n",
            "are - AUX\n",
            "just - ADV\n",
            "emerging - VERB\n",
            ", - PUNCT\n",
            "but - CCONJ\n",
            "they - PRON\n",
            "can - AUX\n",
            "already - ADV\n",
            "be - AUX\n",
            "useful - ADJ\n",
            "in - ADP\n",
            "surprising - ADJ\n",
            "ways - NOUN\n",
            ". - PUNCT\n",
            "In - ADP\n",
            "fact - NOUN\n",
            ", - PUNCT\n",
            "the - DET\n",
            "previous - ADJ\n",
            "suggestion - NOUN\n",
            "was - AUX\n",
            "inspired - VERB\n",
            "by - ADP\n",
            "one - NUM\n",
            "of - ADP\n",
            "Elicit - PROPN\n",
            "’s - PART\n",
            "brainstorming - NOUN\n",
            "tasks - NOUN\n",
            "conditioned - VERB\n",
            "on - ADP\n",
            "my - PRON\n",
            "other - ADJ\n",
            "three - NUM\n",
            "suggestions - NOUN\n",
            ". - PUNCT\n",
            "The - DET\n",
            "original - ADJ\n",
            "suggestion - NOUN\n",
            "itself - PRON\n",
            "was - AUX\n",
            "n’t - PART\n",
            "perfect - ADJ\n",
            ", - PUNCT\n",
            "but - CCONJ\n",
            "it - PRON\n",
            "reminded - VERB\n",
            "me - PRON\n",
            "of - ADP\n",
            "some - DET\n",
            "critical - ADJ\n",
            "topics - NOUN\n",
            "that - PRON\n",
            "I - PRON\n",
            "had - AUX\n",
            "overlooked - VERB\n",
            ", - PUNCT\n",
            "and - CCONJ\n",
            "I - PRON\n",
            "revised - VERB\n",
            "the - DET\n",
            "article - NOUN\n",
            "accordingly - ADV\n",
            ". - PUNCT\n",
            "In - ADP\n",
            "organizations - NOUN\n",
            ", - PUNCT\n",
            "tasks - NOUN\n",
            "like - ADP\n",
            "this - PRON\n",
            "can - AUX\n",
            "assist - VERB\n",
            "strategic - ADJ\n",
            "thinking - NOUN\n",
            "or - CCONJ\n",
            "scenario - NOUN\n",
            "- - PUNCT\n",
            "planning - NOUN\n",
            "exercises - NOUN\n",
            ". - PUNCT\n",
            "Although - SCONJ\n",
            "there - PRON\n",
            "is - VERB\n",
            "tremendous - ADJ\n",
            "potential - NOUN\n",
            "for - ADP\n",
            "such - ADJ\n",
            "applications - NOUN\n",
            ", - PUNCT\n",
            "right - ADV\n",
            "now - ADV\n",
            "the - DET\n",
            "results - NOUN\n",
            "are - AUX\n",
            "still - ADV\n",
            "relatively - ADV\n",
            "crude - ADJ\n",
            ", - PUNCT\n",
            "but - CCONJ\n",
            "they - PRON\n",
            "can - AUX\n",
            "already - ADV\n",
            "add - VERB\n",
            "value - NOUN\n",
            "in - ADP\n",
            "their - PRON\n",
            "current - ADJ\n",
            "state - NOUN\n",
            ". - PUNCT\n",
            "\n",
            "\n",
            " - SPACE\n",
            "The - DET\n",
            "bottom - ADJ\n",
            "line - NOUN\n",
            "is - AUX\n",
            "that - SCONJ\n",
            "you - PRON\n",
            "need - VERB\n",
            "to - PART\n",
            "encourage - VERB\n",
            "broad - ADJ\n",
            "adoption - NOUN\n",
            "of - ADP\n",
            "language - NOUN\n",
            "- - PUNCT\n",
            "based - VERB\n",
            "AI - PROPN\n",
            "tools - NOUN\n",
            "throughout - ADP\n",
            "your - PRON\n",
            "business - NOUN\n",
            ". - PUNCT\n",
            "It - PRON\n",
            "is - AUX\n",
            "difficult - ADJ\n",
            "to - PART\n",
            "anticipate - VERB\n",
            "just - ADV\n",
            "how - SCONJ\n",
            "these - DET\n",
            "tools - NOUN\n",
            "might - AUX\n",
            "be - AUX\n",
            "used - VERB\n",
            "at - ADP\n",
            "different - ADJ\n",
            "levels - NOUN\n",
            "of - ADP\n",
            "your - PRON\n",
            "organization - NOUN\n",
            ", - PUNCT\n",
            "but - CCONJ\n",
            "the - DET\n",
            "best - ADJ\n",
            "way - NOUN\n",
            "to - PART\n",
            "get - VERB\n",
            "an - DET\n",
            "understanding - NOUN\n",
            "of - ADP\n",
            "this - DET\n",
            "tech - NOUN\n",
            "may - AUX\n",
            "be - AUX\n",
            "for - ADP\n",
            "you - PRON\n",
            "and - CCONJ\n",
            "other - ADJ\n",
            "leaders - NOUN\n",
            "in - ADP\n",
            "your - PRON\n",
            "firm - NOUN\n",
            "to - PART\n",
            "adopt - VERB\n",
            "it - PRON\n",
            "yourselves - NOUN\n",
            ". - PUNCT\n",
            "Do - AUX\n",
            "n’t - PART\n",
            "bet - VERB\n",
            "the - DET\n",
            "boat - NOUN\n",
            "on - ADP\n",
            "it - PRON\n",
            "because - SCONJ\n",
            "some - PRON\n",
            "of - ADP\n",
            "the - DET\n",
            "tech - NOUN\n",
            "may - AUX\n",
            "not - PART\n",
            "work - VERB\n",
            "out - ADP\n",
            ", - PUNCT\n",
            "but - CCONJ\n",
            "if - SCONJ\n",
            "your - PRON\n",
            "team - NOUN\n",
            "gains - VERB\n",
            "a - DET\n",
            "better - ADJ\n",
            "understanding - NOUN\n",
            "of - ADP\n",
            "what - PRON\n",
            "is - AUX\n",
            "possible - ADJ\n",
            ", - PUNCT\n",
            "then - ADV\n",
            "you - PRON\n",
            "will - AUX\n",
            "be - AUX\n",
            "ahead - ADV\n",
            "of - ADP\n",
            "the - DET\n",
            "competition - NOUN\n",
            ". - PUNCT\n",
            "Remember - VERB\n",
            "that - SCONJ\n",
            "while - SCONJ\n",
            "current - ADJ\n",
            "AI - PROPN\n",
            "might - AUX\n",
            "not - PART\n",
            "be - AUX\n",
            "poised - VERB\n",
            "to - PART\n",
            "replace - VERB\n",
            "managers - NOUN\n",
            ", - PUNCT\n",
            "managers - NOUN\n",
            "who - PRON\n",
            "understand - VERB\n",
            "AI - PROPN\n",
            "are - AUX\n",
            "poised - VERB\n",
            "to - PART\n",
            "replace - VERB\n",
            "managers - NOUN\n",
            "who - PRON\n",
            "do - VERB\n",
            "n’t - NUM\n",
            ". - PUNCT\n",
            "\n",
            "\n",
            " - SPACE\n",
            "Do - AUX\n",
            "not - PART\n",
            "underestimate - VERB\n",
            "the - DET\n",
            "transformative - NOUN\n",
            "potential - NOUN\n",
            "of - ADP\n",
            "AI - PROPN\n",
            ". - PUNCT\n",
            "\n",
            "\n",
            " - SPACE\n",
            "Large - ADJ\n",
            "foundation - NOUN\n",
            "models - NOUN\n",
            "like - ADP\n",
            "GPT-3 - ADJ\n",
            "exhibit - NOUN\n",
            "abilities - NOUN\n",
            "to - PART\n",
            "generalize - VERB\n",
            "to - ADP\n",
            "a - DET\n",
            "large - ADJ\n",
            "number - NOUN\n",
            "of - ADP\n",
            "tasks - NOUN\n",
            "without - ADP\n",
            "any - DET\n",
            "task - NOUN\n",
            "- - PUNCT\n",
            "specific - ADJ\n",
            "training - NOUN\n",
            ". - PUNCT\n",
            "The - DET\n",
            "recent - ADJ\n",
            "progress - NOUN\n",
            "in - ADP\n",
            "this - DET\n",
            "tech - NOUN\n",
            "is - AUX\n",
            "a - DET\n",
            "significant - ADJ\n",
            "step - NOUN\n",
            "toward - ADP\n",
            "human - ADJ\n",
            "- - PUNCT\n",
            "level - NOUN\n",
            "generalization - NOUN\n",
            "and - CCONJ\n",
            "general - ADJ\n",
            "artificial - ADJ\n",
            "intelligence - NOUN\n",
            "that - PRON\n",
            "are - AUX\n",
            "the - DET\n",
            "ultimate - ADJ\n",
            "goals - NOUN\n",
            "of - ADP\n",
            "many - ADJ\n",
            "AI - PROPN\n",
            "researchers - NOUN\n",
            ", - PUNCT\n",
            "including - VERB\n",
            "those - PRON\n",
            "at - ADP\n",
            "OpenAI - PROPN\n",
            "and - CCONJ\n",
            "Google - PROPN\n",
            "’s - PART\n",
            "DeepMind - PROPN\n",
            ". - PUNCT\n",
            "Such - ADJ\n",
            "systems - NOUN\n",
            "have - VERB\n",
            "tremendous - ADJ\n",
            "disruptive - ADJ\n",
            "potential - NOUN\n",
            "that - PRON\n",
            "could - AUX\n",
            "lead - VERB\n",
            "to - ADP\n",
            "AI - PROPN\n",
            "- - PUNCT\n",
            "driven - VERB\n",
            "explosive - ADJ\n",
            "economic - ADJ\n",
            "growth - NOUN\n",
            ", - PUNCT\n",
            "which - PRON\n",
            "would - AUX\n",
            "radically - ADV\n",
            "transform - VERB\n",
            "business - NOUN\n",
            "and - CCONJ\n",
            "society - NOUN\n",
            ". - PUNCT\n",
            "While - SCONJ\n",
            "you - PRON\n",
            "may - AUX\n",
            "still - ADV\n",
            "be - AUX\n",
            "skeptical - ADJ\n",
            "of - ADP\n",
            "radically - ADV\n",
            "transformative - VERB\n",
            "AI - PROPN\n",
            "like - ADP\n",
            "artificial - ADJ\n",
            "general - ADJ\n",
            "intelligence - NOUN\n",
            ", - PUNCT\n",
            "it - PRON\n",
            "is - AUX\n",
            "prudent - ADJ\n",
            "for - SCONJ\n",
            "organizations - NOUN\n",
            "’ - PART\n",
            "leaders - NOUN\n",
            "to - PART\n",
            "be - AUX\n",
            "cognizant - ADJ\n",
            "of - ADP\n",
            "early - ADJ\n",
            "signs - NOUN\n",
            "of - ADP\n",
            "progress - NOUN\n",
            "due - ADP\n",
            "to - ADP\n",
            "its - PRON\n",
            "tremendous - ADJ\n",
            "disruptive - ADJ\n",
            "potential - NOUN\n",
            ". - PUNCT\n",
            "\n",
            "\n",
            " - SPACE\n",
            "Consider - VERB\n",
            "that - PRON\n",
            "former - ADJ\n",
            "Google - PROPN\n",
            "chief - NOUN\n",
            "Eric - PROPN\n",
            "Schmidt - PROPN\n",
            "expects - VERB\n",
            "general - ADJ\n",
            "artificial - ADJ\n",
            "intelligence - NOUN\n",
            "in - ADP\n",
            "10–20 - NUM\n",
            "years - NOUN\n",
            "and - CCONJ\n",
            "that - SCONJ\n",
            "the - DET\n",
            "UK - PROPN\n",
            "recently - ADV\n",
            "took - VERB\n",
            "an - DET\n",
            "official - ADJ\n",
            "position - NOUN\n",
            "on - ADP\n",
            "risks - NOUN\n",
            "from - ADP\n",
            "artificial - ADJ\n",
            "general - ADJ\n",
            "intelligence - NOUN\n",
            ". - PUNCT\n",
            "Had - AUX\n",
            "organizations - NOUN\n",
            "paid - VERB\n",
            "attention - NOUN\n",
            "to - ADP\n",
            "Anthony - PROPN\n",
            "Fauci - PROPN\n",
            "’s - PART\n",
            "2017 - NUM\n",
            "warning - VERB\n",
            "on - ADP\n",
            "the - DET\n",
            "importance - NOUN\n",
            "of - ADP\n",
            "pandemic - ADJ\n",
            "preparedness - NOUN\n",
            ", - PUNCT\n",
            "the - DET\n",
            "most - ADV\n",
            "severe - ADJ\n",
            "effects - NOUN\n",
            "of - ADP\n",
            "the - DET\n",
            "pandemic - ADJ\n",
            "and - CCONJ\n",
            "ensuing - VERB\n",
            "supply - NOUN\n",
            "chain - NOUN\n",
            "crisis - NOUN\n",
            "may - AUX\n",
            "have - AUX\n",
            "been - AUX\n",
            "avoided - VERB\n",
            ". - PUNCT\n",
            "Ignoring - VERB\n",
            "the - DET\n",
            "transformative - NOUN\n",
            "potential - NOUN\n",
            "of - ADP\n",
            "AI - PROPN\n",
            "also - ADV\n",
            "carries - VERB\n",
            "risks - NOUN\n",
            ", - PUNCT\n",
            "and - CCONJ\n",
            "similar - ADJ\n",
            "to - ADP\n",
            "the - DET\n",
            "supply - NOUN\n",
            "chain - NOUN\n",
            "crisis - NOUN\n",
            ", - PUNCT\n",
            "firms - NOUN\n",
            "’ - PART\n",
            "inaction - NOUN\n",
            "or - CCONJ\n",
            "irresponsible - ADJ\n",
            "use - NOUN\n",
            "of - ADP\n",
            "AI - PROPN\n",
            "could - AUX\n",
            "have - VERB\n",
            "widespread - ADJ\n",
            "and - CCONJ\n",
            "damaging - ADJ\n",
            "effects - NOUN\n",
            "on - ADP\n",
            "society - NOUN\n",
            "( - PUNCT\n",
            "e.g. - ADV\n",
            ", - PUNCT\n",
            "increasing - VERB\n",
            "inequality - NOUN\n",
            "or - CCONJ\n",
            "domain - NOUN\n",
            "- - PUNCT\n",
            "specific - ADJ\n",
            "risks - NOUN\n",
            "from - ADP\n",
            "automation - NOUN\n",
            ") - PUNCT\n",
            ". - PUNCT\n",
            "However - ADV\n",
            ", - PUNCT\n",
            "unlike - ADP\n",
            "the - DET\n",
            "supply - NOUN\n",
            "chain - NOUN\n",
            "crisis - NOUN\n",
            ", - PUNCT\n",
            "societal - ADJ\n",
            "changes - NOUN\n",
            "from - ADP\n",
            "transformative - NOUN\n",
            "AI - PROPN\n",
            "will - AUX\n",
            "likely - ADV\n",
            "be - AUX\n",
            "irreversible - ADJ\n",
            "and - CCONJ\n",
            "could - AUX\n",
            "even - ADV\n",
            "continue - VERB\n",
            "to - PART\n",
            "accelerate - VERB\n",
            ". - PUNCT\n",
            "Organizations - NOUN\n",
            "should - AUX\n",
            "begin - VERB\n",
            "preparing - VERB\n",
            "now - ADV\n",
            "not - PART\n",
            "only - ADV\n",
            "to - PART\n",
            "capitalize - VERB\n",
            "on - ADP\n",
            "transformative - NOUN\n",
            "AI - PROPN\n",
            ", - PUNCT\n",
            "but - CCONJ\n",
            "to - PART\n",
            "do - VERB\n",
            "their - PRON\n",
            "part - NOUN\n",
            "to - PART\n",
            "avoid - VERB\n",
            "undesirable - ADJ\n",
            "futures - NOUN\n",
            "and - CCONJ\n",
            "ensure - VERB\n",
            "that - SCONJ\n",
            "advanced - ADJ\n",
            "AI - PROPN\n",
            "is - AUX\n",
            "used - VERB\n",
            "to - PART\n",
            "equitably - ADV\n",
            "benefit - VERB\n",
            "society - NOUN\n",
            ". - PUNCT\n",
            "\n",
            "\n",
            " - SPACE\n",
            "Language - NOUN\n",
            "- - PUNCT\n",
            "Based - VERB\n",
            "AI - PROPN\n",
            "Tools - PROPN\n",
            "Are - AUX\n",
            "Here - ADV\n",
            "to - PART\n",
            "Stay - VERB\n",
            "\n",
            "\n",
            " - SPACE\n",
            "Powerful - ADJ\n",
            "generalizable - ADJ\n",
            "language - NOUN\n",
            "- - PUNCT\n",
            "based - VERB\n",
            "AI - PROPN\n",
            "tools - NOUN\n",
            "like - ADP\n",
            "Elicit - PROPN\n",
            "are - AUX\n",
            "here - ADV\n",
            ", - PUNCT\n",
            "and - CCONJ\n",
            "they - PRON\n",
            "are - AUX\n",
            "just - ADV\n",
            "the - DET\n",
            "tip - NOUN\n",
            "of - ADP\n",
            "the - DET\n",
            "iceberg - NOUN\n",
            "; - PUNCT\n",
            "multimodal - ADJ\n",
            "foundation - NOUN\n",
            "model - NOUN\n",
            "- - PUNCT\n",
            "based - VERB\n",
            "tools - NOUN\n",
            "are - AUX\n",
            "poised - VERB\n",
            "to - PART\n",
            "transform - VERB\n",
            "business - NOUN\n",
            "in - ADP\n",
            "ways - NOUN\n",
            "that - PRON\n",
            "are - AUX\n",
            "still - ADV\n",
            "difficult - ADJ\n",
            "to - PART\n",
            "predict - VERB\n",
            ". - PUNCT\n",
            "To - PART\n",
            "begin - VERB\n",
            "preparing - VERB\n",
            "now - ADV\n",
            ", - PUNCT\n",
            "start - VERB\n",
            "understanding - VERB\n",
            "your - PRON\n",
            "text - NOUN\n",
            "data - NOUN\n",
            "assets - NOUN\n",
            "and - CCONJ\n",
            "the - DET\n",
            "variety - NOUN\n",
            "of - ADP\n",
            "cognitive - ADJ\n",
            "tasks - NOUN\n",
            "involved - VERB\n",
            "in - ADP\n",
            "different - ADJ\n",
            "roles - NOUN\n",
            "in - ADP\n",
            "your - PRON\n",
            "organization - NOUN\n",
            ". - PUNCT\n",
            "Aggressively - ADV\n",
            "adopt - VERB\n",
            "new - ADJ\n",
            "language - NOUN\n",
            "- - PUNCT\n",
            "based - VERB\n",
            "AI - PROPN\n",
            "technologies - NOUN\n",
            "; - PUNCT\n",
            "some - PRON\n",
            "will - AUX\n",
            "work - VERB\n",
            "well - ADV\n",
            "and - CCONJ\n",
            "others - NOUN\n",
            "will - AUX\n",
            "not - PART\n",
            ", - PUNCT\n",
            "but - CCONJ\n",
            "your - PRON\n",
            "employees - NOUN\n",
            "will - AUX\n",
            "be - AUX\n",
            "quicker - ADJ\n",
            "to - PART\n",
            "adjust - VERB\n",
            "when - SCONJ\n",
            "you - PRON\n",
            "move - VERB\n",
            "on - ADP\n",
            "to - ADP\n",
            "the - DET\n",
            "next - ADJ\n",
            ". - PUNCT\n",
            "And - CCONJ\n",
            "do - AUX\n",
            "n’t - PART\n",
            "forget - VERB\n",
            "to - PART\n",
            "adopt - VERB\n",
            "these - DET\n",
            "technologies - NOUN\n",
            "yourself - PRON\n",
            "— - PUNCT\n",
            "this - PRON\n",
            "is - AUX\n",
            "the - DET\n",
            "best - ADJ\n",
            "way - NOUN\n",
            "for - SCONJ\n",
            "you - PRON\n",
            "to - PART\n",
            "start - VERB\n",
            "to - PART\n",
            "understand - VERB\n",
            "their - PRON\n",
            "future - ADJ\n",
            "roles - NOUN\n",
            "in - ADP\n",
            "your - PRON\n",
            "organization - NOUN\n",
            ". - PUNCT\n"
          ]
        }
      ],
      "source": [
        "for token in document:\n",
        "  print(token.text, '-', token.pos_)"
      ]
    },
    {
      "cell_type": "code",
      "execution_count": null,
      "metadata": {
        "colab": {
          "base_uri": "https://localhost:8080/",
          "height": 1000
        },
        "id": "8TCyhG1xEjxq",
        "outputId": "5326b0bc-69c9-4ed8-8e1f-6ccdd20d03bd"
      },
      "outputs": [
        {
          "output_type": "display_data",
          "data": {
            "text/plain": [
              "<IPython.core.display.HTML object>"
            ],
            "text/html": [
              "<span class=\"tex2jax_ignore\"><div class=\"entities\" style=\"line-height: 2.5; direction: ltr\">The conventional wisdom around AI has been that while computers have the edge over humans when it comes to data-driven decision making, it can’t compete on qualitative tasks. That, however, is changing. Natural language processing (\n",
              "<mark class=\"entity\" style=\"background: #7aecec; padding: 0.45em 0.6em; margin: 0 0.25em; line-height: 1; border-radius: 0.35em;\">\n",
              "    NLP\n",
              "    <span style=\"font-size: 0.8em; font-weight: bold; line-height: 1; border-radius: 0.35em; vertical-align: middle; margin-left: 0.5rem\">ORG</span>\n",
              "</mark>\n",
              ") tools have advanced rapidly and can help with writing, coding, and discipline-specific reasoning. Companies that want to make use of this new tech should focus on the following: \n",
              "<mark class=\"entity\" style=\"background: #e4e7d2; padding: 0.45em 0.6em; margin: 0 0.25em; line-height: 1; border-radius: 0.35em;\">\n",
              "    1\n",
              "    <span style=\"font-size: 0.8em; font-weight: bold; line-height: 1; border-radius: 0.35em; vertical-align: middle; margin-left: 0.5rem\">CARDINAL</span>\n",
              "</mark>\n",
              ") Identify text data assets and determine how the latest techniques can be leveraged to add value for your firm, \n",
              "<mark class=\"entity\" style=\"background: #e4e7d2; padding: 0.45em 0.6em; margin: 0 0.25em; line-height: 1; border-radius: 0.35em;\">\n",
              "    2\n",
              "    <span style=\"font-size: 0.8em; font-weight: bold; line-height: 1; border-radius: 0.35em; vertical-align: middle; margin-left: 0.5rem\">CARDINAL</span>\n",
              "</mark>\n",
              ") understand how you might leverage \n",
              "<mark class=\"entity\" style=\"background: #7aecec; padding: 0.45em 0.6em; margin: 0 0.25em; line-height: 1; border-radius: 0.35em;\">\n",
              "    AI\n",
              "    <span style=\"font-size: 0.8em; font-weight: bold; line-height: 1; border-radius: 0.35em; vertical-align: middle; margin-left: 0.5rem\">ORG</span>\n",
              "</mark>\n",
              "-based language technologies to make better decisions or reorganize your skilled labor, \n",
              "<mark class=\"entity\" style=\"background: #e4e7d2; padding: 0.45em 0.6em; margin: 0 0.25em; line-height: 1; border-radius: 0.35em;\">\n",
              "    3\n",
              "    <span style=\"font-size: 0.8em; font-weight: bold; line-height: 1; border-radius: 0.35em; vertical-align: middle; margin-left: 0.5rem\">CARDINAL</span>\n",
              "</mark>\n",
              ") begin incorporating new language-based \n",
              "<mark class=\"entity\" style=\"background: #7aecec; padding: 0.45em 0.6em; margin: 0 0.25em; line-height: 1; border-radius: 0.35em;\">\n",
              "    AI\n",
              "    <span style=\"font-size: 0.8em; font-weight: bold; line-height: 1; border-radius: 0.35em; vertical-align: middle; margin-left: 0.5rem\">ORG</span>\n",
              "</mark>\n",
              " tools for a variety of tasks to better understand their capabilities, and \n",
              "<mark class=\"entity\" style=\"background: #e4e7d2; padding: 0.45em 0.6em; margin: 0 0.25em; line-height: 1; border-radius: 0.35em;\">\n",
              "    4\n",
              "    <span style=\"font-size: 0.8em; font-weight: bold; line-height: 1; border-radius: 0.35em; vertical-align: middle; margin-left: 0.5rem\">CARDINAL</span>\n",
              "</mark>\n",
              ") don’t underestimate the transformative potential of \n",
              "<mark class=\"entity\" style=\"background: #7aecec; padding: 0.45em 0.6em; margin: 0 0.25em; line-height: 1; border-radius: 0.35em;\">\n",
              "    AI\n",
              "    <span style=\"font-size: 0.8em; font-weight: bold; line-height: 1; border-radius: 0.35em; vertical-align: middle; margin-left: 0.5rem\">ORG</span>\n",
              "</mark>\n",
              ".</br></br>Until recently, the conventional wisdom was that while AI was better than humans at data-driven decision making tasks, it was still inferior to humans for cognitive and creative ones. But in \n",
              "<mark class=\"entity\" style=\"background: #bfe1d9; padding: 0.45em 0.6em; margin: 0 0.25em; line-height: 1; border-radius: 0.35em;\">\n",
              "    the past two years\n",
              "    <span style=\"font-size: 0.8em; font-weight: bold; line-height: 1; border-radius: 0.35em; vertical-align: middle; margin-left: 0.5rem\">DATE</span>\n",
              "</mark>\n",
              " language-based \n",
              "<mark class=\"entity\" style=\"background: #7aecec; padding: 0.45em 0.6em; margin: 0 0.25em; line-height: 1; border-radius: 0.35em;\">\n",
              "    AI\n",
              "    <span style=\"font-size: 0.8em; font-weight: bold; line-height: 1; border-radius: 0.35em; vertical-align: middle; margin-left: 0.5rem\">ORG</span>\n",
              "</mark>\n",
              " has advanced by leaps and bounds, changing common notions of what this technology can do.</br></br>The most visible advances have been in what’s called “natural language processing” (\n",
              "<mark class=\"entity\" style=\"background: #7aecec; padding: 0.45em 0.6em; margin: 0 0.25em; line-height: 1; border-radius: 0.35em;\">\n",
              "    NLP\n",
              "    <span style=\"font-size: 0.8em; font-weight: bold; line-height: 1; border-radius: 0.35em; vertical-align: middle; margin-left: 0.5rem\">ORG</span>\n",
              "</mark>\n",
              "), the branch of \n",
              "<mark class=\"entity\" style=\"background: #7aecec; padding: 0.45em 0.6em; margin: 0 0.25em; line-height: 1; border-radius: 0.35em;\">\n",
              "    AI\n",
              "    <span style=\"font-size: 0.8em; font-weight: bold; line-height: 1; border-radius: 0.35em; vertical-align: middle; margin-left: 0.5rem\">ORG</span>\n",
              "</mark>\n",
              " focused on how computers can process language like humans do. It has been used to write an article for The \n",
              "<mark class=\"entity\" style=\"background: #7aecec; padding: 0.45em 0.6em; margin: 0 0.25em; line-height: 1; border-radius: 0.35em;\">\n",
              "    Guardian\n",
              "    <span style=\"font-size: 0.8em; font-weight: bold; line-height: 1; border-radius: 0.35em; vertical-align: middle; margin-left: 0.5rem\">ORG</span>\n",
              "</mark>\n",
              ", and AI-authored blog posts have gone viral — feats that weren’t possible \n",
              "<mark class=\"entity\" style=\"background: #bfe1d9; padding: 0.45em 0.6em; margin: 0 0.25em; line-height: 1; border-radius: 0.35em;\">\n",
              "    a few years ago\n",
              "    <span style=\"font-size: 0.8em; font-weight: bold; line-height: 1; border-radius: 0.35em; vertical-align: middle; margin-left: 0.5rem\">DATE</span>\n",
              "</mark>\n",
              ". \n",
              "<mark class=\"entity\" style=\"background: #7aecec; padding: 0.45em 0.6em; margin: 0 0.25em; line-height: 1; border-radius: 0.35em;\">\n",
              "    AI\n",
              "    <span style=\"font-size: 0.8em; font-weight: bold; line-height: 1; border-radius: 0.35em; vertical-align: middle; margin-left: 0.5rem\">ORG</span>\n",
              "</mark>\n",
              " even excels at cognitive tasks like programming where it is able to generate programs for simple video games from human instructions.</br></br>Yet while these stunts may be attention grabbing, are they really indicative of what this tech can do for businesses?</br></br>What NLP Can Do</br></br>The best known natural language processing tool is \n",
              "<mark class=\"entity\" style=\"background: #7aecec; padding: 0.45em 0.6em; margin: 0 0.25em; line-height: 1; border-radius: 0.35em;\">\n",
              "    GPT-3\n",
              "    <span style=\"font-size: 0.8em; font-weight: bold; line-height: 1; border-radius: 0.35em; vertical-align: middle; margin-left: 0.5rem\">ORG</span>\n",
              "</mark>\n",
              ", from \n",
              "<mark class=\"entity\" style=\"background: #feca74; padding: 0.45em 0.6em; margin: 0 0.25em; line-height: 1; border-radius: 0.35em;\">\n",
              "    OpenAI\n",
              "    <span style=\"font-size: 0.8em; font-weight: bold; line-height: 1; border-radius: 0.35em; vertical-align: middle; margin-left: 0.5rem\">GPE</span>\n",
              "</mark>\n",
              ", which uses \n",
              "<mark class=\"entity\" style=\"background: #7aecec; padding: 0.45em 0.6em; margin: 0 0.25em; line-height: 1; border-radius: 0.35em;\">\n",
              "    AI\n",
              "    <span style=\"font-size: 0.8em; font-weight: bold; line-height: 1; border-radius: 0.35em; vertical-align: middle; margin-left: 0.5rem\">ORG</span>\n",
              "</mark>\n",
              " and statistics to predict the next word in a sentence based on the preceding words. \n",
              "<mark class=\"entity\" style=\"background: #7aecec; padding: 0.45em 0.6em; margin: 0 0.25em; line-height: 1; border-radius: 0.35em;\">\n",
              "    NLP\n",
              "    <span style=\"font-size: 0.8em; font-weight: bold; line-height: 1; border-radius: 0.35em; vertical-align: middle; margin-left: 0.5rem\">ORG</span>\n",
              "</mark>\n",
              " practitioners call tools like this “language models,” and they can be used for simple analytics tasks, such as classifying documents and analyzing the sentiment in blocks of text, as well as more advanced tasks, such as answering questions and summarizing reports. Language models are already reshaping traditional text analytics, but GPT-3 was an especially pivotal language model because, at \n",
              "<mark class=\"entity\" style=\"background: #bfe1d9; padding: 0.45em 0.6em; margin: 0 0.25em; line-height: 1; border-radius: 0.35em;\">\n",
              "    10x\n",
              "    <span style=\"font-size: 0.8em; font-weight: bold; line-height: 1; border-radius: 0.35em; vertical-align: middle; margin-left: 0.5rem\">DATE</span>\n",
              "</mark>\n",
              " larger than any previous model upon release, it was the first , which enabled it to perform even more advanced tasks like programming and solving high school–level math problems. The latest version, called \n",
              "<mark class=\"entity\" style=\"background: #7aecec; padding: 0.45em 0.6em; margin: 0 0.25em; line-height: 1; border-radius: 0.35em;\">\n",
              "    InstructGPT\n",
              "    <span style=\"font-size: 0.8em; font-weight: bold; line-height: 1; border-radius: 0.35em; vertical-align: middle; margin-left: 0.5rem\">ORG</span>\n",
              "</mark>\n",
              ", has been fine-tuned by humans to generate responses that are much better aligned with human values and user intentions, and \n",
              "<mark class=\"entity\" style=\"background: #7aecec; padding: 0.45em 0.6em; margin: 0 0.25em; line-height: 1; border-radius: 0.35em;\">\n",
              "    Google\n",
              "    <span style=\"font-size: 0.8em; font-weight: bold; line-height: 1; border-radius: 0.35em; vertical-align: middle; margin-left: 0.5rem\">ORG</span>\n",
              "</mark>\n",
              "’s latest model shows further impressive breakthroughs on language and reasoning.</br></br>For businesses, the \n",
              "<mark class=\"entity\" style=\"background: #e4e7d2; padding: 0.45em 0.6em; margin: 0 0.25em; line-height: 1; border-radius: 0.35em;\">\n",
              "    three\n",
              "    <span style=\"font-size: 0.8em; font-weight: bold; line-height: 1; border-radius: 0.35em; vertical-align: middle; margin-left: 0.5rem\">CARDINAL</span>\n",
              "</mark>\n",
              " areas where \n",
              "<mark class=\"entity\" style=\"background: #7aecec; padding: 0.45em 0.6em; margin: 0 0.25em; line-height: 1; border-radius: 0.35em;\">\n",
              "    GPT-3\n",
              "    <span style=\"font-size: 0.8em; font-weight: bold; line-height: 1; border-radius: 0.35em; vertical-align: middle; margin-left: 0.5rem\">ORG</span>\n",
              "</mark>\n",
              " has appeared most promising are writing, coding, and discipline-specific reasoning. \n",
              "<mark class=\"entity\" style=\"background: #7aecec; padding: 0.45em 0.6em; margin: 0 0.25em; line-height: 1; border-radius: 0.35em;\">\n",
              "    OpenAI\n",
              "    <span style=\"font-size: 0.8em; font-weight: bold; line-height: 1; border-radius: 0.35em; vertical-align: middle; margin-left: 0.5rem\">ORG</span>\n",
              "</mark>\n",
              ", the \n",
              "<mark class=\"entity\" style=\"background: #7aecec; padding: 0.45em 0.6em; margin: 0 0.25em; line-height: 1; border-radius: 0.35em;\">\n",
              "    Microsoft\n",
              "    <span style=\"font-size: 0.8em; font-weight: bold; line-height: 1; border-radius: 0.35em; vertical-align: middle; margin-left: 0.5rem\">ORG</span>\n",
              "</mark>\n",
              "-funded creator of \n",
              "<mark class=\"entity\" style=\"background: #7aecec; padding: 0.45em 0.6em; margin: 0 0.25em; line-height: 1; border-radius: 0.35em;\">\n",
              "    GPT-3\n",
              "    <span style=\"font-size: 0.8em; font-weight: bold; line-height: 1; border-radius: 0.35em; vertical-align: middle; margin-left: 0.5rem\">ORG</span>\n",
              "</mark>\n",
              ", has developed a \n",
              "<mark class=\"entity\" style=\"background: #7aecec; padding: 0.45em 0.6em; margin: 0 0.25em; line-height: 1; border-radius: 0.35em;\">\n",
              "    GPT-3\n",
              "    <span style=\"font-size: 0.8em; font-weight: bold; line-height: 1; border-radius: 0.35em; vertical-align: middle; margin-left: 0.5rem\">ORG</span>\n",
              "</mark>\n",
              "-based language model intended to act as an assistant for programmers by generating code from natural language input. This tool, Codex, is already powering products like Copilot for \n",
              "<mark class=\"entity\" style=\"background: #7aecec; padding: 0.45em 0.6em; margin: 0 0.25em; line-height: 1; border-radius: 0.35em;\">\n",
              "    Microsoft\n",
              "    <span style=\"font-size: 0.8em; font-weight: bold; line-height: 1; border-radius: 0.35em; vertical-align: middle; margin-left: 0.5rem\">ORG</span>\n",
              "</mark>\n",
              "’s subsidiary \n",
              "<mark class=\"entity\" style=\"background: #7aecec; padding: 0.45em 0.6em; margin: 0 0.25em; line-height: 1; border-radius: 0.35em;\">\n",
              "    GitHub\n",
              "    <span style=\"font-size: 0.8em; font-weight: bold; line-height: 1; border-radius: 0.35em; vertical-align: middle; margin-left: 0.5rem\">ORG</span>\n",
              "</mark>\n",
              " and is capable of creating a basic video game simply by typing instructions. This transformative capability was already expected to change the nature of how programmers do their jobs, but models continue to improve — the latest from \n",
              "<mark class=\"entity\" style=\"background: #7aecec; padding: 0.45em 0.6em; margin: 0 0.25em; line-height: 1; border-radius: 0.35em;\">\n",
              "    Google’s\n",
              "    <span style=\"font-size: 0.8em; font-weight: bold; line-height: 1; border-radius: 0.35em; vertical-align: middle; margin-left: 0.5rem\">ORG</span>\n",
              "</mark>\n",
              " DeepMind AI lab, for example, demonstrates the critical thinking and logic skills necessary to outperform most humans in programming competitions.</br></br>Models like GPT-3 are considered to be foundation models — an emerging AI research area — which also work for other types of data such as images and video. Foundation models can even be trained on multiple forms of data at the same time, like \n",
              "<mark class=\"entity\" style=\"background: #7aecec; padding: 0.45em 0.6em; margin: 0 0.25em; line-height: 1; border-radius: 0.35em;\">\n",
              "    OpenAI\n",
              "    <span style=\"font-size: 0.8em; font-weight: bold; line-height: 1; border-radius: 0.35em; vertical-align: middle; margin-left: 0.5rem\">ORG</span>\n",
              "</mark>\n",
              "’s DALL·E \n",
              "<mark class=\"entity\" style=\"background: #e4e7d2; padding: 0.45em 0.6em; margin: 0 0.25em; line-height: 1; border-radius: 0.35em;\">\n",
              "    2\n",
              "    <span style=\"font-size: 0.8em; font-weight: bold; line-height: 1; border-radius: 0.35em; vertical-align: middle; margin-left: 0.5rem\">CARDINAL</span>\n",
              "</mark>\n",
              ", which is trained on language and images to generate high-resolution renderings of imaginary scenes or objects simply from text prompts. Due to their potential to transform the nature of cognitive work, economists expect that foundation models may affect every part of the economy and could lead to increases in economic growth similar to the industrial revolution.</br></br>In my own work, I’ve been looking at how GPT-3-based tools can assist researchers in the research process. I am currently working with \n",
              "<mark class=\"entity\" style=\"background: #7aecec; padding: 0.45em 0.6em; margin: 0 0.25em; line-height: 1; border-radius: 0.35em;\">\n",
              "    Ought\n",
              "    <span style=\"font-size: 0.8em; font-weight: bold; line-height: 1; border-radius: 0.35em; vertical-align: middle; margin-left: 0.5rem\">ORG</span>\n",
              "</mark>\n",
              ", a \n",
              "<mark class=\"entity\" style=\"background: #feca74; padding: 0.45em 0.6em; margin: 0 0.25em; line-height: 1; border-radius: 0.35em;\">\n",
              "    San Francisco\n",
              "    <span style=\"font-size: 0.8em; font-weight: bold; line-height: 1; border-radius: 0.35em; vertical-align: middle; margin-left: 0.5rem\">GPE</span>\n",
              "</mark>\n",
              " company developing an open-ended reasoning tool (called \n",
              "<mark class=\"entity\" style=\"background: #7aecec; padding: 0.45em 0.6em; margin: 0 0.25em; line-height: 1; border-radius: 0.35em;\">\n",
              "    Elicit\n",
              "    <span style=\"font-size: 0.8em; font-weight: bold; line-height: 1; border-radius: 0.35em; vertical-align: middle; margin-left: 0.5rem\">ORG</span>\n",
              "</mark>\n",
              ") that is intended to help researchers answer questions in \n",
              "<mark class=\"entity\" style=\"background: #bfe1d9; padding: 0.45em 0.6em; margin: 0 0.25em; line-height: 1; border-radius: 0.35em;\">\n",
              "    minutes or hours\n",
              "    <span style=\"font-size: 0.8em; font-weight: bold; line-height: 1; border-radius: 0.35em; vertical-align: middle; margin-left: 0.5rem\">TIME</span>\n",
              "</mark>\n",
              " instead of \n",
              "<mark class=\"entity\" style=\"background: #bfe1d9; padding: 0.45em 0.6em; margin: 0 0.25em; line-height: 1; border-radius: 0.35em;\">\n",
              "    weeks\n",
              "    <span style=\"font-size: 0.8em; font-weight: bold; line-height: 1; border-radius: 0.35em; vertical-align: middle; margin-left: 0.5rem\">DATE</span>\n",
              "</mark>\n",
              " or \n",
              "<mark class=\"entity\" style=\"background: #bfe1d9; padding: 0.45em 0.6em; margin: 0 0.25em; line-height: 1; border-radius: 0.35em;\">\n",
              "    months\n",
              "    <span style=\"font-size: 0.8em; font-weight: bold; line-height: 1; border-radius: 0.35em; vertical-align: middle; margin-left: 0.5rem\">DATE</span>\n",
              "</mark>\n",
              ". Elicit is designed for a growing number of specific tasks relevant to research, like summarization, data labeling, rephrasing, brainstorming, and literature reviews.</br></br>I’ve found — not surprisingly — that \n",
              "<mark class=\"entity\" style=\"background: #aa9cfc; padding: 0.45em 0.6em; margin: 0 0.25em; line-height: 1; border-radius: 0.35em;\">\n",
              "    Elicit\n",
              "    <span style=\"font-size: 0.8em; font-weight: bold; line-height: 1; border-radius: 0.35em; vertical-align: middle; margin-left: 0.5rem\">PERSON</span>\n",
              "</mark>\n",
              " works better for some tasks than others. Tasks like data labeling and summarization are still rough around the edges, with noisy results and spotty accuracy, but research from Ought and research from \n",
              "<mark class=\"entity\" style=\"background: #feca74; padding: 0.45em 0.6em; margin: 0 0.25em; line-height: 1; border-radius: 0.35em;\">\n",
              "    OpenAI\n",
              "    <span style=\"font-size: 0.8em; font-weight: bold; line-height: 1; border-radius: 0.35em; vertical-align: middle; margin-left: 0.5rem\">GPE</span>\n",
              "</mark>\n",
              " shows promise for the future.</br></br>For example, the rephrase task is useful for writing, but the lack of integration with word processing apps renders it impractical for now. Brainstorming tasks are great for generating ideas or identifying overlooked topics, and despite the noisy results and barriers to adoption, they are currently valuable for a variety of situations. Yet, of all the tasks \n",
              "<mark class=\"entity\" style=\"background: #bfeeb7; padding: 0.45em 0.6em; margin: 0 0.25em; line-height: 1; border-radius: 0.35em;\">\n",
              "    Elicit\n",
              "    <span style=\"font-size: 0.8em; font-weight: bold; line-height: 1; border-radius: 0.35em; vertical-align: middle; margin-left: 0.5rem\">PRODUCT</span>\n",
              "</mark>\n",
              " offers, I find the literature review the most useful. Because \n",
              "<mark class=\"entity\" style=\"background: #aa9cfc; padding: 0.45em 0.6em; margin: 0 0.25em; line-height: 1; border-radius: 0.35em;\">\n",
              "    Elicit\n",
              "    <span style=\"font-size: 0.8em; font-weight: bold; line-height: 1; border-radius: 0.35em; vertical-align: middle; margin-left: 0.5rem\">PERSON</span>\n",
              "</mark>\n",
              " is an AI research assistant, this is sort of its bread-and-butter, and when I need to start digging into a new research topic, it has become my go-to resource.</br></br>All of this is changing how I work. I spend much less time trying to find existing content relevant to my research questions because its results are more applicable than other, more traditional interfaces for academic search like \n",
              "<mark class=\"entity\" style=\"background: #7aecec; padding: 0.45em 0.6em; margin: 0 0.25em; line-height: 1; border-radius: 0.35em;\">\n",
              "    Google Scholar\n",
              "    <span style=\"font-size: 0.8em; font-weight: bold; line-height: 1; border-radius: 0.35em; vertical-align: middle; margin-left: 0.5rem\">ORG</span>\n",
              "</mark>\n",
              ". I am also beginning to integrate brainstorming tasks into my work as well, and my experience with these tools has inspired my latest research, which seeks to utilize foundation models for supporting strategic planning.</br></br>How Can Organizations Prepare for the Future?</br></br>Identify your text data assets and determine how the latest techniques can be leveraged to add value for your firm.</br></br>You are certainly aware of the value of data, but you still may be overlooking some essential data assets if you are not utilizing text analytics and \n",
              "<mark class=\"entity\" style=\"background: #7aecec; padding: 0.45em 0.6em; margin: 0 0.25em; line-height: 1; border-radius: 0.35em;\">\n",
              "    NLP\n",
              "    <span style=\"font-size: 0.8em; font-weight: bold; line-height: 1; border-radius: 0.35em; vertical-align: middle; margin-left: 0.5rem\">ORG</span>\n",
              "</mark>\n",
              " throughout your organization. Text data is certainly valuable for customer experience management and understanding the voice of the customer, but think about other text data assets in your organization: emails, analysts’ reports, contracts, press releases, archives — even meetings and phone calls can be transcribed.</br></br>There is so much text data, and you don’t need advanced models like \n",
              "<mark class=\"entity\" style=\"background: #7aecec; padding: 0.45em 0.6em; margin: 0 0.25em; line-height: 1; border-radius: 0.35em;\">\n",
              "    GPT-3\n",
              "    <span style=\"font-size: 0.8em; font-weight: bold; line-height: 1; border-radius: 0.35em; vertical-align: middle; margin-left: 0.5rem\">ORG</span>\n",
              "</mark>\n",
              " to extract its value. Hugging Face, an \n",
              "<mark class=\"entity\" style=\"background: #7aecec; padding: 0.45em 0.6em; margin: 0 0.25em; line-height: 1; border-radius: 0.35em;\">\n",
              "    NLP\n",
              "    <span style=\"font-size: 0.8em; font-weight: bold; line-height: 1; border-radius: 0.35em; vertical-align: middle; margin-left: 0.5rem\">ORG</span>\n",
              "</mark>\n",
              " startup, recently released AutoNLP, a new tool that automates training models for standard text analytics tasks by simply uploading your data to the platform. The data still needs labels, but far fewer than in other applications. Because many firms have made ambitious bets on \n",
              "<mark class=\"entity\" style=\"background: #7aecec; padding: 0.45em 0.6em; margin: 0 0.25em; line-height: 1; border-radius: 0.35em;\">\n",
              "    AI\n",
              "    <span style=\"font-size: 0.8em; font-weight: bold; line-height: 1; border-radius: 0.35em; vertical-align: middle; margin-left: 0.5rem\">ORG</span>\n",
              "</mark>\n",
              " only to struggle to drive value into the core business, remain cautious to not be overzealous. This can be a good \n",
              "<mark class=\"entity\" style=\"background: #e4e7d2; padding: 0.45em 0.6em; margin: 0 0.25em; line-height: 1; border-radius: 0.35em;\">\n",
              "    first\n",
              "    <span style=\"font-size: 0.8em; font-weight: bold; line-height: 1; border-radius: 0.35em; vertical-align: middle; margin-left: 0.5rem\">ORDINAL</span>\n",
              "</mark>\n",
              " step that your existing machine learning engineers — or even talented data scientists — can manage.</br></br>To take the next step, again, identify your data assets. Many sectors, and even divisions within your organization, use highly specialized vocabularies. Through a combination of your data assets and open datasets, train a model for the needs of specific sectors or divisions. Think of finance. You do not want a model specialized in finance. You want a model customized for commercial banking, or for capital markets. And data is critical, but now it is unlabeled data, and the more the better. Specialized models like this can unlock untold value for your firm.</br></br>Understand how you might leverage \n",
              "<mark class=\"entity\" style=\"background: #7aecec; padding: 0.45em 0.6em; margin: 0 0.25em; line-height: 1; border-radius: 0.35em;\">\n",
              "    AI\n",
              "    <span style=\"font-size: 0.8em; font-weight: bold; line-height: 1; border-radius: 0.35em; vertical-align: middle; margin-left: 0.5rem\">ORG</span>\n",
              "</mark>\n",
              "-based language technologies to make better decisions or reorganize your skilled labor.</br></br>Language-based \n",
              "<mark class=\"entity\" style=\"background: #7aecec; padding: 0.45em 0.6em; margin: 0 0.25em; line-height: 1; border-radius: 0.35em;\">\n",
              "    AI\n",
              "    <span style=\"font-size: 0.8em; font-weight: bold; line-height: 1; border-radius: 0.35em; vertical-align: middle; margin-left: 0.5rem\">ORG</span>\n",
              "</mark>\n",
              " won’t replace jobs, but it will automate many tasks, even for decision makers. Startups like \n",
              "<mark class=\"entity\" style=\"background: #feca74; padding: 0.45em 0.6em; margin: 0 0.25em; line-height: 1; border-radius: 0.35em;\">\n",
              "    Verneek\n",
              "    <span style=\"font-size: 0.8em; font-weight: bold; line-height: 1; border-radius: 0.35em; vertical-align: middle; margin-left: 0.5rem\">GPE</span>\n",
              "</mark>\n",
              " are creating Elicit-like tools to enable everyone to make data-informed decisions. These new tools will transcend traditional business intelligence and will transform the nature of many roles in organizations — programmers are just the beginning.</br></br>You need to start understanding how these technologies can be used to reorganize your skilled labor. The next generation of tools like \n",
              "<mark class=\"entity\" style=\"background: #7aecec; padding: 0.45em 0.6em; margin: 0 0.25em; line-height: 1; border-radius: 0.35em;\">\n",
              "    OpenAI\n",
              "    <span style=\"font-size: 0.8em; font-weight: bold; line-height: 1; border-radius: 0.35em; vertical-align: middle; margin-left: 0.5rem\">ORG</span>\n",
              "</mark>\n",
              "’s Codex will lead to more productive programmers, which likely means fewer dedicated programmers and more employees with modest programming skills using them for an increasing number of more complex tasks. This may not be true for all software developers, but it has significant implications for tasks like data processing and web development.</br></br>Begin incorporating new language-based \n",
              "<mark class=\"entity\" style=\"background: #7aecec; padding: 0.45em 0.6em; margin: 0 0.25em; line-height: 1; border-radius: 0.35em;\">\n",
              "    AI\n",
              "    <span style=\"font-size: 0.8em; font-weight: bold; line-height: 1; border-radius: 0.35em; vertical-align: middle; margin-left: 0.5rem\">ORG</span>\n",
              "</mark>\n",
              " tools for a variety of tasks to better understand their capabilities.</br></br>Right now tools like \n",
              "<mark class=\"entity\" style=\"background: #7aecec; padding: 0.45em 0.6em; margin: 0 0.25em; line-height: 1; border-radius: 0.35em;\">\n",
              "    Elicit\n",
              "    <span style=\"font-size: 0.8em; font-weight: bold; line-height: 1; border-radius: 0.35em; vertical-align: middle; margin-left: 0.5rem\">ORG</span>\n",
              "</mark>\n",
              " are just emerging, but they can already be useful in surprising ways. In fact, the previous suggestion was inspired by one of \n",
              "<mark class=\"entity\" style=\"background: #7aecec; padding: 0.45em 0.6em; margin: 0 0.25em; line-height: 1; border-radius: 0.35em;\">\n",
              "    Elicit\n",
              "    <span style=\"font-size: 0.8em; font-weight: bold; line-height: 1; border-radius: 0.35em; vertical-align: middle; margin-left: 0.5rem\">ORG</span>\n",
              "</mark>\n",
              "’s brainstorming tasks conditioned on my other \n",
              "<mark class=\"entity\" style=\"background: #e4e7d2; padding: 0.45em 0.6em; margin: 0 0.25em; line-height: 1; border-radius: 0.35em;\">\n",
              "    three\n",
              "    <span style=\"font-size: 0.8em; font-weight: bold; line-height: 1; border-radius: 0.35em; vertical-align: middle; margin-left: 0.5rem\">CARDINAL</span>\n",
              "</mark>\n",
              " suggestions. The original suggestion itself wasn’t perfect, but it reminded me of some critical topics that I had overlooked, and I revised the article accordingly. In organizations, tasks like this can assist strategic thinking or scenario-planning exercises. Although there is tremendous potential for such applications, right now the results are still relatively crude, but they can already add value in their current state.</br></br>The bottom line is that you need to encourage broad adoption of language-based \n",
              "<mark class=\"entity\" style=\"background: #7aecec; padding: 0.45em 0.6em; margin: 0 0.25em; line-height: 1; border-radius: 0.35em;\">\n",
              "    AI\n",
              "    <span style=\"font-size: 0.8em; font-weight: bold; line-height: 1; border-radius: 0.35em; vertical-align: middle; margin-left: 0.5rem\">ORG</span>\n",
              "</mark>\n",
              " tools throughout your business. It is difficult to anticipate just how these tools might be used at different levels of your organization, but the best way to get an understanding of this tech may be for you and other leaders in your firm to adopt it yourselves. Don’t bet the boat on it because some of the tech may not work out, but if your team gains a better understanding of what is possible, then you will be ahead of the competition. Remember that while current AI might not be poised to replace managers, managers who understand \n",
              "<mark class=\"entity\" style=\"background: #7aecec; padding: 0.45em 0.6em; margin: 0 0.25em; line-height: 1; border-radius: 0.35em;\">\n",
              "    AI\n",
              "    <span style=\"font-size: 0.8em; font-weight: bold; line-height: 1; border-radius: 0.35em; vertical-align: middle; margin-left: 0.5rem\">ORG</span>\n",
              "</mark>\n",
              " are poised to replace managers who don’t.</br></br>Do not underestimate the transformative potential of \n",
              "<mark class=\"entity\" style=\"background: #7aecec; padding: 0.45em 0.6em; margin: 0 0.25em; line-height: 1; border-radius: 0.35em;\">\n",
              "    AI\n",
              "    <span style=\"font-size: 0.8em; font-weight: bold; line-height: 1; border-radius: 0.35em; vertical-align: middle; margin-left: 0.5rem\">ORG</span>\n",
              "</mark>\n",
              ".</br></br>Large foundation models like GPT-3 exhibit abilities to generalize to a large number of tasks without any task-specific training. The recent progress in this tech is a significant step toward human-level generalization and general artificial intelligence that are the ultimate goals of many \n",
              "<mark class=\"entity\" style=\"background: #7aecec; padding: 0.45em 0.6em; margin: 0 0.25em; line-height: 1; border-radius: 0.35em;\">\n",
              "    AI\n",
              "    <span style=\"font-size: 0.8em; font-weight: bold; line-height: 1; border-radius: 0.35em; vertical-align: middle; margin-left: 0.5rem\">ORG</span>\n",
              "</mark>\n",
              " researchers, including those at \n",
              "<mark class=\"entity\" style=\"background: #7aecec; padding: 0.45em 0.6em; margin: 0 0.25em; line-height: 1; border-radius: 0.35em;\">\n",
              "    OpenAI\n",
              "    <span style=\"font-size: 0.8em; font-weight: bold; line-height: 1; border-radius: 0.35em; vertical-align: middle; margin-left: 0.5rem\">ORG</span>\n",
              "</mark>\n",
              " and \n",
              "<mark class=\"entity\" style=\"background: #7aecec; padding: 0.45em 0.6em; margin: 0 0.25em; line-height: 1; border-radius: 0.35em;\">\n",
              "    Google’s DeepMind\n",
              "    <span style=\"font-size: 0.8em; font-weight: bold; line-height: 1; border-radius: 0.35em; vertical-align: middle; margin-left: 0.5rem\">ORG</span>\n",
              "</mark>\n",
              ". Such systems have tremendous disruptive potential that could lead to \n",
              "<mark class=\"entity\" style=\"background: #7aecec; padding: 0.45em 0.6em; margin: 0 0.25em; line-height: 1; border-radius: 0.35em;\">\n",
              "    AI\n",
              "    <span style=\"font-size: 0.8em; font-weight: bold; line-height: 1; border-radius: 0.35em; vertical-align: middle; margin-left: 0.5rem\">ORG</span>\n",
              "</mark>\n",
              "-driven explosive economic growth, which would radically transform business and society. While you may still be skeptical of radically transformative AI like artificial general intelligence, it is prudent for organizations’ leaders to be cognizant of early signs of progress due to its tremendous disruptive potential.</br></br>Consider that former \n",
              "<mark class=\"entity\" style=\"background: #7aecec; padding: 0.45em 0.6em; margin: 0 0.25em; line-height: 1; border-radius: 0.35em;\">\n",
              "    Google\n",
              "    <span style=\"font-size: 0.8em; font-weight: bold; line-height: 1; border-radius: 0.35em; vertical-align: middle; margin-left: 0.5rem\">ORG</span>\n",
              "</mark>\n",
              " chief \n",
              "<mark class=\"entity\" style=\"background: #aa9cfc; padding: 0.45em 0.6em; margin: 0 0.25em; line-height: 1; border-radius: 0.35em;\">\n",
              "    Eric Schmidt\n",
              "    <span style=\"font-size: 0.8em; font-weight: bold; line-height: 1; border-radius: 0.35em; vertical-align: middle; margin-left: 0.5rem\">PERSON</span>\n",
              "</mark>\n",
              " expects general artificial intelligence in \n",
              "<mark class=\"entity\" style=\"background: #bfe1d9; padding: 0.45em 0.6em; margin: 0 0.25em; line-height: 1; border-radius: 0.35em;\">\n",
              "    10–20 years\n",
              "    <span style=\"font-size: 0.8em; font-weight: bold; line-height: 1; border-radius: 0.35em; vertical-align: middle; margin-left: 0.5rem\">DATE</span>\n",
              "</mark>\n",
              " and that the \n",
              "<mark class=\"entity\" style=\"background: #feca74; padding: 0.45em 0.6em; margin: 0 0.25em; line-height: 1; border-radius: 0.35em;\">\n",
              "    UK\n",
              "    <span style=\"font-size: 0.8em; font-weight: bold; line-height: 1; border-radius: 0.35em; vertical-align: middle; margin-left: 0.5rem\">GPE</span>\n",
              "</mark>\n",
              " recently took an official position on risks from artificial general intelligence. Had organizations paid attention to \n",
              "<mark class=\"entity\" style=\"background: #aa9cfc; padding: 0.45em 0.6em; margin: 0 0.25em; line-height: 1; border-radius: 0.35em;\">\n",
              "    Anthony Fauci’s\n",
              "    <span style=\"font-size: 0.8em; font-weight: bold; line-height: 1; border-radius: 0.35em; vertical-align: middle; margin-left: 0.5rem\">PERSON</span>\n",
              "</mark>\n",
              " \n",
              "<mark class=\"entity\" style=\"background: #bfe1d9; padding: 0.45em 0.6em; margin: 0 0.25em; line-height: 1; border-radius: 0.35em;\">\n",
              "    2017\n",
              "    <span style=\"font-size: 0.8em; font-weight: bold; line-height: 1; border-radius: 0.35em; vertical-align: middle; margin-left: 0.5rem\">DATE</span>\n",
              "</mark>\n",
              " warning on the importance of pandemic preparedness, the most severe effects of the pandemic and ensuing supply chain crisis may have been avoided. Ignoring the transformative potential of \n",
              "<mark class=\"entity\" style=\"background: #7aecec; padding: 0.45em 0.6em; margin: 0 0.25em; line-height: 1; border-radius: 0.35em;\">\n",
              "    AI\n",
              "    <span style=\"font-size: 0.8em; font-weight: bold; line-height: 1; border-radius: 0.35em; vertical-align: middle; margin-left: 0.5rem\">ORG</span>\n",
              "</mark>\n",
              " also carries risks, and similar to the supply chain crisis, firms’ inaction or irresponsible use of AI could have widespread and damaging effects on society (e.g., increasing inequality or domain-specific risks from automation). However, unlike the supply chain crisis, societal changes from transformative \n",
              "<mark class=\"entity\" style=\"background: #7aecec; padding: 0.45em 0.6em; margin: 0 0.25em; line-height: 1; border-radius: 0.35em;\">\n",
              "    AI\n",
              "    <span style=\"font-size: 0.8em; font-weight: bold; line-height: 1; border-radius: 0.35em; vertical-align: middle; margin-left: 0.5rem\">ORG</span>\n",
              "</mark>\n",
              " will likely be irreversible and could even continue to accelerate. Organizations should begin preparing now not only to capitalize on transformative \n",
              "<mark class=\"entity\" style=\"background: #7aecec; padding: 0.45em 0.6em; margin: 0 0.25em; line-height: 1; border-radius: 0.35em;\">\n",
              "    AI\n",
              "    <span style=\"font-size: 0.8em; font-weight: bold; line-height: 1; border-radius: 0.35em; vertical-align: middle; margin-left: 0.5rem\">ORG</span>\n",
              "</mark>\n",
              ", but to do their part to avoid undesirable futures and ensure that advanced AI is used to equitably benefit society.</br></br>Language-Based AI Tools Are Here to Stay</br></br>Powerful generalizable language-based \n",
              "<mark class=\"entity\" style=\"background: #7aecec; padding: 0.45em 0.6em; margin: 0 0.25em; line-height: 1; border-radius: 0.35em;\">\n",
              "    AI\n",
              "    <span style=\"font-size: 0.8em; font-weight: bold; line-height: 1; border-radius: 0.35em; vertical-align: middle; margin-left: 0.5rem\">ORG</span>\n",
              "</mark>\n",
              " tools like \n",
              "<mark class=\"entity\" style=\"background: #7aecec; padding: 0.45em 0.6em; margin: 0 0.25em; line-height: 1; border-radius: 0.35em;\">\n",
              "    Elicit\n",
              "    <span style=\"font-size: 0.8em; font-weight: bold; line-height: 1; border-radius: 0.35em; vertical-align: middle; margin-left: 0.5rem\">ORG</span>\n",
              "</mark>\n",
              " are here, and they are just the tip of the iceberg; multimodal foundation model-based tools are poised to transform business in ways that are still difficult to predict. To begin preparing now, start understanding your text data assets and the variety of cognitive tasks involved in different roles in your organization. Aggressively adopt new language-based \n",
              "<mark class=\"entity\" style=\"background: #7aecec; padding: 0.45em 0.6em; margin: 0 0.25em; line-height: 1; border-radius: 0.35em;\">\n",
              "    AI\n",
              "    <span style=\"font-size: 0.8em; font-weight: bold; line-height: 1; border-radius: 0.35em; vertical-align: middle; margin-left: 0.5rem\">ORG</span>\n",
              "</mark>\n",
              " technologies; some will work well and others will not, but your employees will be quicker to adjust when you move on to the next. And don’t forget to adopt these technologies yourself — this is the best way for you to start to understand their future roles in your organization.</div></span>"
            ]
          },
          "metadata": {}
        }
      ],
      "source": [
        "from spacy import displacy\n",
        "displacy.render(document, style='ent', jupyter=True)"
      ]
    },
    {
      "cell_type": "code",
      "execution_count": null,
      "metadata": {
        "colab": {
          "base_uri": "https://localhost:8080/"
        },
        "id": "pXpx-XE8E4TI",
        "outputId": "1d93850c-a4c2-4a29-ec15-b9c9ed55ca74"
      },
      "outputs": [
        {
          "output_type": "stream",
          "name": "stdout",
          "text": [
            "Elicit\n",
            "Elicit\n",
            "Eric Schmidt\n",
            "Anthony Fauci’s\n"
          ]
        }
      ],
      "source": [
        "for entity in document.ents:\n",
        "  if entity.label_ == 'PERSON':\n",
        "    print(entity)"
      ]
    },
    {
      "cell_type": "markdown",
      "metadata": {
        "id": "Q8s3YXBn2zgx"
      },
      "source": [
        "### Most Frequent Words"
      ]
    },
    {
      "cell_type": "code",
      "execution_count": null,
      "metadata": {
        "colab": {
          "base_uri": "https://localhost:8080/"
        },
        "id": "91vuPLuX226g",
        "outputId": "7416d409-4076-4a10-d4a0-f5a8dbee1e92"
      },
      "outputs": [
        {
          "output_type": "stream",
          "name": "stderr",
          "text": [
            "[nltk_data] Downloading package punkt to /root/nltk_data...\n",
            "[nltk_data]   Unzipping tokenizers/punkt.zip.\n"
          ]
        },
        {
          "output_type": "execute_result",
          "data": {
            "text/plain": [
              "True"
            ]
          },
          "metadata": {},
          "execution_count": 15
        }
      ],
      "source": [
        "import nltk.tokenize \n",
        "nltk.download('punkt')"
      ]
    },
    {
      "cell_type": "code",
      "execution_count": null,
      "metadata": {
        "colab": {
          "base_uri": "https://localhost:8080/"
        },
        "id": "l6wX5KNI3TMT",
        "outputId": "98a83705-340c-4d7b-8823-fb33d7b88c09"
      },
      "outputs": [
        {
          "output_type": "execute_result",
          "data": {
            "text/plain": [
              "2262"
            ]
          },
          "metadata": {},
          "execution_count": 16
        }
      ],
      "source": [
        "tokens = nltk.tokenize.word_tokenize(article.cleaned_text)\n",
        "len(tokens)"
      ]
    },
    {
      "cell_type": "code",
      "execution_count": null,
      "metadata": {
        "colab": {
          "base_uri": "https://localhost:8080/"
        },
        "id": "7m2OEL-V30Sp",
        "outputId": "3d2daa1f-0950-4988-a9c5-1e307665f988"
      },
      "outputs": [
        {
          "output_type": "execute_result",
          "data": {
            "text/plain": [
              "[(',', 109),\n",
              " ('.', 79),\n",
              " ('to', 68),\n",
              " ('the', 63),\n",
              " ('and', 54),\n",
              " ('of', 52),\n",
              " ('for', 37),\n",
              " ('AI', 28),\n",
              " ('is', 24),\n",
              " ('’', 23)]"
            ]
          },
          "metadata": {},
          "execution_count": 17
        }
      ],
      "source": [
        "frequency = nltk.FreqDist(tokens)\n",
        "frequency.most_common(10)"
      ]
    },
    {
      "cell_type": "markdown",
      "metadata": {
        "id": "ehleQo6p4t7u"
      },
      "source": [
        "### Word Cloud"
      ]
    },
    {
      "cell_type": "code",
      "execution_count": null,
      "metadata": {
        "colab": {
          "base_uri": "https://localhost:8080/",
          "height": 422
        },
        "id": "ABm5bi7V4w1B",
        "outputId": "41420487-ff71-4f52-b650-7d49f4225254"
      },
      "outputs": [
        {
          "output_type": "display_data",
          "data": {
            "text/plain": [
              "<Figure size 1008x1008 with 1 Axes>"
            ],
            "image/png": "[encoded data removed]"
          },
          "metadata": {
            "needs_background": "light"
          }
        }
      ],
      "source": [
        "from wordcloud import WordCloud\n",
        "import matplotlib.pyplot as plt\n",
        "cloud = WordCloud()\n",
        "clouds = cloud.generate(article.cleaned_text)\n",
        "plt.figure(figsize=(14,14))\n",
        "plt.imshow(clouds)\n",
        "plt.axis('off');"
      ]
    },
    {
      "cell_type": "markdown",
      "metadata": {
        "id": "4I4vst3f6hrp"
      },
      "source": [
        "### Preprocessing the text (Frequency and Word Cloud)"
      ]
    },
    {
      "cell_type": "code",
      "execution_count": null,
      "metadata": {
        "id": "Ta_33Eg76q7D"
      },
      "outputs": [],
      "source": [
        "def preprocessing(sentence):\n",
        "  sentence =  sentence.lower()\n",
        "  tokens = []\n",
        "  tokens = [token.text for token in nlp(sentence) if not (token.is_stop or token.like_num or token.is_punct or token.is_space or len(token)==1)]\n",
        "  tokens = ' '.join([element for element in tokens])\n",
        "  return tokens"
      ]
    },
    {
      "cell_type": "code",
      "execution_count": null,
      "metadata": {
        "colab": {
          "base_uri": "https://localhost:8080/",
          "height": 127
        },
        "id": "8aYwzx5Bf8kY",
        "outputId": "dd7268d8-4b47-43f7-d7b0-9e615c44cfd4"
      },
      "outputs": [
        {
          "output_type": "execute_result",
          "data": {
            "text/plain": [
              "'conventional wisdom ai computers edge humans comes data driven decision making compete qualitative tasks changing natural language processing nlp tools advanced rapidly help writing coding discipline specific reasoning companies want use new tech focus following identify text data assets determine latest techniques leveraged add value firm understand leverage ai based language technologies better decisions reorganize skilled labor begin incorporating new language based ai tools variety tasks better understand capabilities underestimate transformative potential ai recently conventional wisdom ai better humans data driven decision making tasks inferior humans cognitive creative ones past years language based ai advanced leaps bounds changing common notions technology visible advances called natural language processing nlp branch ai focused computers process language like humans write article guardian ai authored blog posts gone viral feats possible years ago ai excels cognitive tasks like programming able generate programs simple video games human instructions stunts attention grabbing indicative tech businesses nlp best known natural language processing tool gpt-3 openai uses ai statistics predict word sentence based preceding words nlp practitioners tools like language models simple analytics tasks classifying documents analyzing sentiment blocks text advanced tasks answering questions summarizing reports language models reshaping traditional text analytics gpt-3 especially pivotal language model 10x larger previous model release enabled perform advanced tasks like programming solving high school level math problems latest version called instructgpt fine tuned humans generate responses better aligned human values user intentions google latest model shows impressive breakthroughs language reasoning businesses areas gpt-3 appeared promising writing coding discipline specific reasoning openai microsoft funded creator gpt-3 developed gpt-3 based language model intended act assistant programmers generating code natural language input tool codex powering products like copilot microsoft subsidiary github capable creating basic video game simply typing instructions transformative capability expected change nature programmers jobs models continue improve latest google deepmind ai lab example demonstrates critical thinking logic skills necessary outperform humans programming competitions models like gpt-3 considered foundation models emerging ai research area work types data images video foundation models trained multiple forms data time like openai dall·e trained language images generate high resolution renderings imaginary scenes objects simply text prompts potential transform nature cognitive work economists expect foundation models affect economy lead increases economic growth similar industrial revolution work looking gpt-3 based tools assist researchers research process currently working ought san francisco company developing open ended reasoning tool called elicit intended help researchers answer questions minutes hours instead weeks months elicit designed growing number specific tasks relevant research like summarization data labeling rephrasing brainstorming literature reviews found surprisingly elicit works better tasks tasks like data labeling summarization rough edges noisy results spotty accuracy research ought research openai shows promise future example rephrase task useful writing lack integration word processing apps renders impractical brainstorming tasks great generating ideas identifying overlooked topics despite noisy results barriers adoption currently valuable variety situations tasks elicit offers find literature review useful elicit ai research assistant sort bread butter need start digging new research topic resource changing work spend time trying find existing content relevant research questions results applicable traditional interfaces academic search like google scholar beginning integrate brainstorming tasks work experience tools inspired latest research seeks utilize foundation models supporting strategic planning organizations prepare future identify text data assets determine latest techniques leveraged add value firm certainly aware value data overlooking essential data assets utilizing text analytics nlp organization text data certainly valuable customer experience management understanding voice customer think text data assets organization emails analysts reports contracts press releases archives meetings phone calls transcribed text data need advanced models like gpt-3 extract value hugging face nlp startup recently released autonlp new tool automates training models standard text analytics tasks simply uploading data platform data needs labels far fewer applications firms ambitious bets ai struggle drive value core business remain cautious overzealous good step existing machine learning engineers talented data scientists manage step identify data assets sectors divisions organization use highly specialized vocabularies combination data assets open datasets train model needs specific sectors divisions think finance want model specialized finance want model customized commercial banking capital markets data critical unlabeled data better specialized models like unlock untold value firm understand leverage ai based language technologies better decisions reorganize skilled labor language based ai wo replace jobs automate tasks decision makers startups like verneek creating elicit like tools enable data informed decisions new tools transcend traditional business intelligence transform nature roles organizations programmers beginning need start understanding technologies reorganize skilled labor generation tools like openai codex lead productive programmers likely means fewer dedicated programmers employees modest programming skills increasing number complex tasks true software developers significant implications tasks like data processing web development begin incorporating new language based ai tools variety tasks better understand capabilities right tools like elicit emerging useful surprising ways fact previous suggestion inspired elicit brainstorming tasks conditioned suggestions original suggestion perfect reminded critical topics overlooked revised article accordingly organizations tasks like assist strategic thinking scenario planning exercises tremendous potential applications right results relatively crude add value current state line need encourage broad adoption language based ai tools business difficult anticipate tools different levels organization best way understanding tech leaders firm adopt bet boat tech work team gains better understanding possible ahead competition remember current ai poised replace managers managers understand ai poised replace managers underestimate transformative potential ai large foundation models like gpt-3 exhibit abilities generalize large number tasks task specific training recent progress tech significant step human level generalization general artificial intelligence ultimate goals ai researchers including openai google deepmind systems tremendous disruptive potential lead ai driven explosive economic growth radically transform business society skeptical radically transformative ai like artificial general intelligence prudent organizations leaders cognizant early signs progress tremendous disruptive potential consider google chief eric schmidt expects general artificial intelligence 10–20 years uk recently took official position risks artificial general intelligence organizations paid attention anthony fauci warning importance pandemic preparedness severe effects pandemic ensuing supply chain crisis avoided ignoring transformative potential ai carries risks similar supply chain crisis firms inaction irresponsible use ai widespread damaging effects society e.g. increasing inequality domain specific risks automation unlike supply chain crisis societal changes transformative ai likely irreversible continue accelerate organizations begin preparing capitalize transformative ai avoid undesirable futures ensure advanced ai equitably benefit society language based ai tools stay powerful generalizable language based ai tools like elicit tip iceberg multimodal foundation model based tools poised transform business ways difficult predict begin preparing start understanding text data assets variety cognitive tasks involved different roles organization aggressively adopt new language based ai technologies work employees quicker adjust forget adopt technologies best way start understand future roles organization'"
            ],
            "application/vnd.google.colaboratory.intrinsic+json": {
              "type": "string"
            }
          },
          "metadata": {},
          "execution_count": 20
        }
      ],
      "source": [
        "article_cleaned = preprocessing(article.cleaned_text)\n",
        "article_cleaned"
      ]
    },
    {
      "cell_type": "code",
      "execution_count": null,
      "metadata": {
        "colab": {
          "base_uri": "https://localhost:8080/"
        },
        "id": "2ZV8h3C9gLu1",
        "outputId": "4160bac2-a4e5-4e7c-fab8-f7a37fb7073c"
      },
      "outputs": [
        {
          "output_type": "execute_result",
          "data": {
            "text/plain": [
              "(12799, 8631)"
            ]
          },
          "metadata": {},
          "execution_count": 21
        }
      ],
      "source": [
        "len(article.cleaned_text), len(article_cleaned)"
      ]
    },
    {
      "cell_type": "code",
      "execution_count": null,
      "metadata": {
        "colab": {
          "base_uri": "https://localhost:8080/"
        },
        "id": "0e-LiPjcgVC9",
        "outputId": "c37ec76d-0bf5-4b85-907a-4295c9a1107b"
      },
      "outputs": [
        {
          "output_type": "execute_result",
          "data": {
            "text/plain": [
              "[('ai', 32),\n",
              " ('data', 23),\n",
              " ('tasks', 22),\n",
              " ('language', 21),\n",
              " ('like', 21),\n",
              " ('tools', 15),\n",
              " ('based', 14),\n",
              " ('models', 12),\n",
              " ('text', 11),\n",
              " ('better', 9),\n",
              " ('gpt-3', 9),\n",
              " ('research', 9),\n",
              " ('elicit', 9),\n",
              " ('model', 8),\n",
              " ('new', 7),\n",
              " ('assets', 7),\n",
              " ('value', 7),\n",
              " ('transformative', 7),\n",
              " ('potential', 7),\n",
              " ('work', 7)]"
            ]
          },
          "metadata": {},
          "execution_count": 22
        }
      ],
      "source": [
        "tokens = nltk.tokenize.word_tokenize(article_cleaned)\n",
        "frequency = nltk.FreqDist(tokens)\n",
        "frequency.most_common(20)"
      ]
    },
    {
      "cell_type": "code",
      "execution_count": null,
      "metadata": {
        "colab": {
          "base_uri": "https://localhost:8080/",
          "height": 422
        },
        "id": "aEe08IHvgl-4",
        "outputId": "5baa0cbb-04d7-47fd-ac11-6566728f087f"
      },
      "outputs": [
        {
          "output_type": "display_data",
          "data": {
            "text/plain": [
              "<Figure size 1008x1008 with 1 Axes>"
            ],
            "image/png": "[encoded data removed]"
          },
          "metadata": {
            "needs_background": "light"
          }
        }
      ],
      "source": [
        "clouds = cloud.generate(article_cleaned)\n",
        "plt.figure(figsize=(14,14))\n",
        "plt.imshow(clouds)\n",
        "plt.axis('off');"
      ]
    },
    {
      "cell_type": "markdown",
      "metadata": {
        "id": "_191GpJVhiPb"
      },
      "source": [
        "### Text Summarization"
      ]
    },
    {
      "cell_type": "markdown",
      "metadata": {
        "id": "wSmodgoopji2"
      },
      "source": [
        "* preprocessing the text\n",
        "* word freq\n",
        "* weighted word freq\n",
        "* sentence tokeniztaion\n",
        "* score the sentence\n",
        "* order the sentence\n",
        "* generate summary"
      ]
    },
    {
      "cell_type": "markdown",
      "metadata": {
        "id": "ncX9VHQwqq19"
      },
      "source": [
        "sumy library : https://pypi.org/project/sumy/"
      ]
    },
    {
      "cell_type": "code",
      "execution_count": null,
      "metadata": {
        "colab": {
          "base_uri": "https://localhost:8080/"
        },
        "id": "zsuD4U77p6TF",
        "outputId": "76dc501f-786a-4613-98f7-8909a392bae5"
      },
      "outputs": [
        {
          "output_type": "execute_result",
          "data": {
            "text/plain": [
              "['The conventional wisdom around AI has been that while computers have the edge over humans when it comes to data-driven decision making, it can’t compete on qualitative tasks.',\n",
              " 'That, however, is changing.',\n",
              " 'Natural language processing (NLP) tools have advanced rapidly and can help with writing, coding, and discipline-specific reasoning.',\n",
              " 'Companies that want to make use of this new tech should focus on the following: 1) Identify text data assets and determine how the latest techniques can be leveraged to add value for your firm, 2) understand how you might leverage AI-based language technologies to make better decisions or reorganize your skilled labor, 3) begin incorporating new language-based AI tools for a variety of tasks to better understand their capabilities, and 4) don’t underestimate the transformative potential of AI.',\n",
              " 'Until recently, the conventional wisdom was that while AI was better than humans at data-driven decision making tasks, it was still inferior to humans for cognitive and creative ones.',\n",
              " 'But in the past two years language-based AI has advanced by leaps and bounds, changing common notions of what this technology can do.',\n",
              " 'The most visible advances have been in what’s called “natural language processing” (NLP), the branch of AI focused on how computers can process language like humans do.',\n",
              " 'It has been used to write an article for The Guardian, and AI-authored blog posts have gone viral — feats that weren’t possible a few years ago.',\n",
              " 'AI even excels at cognitive tasks like programming where it is able to generate programs for simple video games from human instructions.',\n",
              " 'Yet while these stunts may be attention grabbing, are they really indicative of what this tech can do for businesses?',\n",
              " 'What NLP Can Do\\n\\nThe best known natural language processing tool is GPT-3, from OpenAI, which uses AI and statistics to predict the next word in a sentence based on the preceding words.',\n",
              " 'NLP practitioners call tools like this “language models,” and they can be used for simple analytics tasks, such as classifying documents and analyzing the sentiment in blocks of text, as well as more advanced tasks, such as answering questions and summarizing reports.',\n",
              " 'Language models are already reshaping traditional text analytics, but GPT-3 was an especially pivotal language model because, at 10x larger than any previous model upon release, it was the first , which enabled it to perform even more advanced tasks like programming and solving high school–level math problems.',\n",
              " 'The latest version, called InstructGPT, has been fine-tuned by humans to generate responses that are much better aligned with human values and user intentions, and Google’s latest model shows further impressive breakthroughs on language and reasoning.',\n",
              " 'For businesses, the three areas where GPT-3 has appeared most promising are writing, coding, and discipline-specific reasoning.',\n",
              " 'OpenAI, the Microsoft-funded creator of GPT-3, has developed a GPT-3-based language model intended to act as an assistant for programmers by generating code from natural language input.',\n",
              " 'This tool, Codex, is already powering products like Copilot for Microsoft’s subsidiary GitHub and is capable of creating a basic video game simply by typing instructions.',\n",
              " 'This transformative capability was already expected to change the nature of how programmers do their jobs, but models continue to improve — the latest from Google’s DeepMind AI lab, for example, demonstrates the critical thinking and logic skills necessary to outperform most humans in programming competitions.',\n",
              " 'Models like GPT-3 are considered to be foundation models — an emerging AI research area — which also work for other types of data such as images and video.',\n",
              " 'Foundation models can even be trained on multiple forms of data at the same time, like OpenAI’s DALL·E 2, which is trained on language and images to generate high-resolution renderings of imaginary scenes or objects simply from text prompts.',\n",
              " 'Due to their potential to transform the nature of cognitive work, economists expect that foundation models may affect every part of the economy and could lead to increases in economic growth similar to the industrial revolution.',\n",
              " 'In my own work, I’ve been looking at how GPT-3-based tools can assist researchers in the research process.',\n",
              " 'I am currently working with Ought, a San Francisco company developing an open-ended reasoning tool (called Elicit) that is intended to help researchers answer questions in minutes or hours instead of weeks or months.',\n",
              " 'Elicit is designed for a growing number of specific tasks relevant to research, like summarization, data labeling, rephrasing, brainstorming, and literature reviews.',\n",
              " 'I’ve found — not surprisingly — that Elicit works better for some tasks than others.',\n",
              " 'Tasks like data labeling and summarization are still rough around the edges, with noisy results and spotty accuracy, but research from Ought and research from OpenAI shows promise for the future.',\n",
              " 'For example, the rephrase task is useful for writing, but the lack of integration with word processing apps renders it impractical for now.',\n",
              " 'Brainstorming tasks are great for generating ideas or identifying overlooked topics, and despite the noisy results and barriers to adoption, they are currently valuable for a variety of situations.',\n",
              " 'Yet, of all the tasks Elicit offers, I find the literature review the most useful.',\n",
              " 'Because Elicit is an AI research assistant, this is sort of its bread-and-butter, and when I need to start digging into a new research topic, it has become my go-to resource.',\n",
              " 'All of this is changing how I work.',\n",
              " 'I spend much less time trying to find existing content relevant to my research questions because its results are more applicable than other, more traditional interfaces for academic search like Google Scholar.',\n",
              " 'I am also beginning to integrate brainstorming tasks into my work as well, and my experience with these tools has inspired my latest research, which seeks to utilize foundation models for supporting strategic planning.',\n",
              " 'How Can Organizations Prepare for the Future?',\n",
              " 'Identify your text data assets and determine how the latest techniques can be leveraged to add value for your firm.',\n",
              " 'You are certainly aware of the value of data, but you still may be overlooking some essential data assets if you are not utilizing text analytics and NLP throughout your organization.',\n",
              " 'Text data is certainly valuable for customer experience management and understanding the voice of the customer, but think about other text data assets in your organization: emails, analysts’ reports, contracts, press releases, archives — even meetings and phone calls can be transcribed.',\n",
              " 'There is so much text data, and you don’t need advanced models like GPT-3 to extract its value.',\n",
              " 'Hugging Face, an NLP startup, recently released AutoNLP, a new tool that automates training models for standard text analytics tasks by simply uploading your data to the platform.',\n",
              " 'The data still needs labels, but far fewer than in other applications.',\n",
              " 'Because many firms have made ambitious bets on AI only to struggle to drive value into the core business, remain cautious to not be overzealous.',\n",
              " 'This can be a good first step that your existing machine learning engineers — or even talented data scientists — can manage.',\n",
              " 'To take the next step, again, identify your data assets.',\n",
              " 'Many sectors, and even divisions within your organization, use highly specialized vocabularies.',\n",
              " 'Through a combination of your data assets and open datasets, train a model for the needs of specific sectors or divisions.',\n",
              " 'Think of finance.',\n",
              " 'You do not want a model specialized in finance.',\n",
              " 'You want a model customized for commercial banking, or for capital markets.',\n",
              " 'And data is critical, but now it is unlabeled data, and the more the better.',\n",
              " 'Specialized models like this can unlock untold value for your firm.',\n",
              " 'Understand how you might leverage AI-based language technologies to make better decisions or reorganize your skilled labor.',\n",
              " 'Language-based AI won’t replace jobs, but it will automate many tasks, even for decision makers.',\n",
              " 'Startups like Verneek are creating Elicit-like tools to enable everyone to make data-informed decisions.',\n",
              " 'These new tools will transcend traditional business intelligence and will transform the nature of many roles in organizations — programmers are just the beginning.',\n",
              " 'You need to start understanding how these technologies can be used to reorganize your skilled labor.',\n",
              " 'The next generation of tools like OpenAI’s Codex will lead to more productive programmers, which likely means fewer dedicated programmers and more employees with modest programming skills using them for an increasing number of more complex tasks.',\n",
              " 'This may not be true for all software developers, but it has significant implications for tasks like data processing and web development.',\n",
              " 'Begin incorporating new language-based AI tools for a variety of tasks to better understand their capabilities.',\n",
              " 'Right now tools like Elicit are just emerging, but they can already be useful in surprising ways.',\n",
              " 'In fact, the previous suggestion was inspired by one of Elicit’s brainstorming tasks conditioned on my other three suggestions.',\n",
              " 'The original suggestion itself wasn’t perfect, but it reminded me of some critical topics that I had overlooked, and I revised the article accordingly.',\n",
              " 'In organizations, tasks like this can assist strategic thinking or scenario-planning exercises.',\n",
              " 'Although there is tremendous potential for such applications, right now the results are still relatively crude, but they can already add value in their current state.',\n",
              " 'The bottom line is that you need to encourage broad adoption of language-based AI tools throughout your business.',\n",
              " 'It is difficult to anticipate just how these tools might be used at different levels of your organization, but the best way to get an understanding of this tech may be for you and other leaders in your firm to adopt it yourselves.',\n",
              " 'Don’t bet the boat on it because some of the tech may not work out, but if your team gains a better understanding of what is possible, then you will be ahead of the competition.',\n",
              " 'Remember that while current AI might not be poised to replace managers, managers who understand AI are poised to replace managers who don’t.',\n",
              " 'Do not underestimate the transformative potential of AI.',\n",
              " 'Large foundation models like GPT-3 exhibit abilities to generalize to a large number of tasks without any task-specific training.',\n",
              " 'The recent progress in this tech is a significant step toward human-level generalization and general artificial intelligence that are the ultimate goals of many AI researchers, including those at OpenAI and Google’s DeepMind.',\n",
              " 'Such systems have tremendous disruptive potential that could lead to AI-driven explosive economic growth, which would radically transform business and society.',\n",
              " 'While you may still be skeptical of radically transformative AI like artificial general intelligence, it is prudent for organizations’ leaders to be cognizant of early signs of progress due to its tremendous disruptive potential.',\n",
              " 'Consider that former Google chief Eric Schmidt expects general artificial intelligence in 10–20 years and that the UK recently took an official position on risks from artificial general intelligence.',\n",
              " 'Had organizations paid attention to Anthony Fauci’s 2017 warning on the importance of pandemic preparedness, the most severe effects of the pandemic and ensuing supply chain crisis may have been avoided.',\n",
              " 'Ignoring the transformative potential of AI also carries risks, and similar to the supply chain crisis, firms’ inaction or irresponsible use of AI could have widespread and damaging effects on society (e.g., increasing inequality or domain-specific risks from automation).',\n",
              " 'However, unlike the supply chain crisis, societal changes from transformative AI will likely be irreversible and could even continue to accelerate.',\n",
              " 'Organizations should begin preparing now not only to capitalize on transformative AI, but to do their part to avoid undesirable futures and ensure that advanced AI is used to equitably benefit society.',\n",
              " 'Language-Based AI Tools Are Here to Stay\\n\\nPowerful generalizable language-based AI tools like Elicit are here, and they are just the tip of the iceberg; multimodal foundation model-based tools are poised to transform business in ways that are still difficult to predict.',\n",
              " 'To begin preparing now, start understanding your text data assets and the variety of cognitive tasks involved in different roles in your organization.',\n",
              " 'Aggressively adopt new language-based AI technologies; some will work well and others will not, but your employees will be quicker to adjust when you move on to the next.',\n",
              " 'And don’t forget to adopt these technologies yourself — this is the best way for you to start to understand their future roles in your organization.']"
            ]
          },
          "metadata": {},
          "execution_count": 24
        }
      ],
      "source": [
        "original_sentences = [sentence for sentence in nltk.sent_tokenize(article.cleaned_text)]\n",
        "original_sentences"
      ]
    },
    {
      "cell_type": "code",
      "execution_count": null,
      "metadata": {
        "colab": {
          "base_uri": "https://localhost:8080/"
        },
        "id": "M68C9l2W_JtB",
        "outputId": "3d3fb141-ad77-4cf5-ba9f-3d05433e1a7d"
      },
      "outputs": [
        {
          "output_type": "execute_result",
          "data": {
            "text/plain": [
              "81"
            ]
          },
          "metadata": {},
          "execution_count": 25
        }
      ],
      "source": [
        "len(original_sentences)"
      ]
    },
    {
      "cell_type": "code",
      "execution_count": null,
      "metadata": {
        "colab": {
          "base_uri": "https://localhost:8080/"
        },
        "id": "iCw94kG3wZ0z",
        "outputId": "66d7fa19-f777-45b1-8bd0-c5ad451d3602"
      },
      "outputs": [
        {
          "output_type": "stream",
          "name": "stdout",
          "text": [
            "Looking in indexes: https://pypi.org/simple, https://us-python.pkg.dev/colab-wheels/public/simple/\n",
            "Collecting sumy\n",
            "  Downloading sumy-0.10.0-py2.py3-none-any.whl (94 kB)\n",
            "\u001b[K     |████████████████████████████████| 94 kB 1.9 MB/s \n",
            "\u001b[?25hRequirement already satisfied: requests>=2.7.0 in /usr/local/lib/python3.7/dist-packages (from sumy) (2.23.0)\n",
            "Collecting pycountry>=18.2.23\n",
            "  Downloading pycountry-22.3.5.tar.gz (10.1 MB)\n",
            "\u001b[K     |████████████████████████████████| 10.1 MB 10.8 MB/s \n",
            "\u001b[?25h  Installing build dependencies ... \u001b[?25l\u001b[?25hdone\n",
            "  Getting requirements to build wheel ... \u001b[?25l\u001b[?25hdone\n",
            "    Preparing wheel metadata ... \u001b[?25l\u001b[?25hdone\n",
            "Requirement already satisfied: docopt<0.7,>=0.6.1 in /usr/local/lib/python3.7/dist-packages (from sumy) (0.6.2)\n",
            "Collecting breadability>=0.1.20\n",
            "  Downloading breadability-0.1.20.tar.gz (32 kB)\n",
            "Requirement already satisfied: nltk>=3.0.2 in /usr/local/lib/python3.7/dist-packages (from sumy) (3.7)\n",
            "Requirement already satisfied: chardet in /usr/local/lib/python3.7/dist-packages (from breadability>=0.1.20->sumy) (3.0.4)\n",
            "Requirement already satisfied: lxml>=2.0 in /usr/local/lib/python3.7/dist-packages (from breadability>=0.1.20->sumy) (4.2.6)\n",
            "Requirement already satisfied: click in /usr/local/lib/python3.7/dist-packages (from nltk>=3.0.2->sumy) (7.1.2)\n",
            "Requirement already satisfied: tqdm in /usr/local/lib/python3.7/dist-packages (from nltk>=3.0.2->sumy) (4.64.0)\n",
            "Requirement already satisfied: joblib in /usr/local/lib/python3.7/dist-packages (from nltk>=3.0.2->sumy) (1.1.0)\n",
            "Requirement already satisfied: regex>=2021.8.3 in /usr/local/lib/python3.7/dist-packages (from nltk>=3.0.2->sumy) (2022.6.2)\n",
            "Requirement already satisfied: setuptools in /usr/local/lib/python3.7/dist-packages (from pycountry>=18.2.23->sumy) (57.4.0)\n",
            "Requirement already satisfied: urllib3!=1.25.0,!=1.25.1,<1.26,>=1.21.1 in /usr/local/lib/python3.7/dist-packages (from requests>=2.7.0->sumy) (1.24.3)\n",
            "Requirement already satisfied: certifi>=2017.4.17 in /usr/local/lib/python3.7/dist-packages (from requests>=2.7.0->sumy) (2022.5.18.1)\n",
            "Requirement already satisfied: idna<3,>=2.5 in /usr/local/lib/python3.7/dist-packages (from requests>=2.7.0->sumy) (2.10)\n",
            "Building wheels for collected packages: breadability, pycountry\n",
            "  Building wheel for breadability (setup.py) ... \u001b[?25l\u001b[?25hdone\n",
            "  Created wheel for breadability: filename=breadability-0.1.20-py2.py3-none-any.whl size=21712 sha256=663c6969bee758b34a9d67b24d80b56b478e5d5f4c6bc26d92ce723bb521a680\n",
            "  Stored in directory: /root/.cache/pip/wheels/d4/bf/51/81d27ad638e1a6dca4f362ecc33d1e2c764b8ea7ec751b8fc1\n",
            "  Building wheel for pycountry (PEP 517) ... \u001b[?25l\u001b[?25hdone\n",
            "  Created wheel for pycountry: filename=pycountry-22.3.5-py2.py3-none-any.whl size=10681845 sha256=a8663f6ee9624527ab36b7ece589d3ea9a183b7454fa6b8d4212154c1d29c62b\n",
            "  Stored in directory: /root/.cache/pip/wheels/0e/06/e8/7ee176e95ea9a8a8c3b3afcb1869f20adbd42413d4611c6eb4\n",
            "Successfully built breadability pycountry\n",
            "Installing collected packages: pycountry, breadability, sumy\n",
            "Successfully installed breadability-0.1.20 pycountry-22.3.5 sumy-0.10.0\n"
          ]
        }
      ],
      "source": [
        "!pip install sumy"
      ]
    },
    {
      "cell_type": "code",
      "execution_count": null,
      "metadata": {
        "id": "1A4f9nONwi1I"
      },
      "outputs": [],
      "source": [
        "from sumy.parsers.plaintext import PlaintextParser\n",
        "from sumy.nlp.tokenizers import Tokenizer\n",
        "from sumy.summarizers.sum_basic import SumBasicSummarizer"
      ]
    },
    {
      "cell_type": "code",
      "execution_count": null,
      "metadata": {
        "id": "lzTEbnDL8wMa"
      },
      "outputs": [],
      "source": [
        "parser = PlaintextParser.from_string(article.cleaned_text, Tokenizer('english'))"
      ]
    },
    {
      "cell_type": "code",
      "execution_count": null,
      "metadata": {
        "id": "t88NR3vl9D4U"
      },
      "outputs": [],
      "source": [
        "summarizer = SumBasicSummarizer()\n",
        "summary = summarizer(parser.document, 30)"
      ]
    },
    {
      "cell_type": "code",
      "execution_count": null,
      "metadata": {
        "colab": {
          "base_uri": "https://localhost:8080/"
        },
        "id": "RDFWZpMc9jme",
        "outputId": "3c36bc88-e599-4227-c8e3-ada337e7b591"
      },
      "outputs": [
        {
          "output_type": "execute_result",
          "data": {
            "text/plain": [
              "(<Sentence: That, however, is changing.>,\n",
              " <Sentence: Natural language processing (NLP) tools have advanced rapidly and can help with writing, coding, and discipline-specific reasoning.>,\n",
              " <Sentence: Until recently, the conventional wisdom was that while AI was better than humans at data-driven decision making tasks, it was still inferior to humans for cognitive and creative ones.>,\n",
              " <Sentence: Yet while these stunts may be attention grabbing, are they really indicative of what this tech can do for businesses?>,\n",
              " <Sentence: The latest version, called InstructGPT, has been fine-tuned by humans to generate responses that are much better aligned with human values and user intentions, and Google’s latest model shows further impressive breakthroughs on language and reasoning.>,\n",
              " <Sentence: OpenAI, the Microsoft-funded creator of GPT-3, has developed a GPT-3-based language model intended to act as an assistant for programmers by generating code from natural language input.>,\n",
              " <Sentence: This tool, Codex, is already powering products like Copilot for Microsoft’s subsidiary GitHub and is capable of creating a basic video game simply by typing instructions.>,\n",
              " <Sentence: Foundation models can even be trained on multiple forms of data at the same time, like OpenAI’s DALL·E 2, which is trained on language and images to generate high-resolution renderings of imaginary scenes or objects simply from text prompts.>,\n",
              " <Sentence: In my own work, I’ve been looking at how GPT-3-based tools can assist researchers in the research process.>,\n",
              " <Sentence: Yet, of all the tasks Elicit offers, I find the literature review the most useful.>,\n",
              " <Sentence: I spend much less time trying to find existing content relevant to my research questions because its results are more applicable than other, more traditional interfaces for academic search like Google Scholar.>,\n",
              " <Sentence: To take the next step, again, identify your data assets.>,\n",
              " <Sentence: Many sectors, and even divisions within your organization, use highly specialized vocabularies.>,\n",
              " <Sentence: Think of finance.>,\n",
              " <Sentence: You do not want a model specialized in finance.>,\n",
              " <Sentence: And data is critical, but now it is unlabeled data, and the more the better.>,\n",
              " <Sentence: Specialized models like this can unlock untold value for your firm.>,\n",
              " <Sentence: Startups like Verneek are creating Elicit-like tools to enable everyone to make data-informed decisions.>,\n",
              " <Sentence: These new tools will transcend traditional business intelligence and will transform the nature of many roles in organizations — programmers are just the beginning.>,\n",
              " <Sentence: You need to start understanding how these technologies can be used to reorganize your skilled labor.>,\n",
              " <Sentence: Begin incorporating new language-based AI tools for a variety of tasks to better understand their capabilities.>,\n",
              " <Sentence: In fact, the previous suggestion was inspired by one of Elicit’s brainstorming tasks conditioned on my other three suggestions.>,\n",
              " <Sentence: The original suggestion itself wasn’t perfect, but it reminded me of some critical topics that I had overlooked, and I revised the article accordingly.>,\n",
              " <Sentence: Although there is tremendous potential for such applications, right now the results are still relatively crude, but they can already add value in their current state.>,\n",
              " <Sentence: Remember that while current AI might not be poised to replace managers, managers who understand AI are poised to replace managers who don’t.>,\n",
              " <Sentence: Large foundation models like GPT-3 exhibit abilities to generalize to a large number of tasks without any task-specific training.>,\n",
              " <Sentence: Such systems have tremendous disruptive potential that could lead to AI-driven explosive economic growth, which would radically transform business and society.>,\n",
              " <Sentence: Consider that former Google chief Eric Schmidt expects general artificial intelligence in 10–20 years and that the UK recently took an official position on risks from artificial general intelligence.>,\n",
              " <Sentence: Ignoring the transformative potential of AI also carries risks, and similar to the supply chain crisis, firms’ inaction or irresponsible use of AI could have widespread and damaging effects on society (e.g., increasing inequality or domain-specific risks from automation).>,\n",
              " <Sentence: Language-Based AI Tools Are Here to Stay>)"
            ]
          },
          "metadata": {},
          "execution_count": 30
        }
      ],
      "source": [
        "summary"
      ]
    },
    {
      "cell_type": "code",
      "execution_count": null,
      "metadata": {
        "id": "qctopg169wqM"
      },
      "outputs": [],
      "source": [
        "best_sentences = []\n",
        "for sentence in summary:\n",
        "  best_sentences.append(str(sentence))"
      ]
    },
    {
      "cell_type": "code",
      "execution_count": null,
      "metadata": {
        "colab": {
          "base_uri": "https://localhost:8080/",
          "height": 1000
        },
        "id": "iT5sR0Gf-IoO",
        "outputId": "2fe2a784-e69b-4ee7-ffb6-ae691215b37d"
      },
      "outputs": [
        {
          "output_type": "display_data",
          "data": {
            "text/plain": [
              "<IPython.core.display.HTML object>"
            ],
            "text/html": [
              "<h2>Summary - The Power of Natural Language Processing</h2>"
            ]
          },
          "metadata": {}
        },
        {
          "output_type": "display_data",
          "data": {
            "text/plain": [
              "<IPython.core.display.HTML object>"
            ],
            "text/html": [
              " The conventional wisdom around AI has been that while computers have the edge over humans when it comes to data-driven decision making, it can’t compete on qualitative tasks. <mark>That, however, is changing.</mark> <mark>Natural language processing (NLP) tools have advanced rapidly and can help with writing, coding, and discipline-specific reasoning.</mark> Companies that want to make use of this new tech should focus on the following: 1) Identify text data assets and determine how the latest techniques can be leveraged to add value for your firm, 2) understand how you might leverage AI-based language technologies to make better decisions or reorganize your skilled labor, 3) begin incorporating new language-based AI tools for a variety of tasks to better understand their capabilities, and 4) don’t underestimate the transformative potential of AI. <mark>Until recently, the conventional wisdom was that while AI was better than humans at data-driven decision making tasks, it was still inferior to humans for cognitive and creative ones.</mark> But in the past two years language-based AI has advanced by leaps and bounds, changing common notions of what this technology can do. The most visible advances have been in what’s called “natural language processing” (NLP), the branch of AI focused on how computers can process language like humans do. It has been used to write an article for The Guardian, and AI-authored blog posts have gone viral — feats that weren’t possible a few years ago. AI even excels at cognitive tasks like programming where it is able to generate programs for simple video games from human instructions. <mark>Yet while these stunts may be attention grabbing, are they really indicative of what this tech can do for businesses?</mark> What NLP Can Do\n",
              "\n",
              "The best known natural language processing tool is GPT-3, from OpenAI, which uses AI and statistics to predict the next word in a sentence based on the preceding words. NLP practitioners call tools like this “language models,” and they can be used for simple analytics tasks, such as classifying documents and analyzing the sentiment in blocks of text, as well as more advanced tasks, such as answering questions and summarizing reports. Language models are already reshaping traditional text analytics, but GPT-3 was an especially pivotal language model because, at 10x larger than any previous model upon release, it was the first , which enabled it to perform even more advanced tasks like programming and solving high school–level math problems. <mark>The latest version, called InstructGPT, has been fine-tuned by humans to generate responses that are much better aligned with human values and user intentions, and Google’s latest model shows further impressive breakthroughs on language and reasoning.</mark> For businesses, the three areas where GPT-3 has appeared most promising are writing, coding, and discipline-specific reasoning. <mark>OpenAI, the Microsoft-funded creator of GPT-3, has developed a GPT-3-based language model intended to act as an assistant for programmers by generating code from natural language input.</mark> <mark>This tool, Codex, is already powering products like Copilot for Microsoft’s subsidiary GitHub and is capable of creating a basic video game simply by typing instructions.</mark> This transformative capability was already expected to change the nature of how programmers do their jobs, but models continue to improve — the latest from Google’s DeepMind AI lab, for example, demonstrates the critical thinking and logic skills necessary to outperform most humans in programming competitions. Models like GPT-3 are considered to be foundation models — an emerging AI research area — which also work for other types of data such as images and video. <mark>Foundation models can even be trained on multiple forms of data at the same time, like OpenAI’s DALL·E 2, which is trained on language and images to generate high-resolution renderings of imaginary scenes or objects simply from text prompts.</mark> Due to their potential to transform the nature of cognitive work, economists expect that foundation models may affect every part of the economy and could lead to increases in economic growth similar to the industrial revolution. <mark>In my own work, I’ve been looking at how GPT-3-based tools can assist researchers in the research process.</mark> I am currently working with Ought, a San Francisco company developing an open-ended reasoning tool (called Elicit) that is intended to help researchers answer questions in minutes or hours instead of weeks or months. Elicit is designed for a growing number of specific tasks relevant to research, like summarization, data labeling, rephrasing, brainstorming, and literature reviews. I’ve found — not surprisingly — that Elicit works better for some tasks than others. Tasks like data labeling and summarization are still rough around the edges, with noisy results and spotty accuracy, but research from Ought and research from OpenAI shows promise for the future. For example, the rephrase task is useful for writing, but the lack of integration with word processing apps renders it impractical for now. Brainstorming tasks are great for generating ideas or identifying overlooked topics, and despite the noisy results and barriers to adoption, they are currently valuable for a variety of situations. <mark>Yet, of all the tasks Elicit offers, I find the literature review the most useful.</mark> Because Elicit is an AI research assistant, this is sort of its bread-and-butter, and when I need to start digging into a new research topic, it has become my go-to resource. All of this is changing how I work. <mark>I spend much less time trying to find existing content relevant to my research questions because its results are more applicable than other, more traditional interfaces for academic search like Google Scholar.</mark> I am also beginning to integrate brainstorming tasks into my work as well, and my experience with these tools has inspired my latest research, which seeks to utilize foundation models for supporting strategic planning. How Can Organizations Prepare for the Future? Identify your text data assets and determine how the latest techniques can be leveraged to add value for your firm. You are certainly aware of the value of data, but you still may be overlooking some essential data assets if you are not utilizing text analytics and NLP throughout your organization. Text data is certainly valuable for customer experience management and understanding the voice of the customer, but think about other text data assets in your organization: emails, analysts’ reports, contracts, press releases, archives — even meetings and phone calls can be transcribed. There is so much text data, and you don’t need advanced models like GPT-3 to extract its value. Hugging Face, an NLP startup, recently released AutoNLP, a new tool that automates training models for standard text analytics tasks by simply uploading your data to the platform. The data still needs labels, but far fewer than in other applications. Because many firms have made ambitious bets on AI only to struggle to drive value into the core business, remain cautious to not be overzealous. This can be a good first step that your existing machine learning engineers — or even talented data scientists — can manage. <mark>To take the next step, again, identify your data assets.</mark> <mark>Many sectors, and even divisions within your organization, use highly specialized vocabularies.</mark> Through a combination of your data assets and open datasets, train a model for the needs of specific sectors or divisions. <mark>Think of finance.</mark> <mark>You do not want a model specialized in finance.</mark> You want a model customized for commercial banking, or for capital markets. <mark>And data is critical, but now it is unlabeled data, and the more the better.</mark> <mark>Specialized models like this can unlock untold value for your firm.</mark> Understand how you might leverage AI-based language technologies to make better decisions or reorganize your skilled labor. Language-based AI won’t replace jobs, but it will automate many tasks, even for decision makers. <mark>Startups like Verneek are creating Elicit-like tools to enable everyone to make data-informed decisions.</mark> <mark>These new tools will transcend traditional business intelligence and will transform the nature of many roles in organizations — programmers are just the beginning.</mark> <mark>You need to start understanding how these technologies can be used to reorganize your skilled labor.</mark> The next generation of tools like OpenAI’s Codex will lead to more productive programmers, which likely means fewer dedicated programmers and more employees with modest programming skills using them for an increasing number of more complex tasks. This may not be true for all software developers, but it has significant implications for tasks like data processing and web development. <mark>Begin incorporating new language-based AI tools for a variety of tasks to better understand their capabilities.</mark> Right now tools like Elicit are just emerging, but they can already be useful in surprising ways. <mark>In fact, the previous suggestion was inspired by one of Elicit’s brainstorming tasks conditioned on my other three suggestions.</mark> <mark>The original suggestion itself wasn’t perfect, but it reminded me of some critical topics that I had overlooked, and I revised the article accordingly.</mark> In organizations, tasks like this can assist strategic thinking or scenario-planning exercises. <mark>Although there is tremendous potential for such applications, right now the results are still relatively crude, but they can already add value in their current state.</mark> The bottom line is that you need to encourage broad adoption of language-based AI tools throughout your business. It is difficult to anticipate just how these tools might be used at different levels of your organization, but the best way to get an understanding of this tech may be for you and other leaders in your firm to adopt it yourselves. Don’t bet the boat on it because some of the tech may not work out, but if your team gains a better understanding of what is possible, then you will be ahead of the competition. <mark>Remember that while current AI might not be poised to replace managers, managers who understand AI are poised to replace managers who don’t.</mark> Do not underestimate the transformative potential of AI. <mark>Large foundation models like GPT-3 exhibit abilities to generalize to a large number of tasks without any task-specific training.</mark> The recent progress in this tech is a significant step toward human-level generalization and general artificial intelligence that are the ultimate goals of many AI researchers, including those at OpenAI and Google’s DeepMind. <mark>Such systems have tremendous disruptive potential that could lead to AI-driven explosive economic growth, which would radically transform business and society.</mark> While you may still be skeptical of radically transformative AI like artificial general intelligence, it is prudent for organizations’ leaders to be cognizant of early signs of progress due to its tremendous disruptive potential. <mark>Consider that former Google chief Eric Schmidt expects general artificial intelligence in 10–20 years and that the UK recently took an official position on risks from artificial general intelligence.</mark> Had organizations paid attention to Anthony Fauci’s 2017 warning on the importance of pandemic preparedness, the most severe effects of the pandemic and ensuing supply chain crisis may have been avoided. <mark>Ignoring the transformative potential of AI also carries risks, and similar to the supply chain crisis, firms’ inaction or irresponsible use of AI could have widespread and damaging effects on society (e.g., increasing inequality or domain-specific risks from automation).</mark> However, unlike the supply chain crisis, societal changes from transformative AI will likely be irreversible and could even continue to accelerate. Organizations should begin preparing now not only to capitalize on transformative AI, but to do their part to avoid undesirable futures and ensure that advanced AI is used to equitably benefit society. Language-Based AI Tools Are Here to Stay\n",
              "\n",
              "Powerful generalizable language-based AI tools like Elicit are here, and they are just the tip of the iceberg; multimodal foundation model-based tools are poised to transform business in ways that are still difficult to predict. To begin preparing now, start understanding your text data assets and the variety of cognitive tasks involved in different roles in your organization. Aggressively adopt new language-based AI technologies; some will work well and others will not, but your employees will be quicker to adjust when you move on to the next. And don’t forget to adopt these technologies yourself — this is the best way for you to start to understand their future roles in your organization."
            ]
          },
          "metadata": {}
        }
      ],
      "source": [
        "from IPython.core.display import HTML\n",
        "text = ''\n",
        "display(HTML(f'<h2>Summary - {article.title}</h2>'))\n",
        "for sentence in original_sentences:\n",
        "  if sentence in best_sentences:\n",
        "    text += ' ' + str(sentence).replace(sentence, f\"<mark>{sentence}</mark>\")\n",
        "  else:\n",
        "    text += ' ' + sentence\n",
        "display(HTML(f\"\"\"{text}\"\"\"))"
      ]
    },
    {
      "cell_type": "markdown",
      "metadata": {
        "id": "6WJFi6CVAfwN"
      },
      "source": [
        "### Key Word Search"
      ]
    },
    {
      "cell_type": "code",
      "execution_count": null,
      "metadata": {
        "id": "MmLduspLAklI"
      },
      "outputs": [],
      "source": [
        "string = 'The conventional wisdom around AI has been that while computers have the edge over humans when it comes to data-driven decision making, it can’t compete on qualitative tasks.'"
      ]
    },
    {
      "cell_type": "code",
      "execution_count": null,
      "metadata": {
        "colab": {
          "base_uri": "https://localhost:8080/"
        },
        "id": "QN_UDmYjSBkA",
        "outputId": "ca4a6889-837d-4ee3-9f70-ce63ed9577eb"
      },
      "outputs": [
        {
          "output_type": "execute_result",
          "data": {
            "text/plain": [
              "[conventional, computers]"
            ]
          },
          "metadata": {},
          "execution_count": 34
        }
      ],
      "source": [
        "search_strings = ['conventional', 'computers']\n",
        "token_list = [nlp(item) for item in search_strings]\n",
        "token_list"
      ]
    },
    {
      "cell_type": "code",
      "execution_count": null,
      "metadata": {
        "id": "IGUMpdIcl0y2"
      },
      "outputs": [],
      "source": [
        "from spacy.matcher import PhraseMatcher\n",
        "matcher = PhraseMatcher(nlp.vocab)\n",
        "matcher.add('SEARCH', None, *token_list)"
      ]
    },
    {
      "cell_type": "code",
      "execution_count": null,
      "metadata": {
        "colab": {
          "base_uri": "https://localhost:8080/"
        },
        "id": "KC3EpGNimYtK",
        "outputId": "2f986b91-8fac-43e7-97ad-8d6f484ab0f8"
      },
      "outputs": [
        {
          "output_type": "execute_result",
          "data": {
            "text/plain": [
              "[(8661325627334373315, 1, 2), (8661325627334373315, 9, 10)]"
            ]
          },
          "metadata": {},
          "execution_count": 36
        }
      ],
      "source": [
        "document = nlp(string)\n",
        "matches = matcher(document)\n",
        "matches"
      ]
    },
    {
      "cell_type": "code",
      "execution_count": null,
      "metadata": {
        "colab": {
          "base_uri": "https://localhost:8080/"
        },
        "id": "1uuFkFnop7dT",
        "outputId": "97c513be-2eeb-4882-bbf0-141bb1eff886"
      },
      "outputs": [
        {
          "output_type": "execute_result",
          "data": {
            "text/plain": [
              "(conventional, computers)"
            ]
          },
          "metadata": {},
          "execution_count": 37
        }
      ],
      "source": [
        "document[1:2], document[9:10]"
      ]
    },
    {
      "cell_type": "code",
      "execution_count": null,
      "metadata": {
        "colab": {
          "base_uri": "https://localhost:8080/"
        },
        "id": "FqYDdDMAqGzU",
        "outputId": "b278a79c-c893-42b8-f501-7254c49d4450"
      },
      "outputs": [
        {
          "output_type": "execute_result",
          "data": {
            "text/plain": [
              "AI has been that while computers have the edge over humans"
            ]
          },
          "metadata": {},
          "execution_count": 38
        }
      ],
      "source": [
        "document[9-5:10+5]"
      ]
    },
    {
      "cell_type": "code",
      "execution_count": null,
      "metadata": {
        "colab": {
          "base_uri": "https://localhost:8080/"
        },
        "id": "hIm_scPiqYZF",
        "outputId": "3a9d43de-a555-4aa4-9e86-82ac07af0b70"
      },
      "outputs": [
        {
          "output_type": "execute_result",
          "data": {
            "text/plain": [
              "The conventional wisdom"
            ]
          },
          "metadata": {},
          "execution_count": 39
        }
      ],
      "source": [
        "document[1-1:2+1]"
      ]
    },
    {
      "cell_type": "code",
      "execution_count": null,
      "metadata": {
        "colab": {
          "base_uri": "https://localhost:8080/",
          "height": 36
        },
        "id": "EQaDESniqowt",
        "outputId": "24f1c648-b3d4-40e6-89e2-5803c192663a"
      },
      "outputs": [
        {
          "output_type": "execute_result",
          "data": {
            "text/plain": [
              "'conventional computers'"
            ],
            "application/vnd.google.colaboratory.intrinsic+json": {
              "type": "string"
            }
          },
          "metadata": {},
          "execution_count": 40
        }
      ],
      "source": [
        "number_of_words = 200\n",
        "search_string_html = ' '.join([element for element in search_strings])\n",
        "search_string_html"
      ]
    },
    {
      "cell_type": "code",
      "execution_count": null,
      "metadata": {
        "colab": {
          "base_uri": "https://localhost:8080/",
          "height": 826
        },
        "id": "lUScMO7b_Ezd",
        "outputId": "05d166ca-7763-47c6-e242-9572a8b9bc27"
      },
      "outputs": [
        {
          "output_type": "display_data",
          "data": {
            "text/plain": [
              "<IPython.core.display.HTML object>"
            ],
            "text/html": [
              "<h1>CONVENTIONAL COMPUTERS</h1>"
            ]
          },
          "metadata": {}
        },
        {
          "output_type": "display_data",
          "data": {
            "text/plain": [
              "<IPython.core.display.HTML object>"
            ],
            "text/html": [
              "<p><strong>Number of matches: </strong>4</p>"
            ]
          },
          "metadata": {}
        },
        {
          "output_type": "stream",
          "name": "stderr",
          "text": [
            "/usr/local/lib/python3.7/dist-packages/ipykernel_launcher.py:11: UserWarning: [W007] The model you're using has no word vectors loaded, so the result of the Span.similarity method will be based on the tagger, parser and NER, which may not give useful similarity judgements. This may happen if you're using one of the small models, e.g. `en_core_web_sm`, which don't ship with word vectors and only use context-sensitive tensors. You can always add your own word vectors, or use one of the larger models instead if available.\n",
            "  # This is added back by InteractiveShellApp.init_path()\n"
          ]
        },
        {
          "output_type": "display_data",
          "data": {
            "text/plain": [
              "<IPython.core.display.HTML object>"
            ],
            "text/html": [
              "<blockquote>The <mark>conventional</mark> wisdom around AI has been that while computers have the edge over humans when it comes to data-driven decision making, it can’t compete on qualitative tasks. That, however, is changing. Natural language processing (NLP) tools have advanced rapidly and can help with writing, coding, and discipline-specific reasoning. Companies that want to make use of this new tech should focus on the following: 1) Identify text data assets and determine how the latest techniques can be leveraged to add value for your firm, 2) understand how you might leverage AI-based language technologies to make better decisions or reorganize your skilled labor, 3) begin incorporating new language-based AI tools for a variety of tasks to better understand their capabilities, and 4) don’t underestimate the transformative potential of AI.\n",
              "\n",
              "Until recently, the <mark>conventional</mark> wisdom was that while AI was better than humans at data-driven decision making tasks, it was still inferior to humans for cognitive and creative ones. But in the past two years language-based AI<br /><br />The conventional wisdom around AI has been that while <mark>computers</mark> have the edge over humans when it comes to data-driven decision making, it can’t compete on qualitative tasks. That, however, is changing. Natural language processing (NLP) tools have advanced rapidly and can help with writing, coding, and discipline-specific reasoning. Companies that want to make use of this new tech should focus on the following: 1) Identify text data assets and determine how the latest techniques can be leveraged to add value for your firm, 2) understand how you might leverage AI-based language technologies to make better decisions or reorganize your skilled labor, 3) begin incorporating new language-based AI tools for a variety of tasks to better understand their capabilities, and 4) don’t underestimate the transformative potential of AI.\n",
              "\n",
              "Until recently, the conventional wisdom was that while AI was better than humans at data-driven decision making tasks, it was still inferior to humans for cognitive and creative ones. But in the past two years language-based AI has advanced by leaps and bounds, changing<br /><br />The <mark>conventional</mark> wisdom around AI has been that while computers have the edge over humans when it comes to data-driven decision making, it can’t compete on qualitative tasks. That, however, is changing. Natural language processing (NLP) tools have advanced rapidly and can help with writing, coding, and discipline-specific reasoning. Companies that want to make use of this new tech should focus on the following: 1) Identify text data assets and determine how the latest techniques can be leveraged to add value for your firm, 2) understand how you might leverage AI-based language technologies to make better decisions or reorganize your skilled labor, 3) begin incorporating new language-based AI tools for a variety of tasks to better understand their capabilities, and 4) don’t underestimate the transformative potential of AI.\n",
              "\n",
              "Until recently, the <mark>conventional</mark> wisdom was that while AI was better than humans at data-driven decision making tasks, it was still inferior to humans for cognitive and creative ones. But in the past two years language-based AI has advanced by leaps and bounds, changing common notions of what this technology can do.\n",
              "\n",
              "The most visible advances have been in what’s called “natural language processing” (NLP), the branch of AI focused on how computers can process language like humans do. It has been used to write an article for The Guardian, and AI-authored blog posts have gone viral — feats that weren’t possible a few years ago. AI even excels at cognitive tasks like programming where it is able to generate programs for simple video games from human instructions.\n",
              "\n",
              "Yet while these stunts may be attention grabbing, are they really indicative of what this tech can do for businesses?\n",
              "\n",
              "What NLP Can Do\n",
              "\n",
              "The best known natural language processing tool is GPT-3, from OpenAI, which uses AI and statistics to predict the next word in a<br /><br />tools have advanced rapidly and can help with writing, coding, and discipline-specific reasoning. Companies that want to make use of this new tech should focus on the following: 1) Identify text data assets and determine how the latest techniques can be leveraged to add value for your firm, 2) understand how you might leverage AI-based language technologies to make better decisions or reorganize your skilled labor, 3) begin incorporating new language-based AI tools for a variety of tasks to better understand their capabilities, and 4) don’t underestimate the transformative potential of AI.\n",
              "\n",
              "Until recently, the conventional wisdom was that while AI was better than humans at data-driven decision making tasks, it was still inferior to humans for cognitive and creative ones. But in the past two years language-based AI has advanced by leaps and bounds, changing common notions of what this technology can do.\n",
              "\n",
              "The most visible advances have been in what’s called “natural language processing” (NLP), the branch of AI focused on how <mark>computers</mark> can process language like humans do. It has been used to write an article for The Guardian, and AI-authored blog posts have gone viral — feats that weren’t possible a few years ago. AI even excels at cognitive tasks like programming where it is able to generate programs for simple video games from human instructions.\n",
              "\n",
              "Yet while these stunts may be attention grabbing, are they really indicative of what this tech can do for businesses?\n",
              "\n",
              "What NLP Can Do\n",
              "\n",
              "The best known natural language processing tool is GPT-3, from OpenAI, which uses AI and statistics to predict the next word in a sentence based on the preceding words. NLP practitioners call tools like this “language models,” and they can be used for simple analytics tasks, such as classifying documents and analyzing the sentiment in blocks of text, as well as more advanced tasks, such as answering questions and summarizing reports. Language models are already reshaping traditional text analytics, but GPT-3 was an especially pivotal language model because, at 10x larger than any previous model upon release<br /><br /></blockquote>"
            ]
          },
          "metadata": {}
        }
      ],
      "source": [
        "marked_text = ''\n",
        "display(HTML(f'<h1>{search_string_html.upper()}</h1>'))\n",
        "document = nlp(article.cleaned_text)\n",
        "matches = matcher(document)\n",
        "display(HTML(f\"\"\"<p><strong>Number of matches: </strong>{len(matches)}</p>\"\"\"))\n",
        "for i in matches:\n",
        "  start = i[1] - number_of_words\n",
        "  if start < 0:\n",
        "    start=0\n",
        "  for j in range(len(token_list)):\n",
        "    if document[i[1]:i[2]].similarity(token_list[j]) == 1.0:\n",
        "      search_text = str(token_list[j])\n",
        "      marked_text += str(document[start:i[2]+number_of_words]).replace(search_text, f\"<mark>{search_text}</mark>\")\n",
        "      marked_text += \"<br /><br />\"\n",
        "display(HTML(f\"\"\"<blockquote>{marked_text}</blockquote>\"\"\"))"
      ]
    },
    {
      "cell_type": "markdown",
      "metadata": {
        "id": "sr_dGgbIdeKE"
      },
      "source": [
        "### Bag of Words"
      ]
    },
    {
      "cell_type": "code",
      "execution_count": null,
      "metadata": {
        "colab": {
          "base_uri": "https://localhost:8080/"
        },
        "id": "nNcapDwDdhgO",
        "outputId": "3fa9b202-37bb-4d61-9597-b57f51a30f12"
      },
      "outputs": [
        {
          "output_type": "execute_result",
          "data": {
            "text/plain": [
              "['this is the first document.',\n",
              " 'this document is the second document.',\n",
              " 'and this is the third one.',\n",
              " 'is this the first document']"
            ]
          },
          "metadata": {},
          "execution_count": 42
        }
      ],
      "source": [
        "from sklearn.feature_extraction.text import CountVectorizer\n",
        "sentences = ['this is the first document.',\n",
        "             'this document is the second document.',\n",
        "             'and this is the third one.',\n",
        "             'is this the first document']\n",
        "sentences"
      ]
    },
    {
      "cell_type": "code",
      "execution_count": null,
      "metadata": {
        "id": "ciIfmqyNe1JC"
      },
      "outputs": [],
      "source": [
        "vectorizer = CountVectorizer()\n",
        "X = vectorizer.fit_transform(sentences)"
      ]
    },
    {
      "cell_type": "code",
      "execution_count": null,
      "metadata": {
        "colab": {
          "base_uri": "https://localhost:8080/"
        },
        "id": "hfqjrjCRfO9l",
        "outputId": "710434fd-f294-42aa-f60b-a62084dac67c"
      },
      "outputs": [
        {
          "output_type": "stream",
          "name": "stdout",
          "text": [
            "['and' 'document' 'first' 'is' 'one' 'second' 'the' 'third' 'this']\n"
          ]
        }
      ],
      "source": [
        "print(vectorizer.get_feature_names_out())"
      ]
    },
    {
      "cell_type": "code",
      "execution_count": null,
      "metadata": {
        "colab": {
          "base_uri": "https://localhost:8080/"
        },
        "id": "5nERwbWQfe8Q",
        "outputId": "c09ae020-1ab6-4c99-9853-8a6da8439121"
      },
      "outputs": [
        {
          "output_type": "execute_result",
          "data": {
            "text/plain": [
              "array([[0, 1, 1, 1, 0, 0, 1, 0, 1],\n",
              "       [0, 2, 0, 1, 0, 1, 1, 0, 1],\n",
              "       [1, 0, 0, 1, 1, 0, 1, 1, 1],\n",
              "       [0, 1, 1, 1, 0, 0, 1, 0, 1]])"
            ]
          },
          "metadata": {},
          "execution_count": 45
        }
      ],
      "source": [
        "X.toarray()"
      ]
    },
    {
      "cell_type": "code",
      "execution_count": null,
      "metadata": {
        "colab": {
          "base_uri": "https://localhost:8080/"
        },
        "id": "f8uH2vPRf1Gj",
        "outputId": "f19e7044-1f12-43ab-b9d5-207767f527f6"
      },
      "outputs": [
        {
          "output_type": "execute_result",
          "data": {
            "text/plain": [
              "['The conventional wisdom around AI has been that while computers have the edge over humans when it comes to data-driven decision making, it can’t compete on qualitative tasks.',\n",
              " 'That, however, is changing.',\n",
              " 'Natural language processing (NLP) tools have advanced rapidly and can help with writing, coding, and discipline-specific reasoning.',\n",
              " 'Companies that want to make use of this new tech should focus on the following: 1) Identify text data assets and determine how the latest techniques can be leveraged to add value for your firm, 2) understand how you might leverage AI-based language technologies to make better decisions or reorganize your skilled labor, 3) begin incorporating new language-based AI tools for a variety of tasks to better understand their capabilities, and 4) don’t underestimate the transformative potential of AI.',\n",
              " 'Until recently, the conventional wisdom was that while AI was better than humans at data-driven decision making tasks, it was still inferior to humans for cognitive and creative ones.',\n",
              " 'But in the past two years language-based AI has advanced by leaps and bounds, changing common notions of what this technology can do.',\n",
              " 'The most visible advances have been in what’s called “natural language processing” (NLP), the branch of AI focused on how computers can process language like humans do.',\n",
              " 'It has been used to write an article for The Guardian, and AI-authored blog posts have gone viral — feats that weren’t possible a few years ago.',\n",
              " 'AI even excels at cognitive tasks like programming where it is able to generate programs for simple video games from human instructions.',\n",
              " 'Yet while these stunts may be attention grabbing, are they really indicative of what this tech can do for businesses?',\n",
              " 'What NLP Can Do\\n\\nThe best known natural language processing tool is GPT-3, from OpenAI, which uses AI and statistics to predict the next word in a sentence based on the preceding words.',\n",
              " 'NLP practitioners call tools like this “language models,” and they can be used for simple analytics tasks, such as classifying documents and analyzing the sentiment in blocks of text, as well as more advanced tasks, such as answering questions and summarizing reports.',\n",
              " 'Language models are already reshaping traditional text analytics, but GPT-3 was an especially pivotal language model because, at 10x larger than any previous model upon release, it was the first , which enabled it to perform even more advanced tasks like programming and solving high school–level math problems.',\n",
              " 'The latest version, called InstructGPT, has been fine-tuned by humans to generate responses that are much better aligned with human values and user intentions, and Google’s latest model shows further impressive breakthroughs on language and reasoning.',\n",
              " 'For businesses, the three areas where GPT-3 has appeared most promising are writing, coding, and discipline-specific reasoning.',\n",
              " 'OpenAI, the Microsoft-funded creator of GPT-3, has developed a GPT-3-based language model intended to act as an assistant for programmers by generating code from natural language input.',\n",
              " 'This tool, Codex, is already powering products like Copilot for Microsoft’s subsidiary GitHub and is capable of creating a basic video game simply by typing instructions.',\n",
              " 'This transformative capability was already expected to change the nature of how programmers do their jobs, but models continue to improve — the latest from Google’s DeepMind AI lab, for example, demonstrates the critical thinking and logic skills necessary to outperform most humans in programming competitions.',\n",
              " 'Models like GPT-3 are considered to be foundation models — an emerging AI research area — which also work for other types of data such as images and video.',\n",
              " 'Foundation models can even be trained on multiple forms of data at the same time, like OpenAI’s DALL·E 2, which is trained on language and images to generate high-resolution renderings of imaginary scenes or objects simply from text prompts.',\n",
              " 'Due to their potential to transform the nature of cognitive work, economists expect that foundation models may affect every part of the economy and could lead to increases in economic growth similar to the industrial revolution.',\n",
              " 'In my own work, I’ve been looking at how GPT-3-based tools can assist researchers in the research process.',\n",
              " 'I am currently working with Ought, a San Francisco company developing an open-ended reasoning tool (called Elicit) that is intended to help researchers answer questions in minutes or hours instead of weeks or months.',\n",
              " 'Elicit is designed for a growing number of specific tasks relevant to research, like summarization, data labeling, rephrasing, brainstorming, and literature reviews.',\n",
              " 'I’ve found — not surprisingly — that Elicit works better for some tasks than others.',\n",
              " 'Tasks like data labeling and summarization are still rough around the edges, with noisy results and spotty accuracy, but research from Ought and research from OpenAI shows promise for the future.',\n",
              " 'For example, the rephrase task is useful for writing, but the lack of integration with word processing apps renders it impractical for now.',\n",
              " 'Brainstorming tasks are great for generating ideas or identifying overlooked topics, and despite the noisy results and barriers to adoption, they are currently valuable for a variety of situations.',\n",
              " 'Yet, of all the tasks Elicit offers, I find the literature review the most useful.',\n",
              " 'Because Elicit is an AI research assistant, this is sort of its bread-and-butter, and when I need to start digging into a new research topic, it has become my go-to resource.',\n",
              " 'All of this is changing how I work.',\n",
              " 'I spend much less time trying to find existing content relevant to my research questions because its results are more applicable than other, more traditional interfaces for academic search like Google Scholar.',\n",
              " 'I am also beginning to integrate brainstorming tasks into my work as well, and my experience with these tools has inspired my latest research, which seeks to utilize foundation models for supporting strategic planning.',\n",
              " 'How Can Organizations Prepare for the Future?',\n",
              " 'Identify your text data assets and determine how the latest techniques can be leveraged to add value for your firm.',\n",
              " 'You are certainly aware of the value of data, but you still may be overlooking some essential data assets if you are not utilizing text analytics and NLP throughout your organization.',\n",
              " 'Text data is certainly valuable for customer experience management and understanding the voice of the customer, but think about other text data assets in your organization: emails, analysts’ reports, contracts, press releases, archives — even meetings and phone calls can be transcribed.',\n",
              " 'There is so much text data, and you don’t need advanced models like GPT-3 to extract its value.',\n",
              " 'Hugging Face, an NLP startup, recently released AutoNLP, a new tool that automates training models for standard text analytics tasks by simply uploading your data to the platform.',\n",
              " 'The data still needs labels, but far fewer than in other applications.',\n",
              " 'Because many firms have made ambitious bets on AI only to struggle to drive value into the core business, remain cautious to not be overzealous.',\n",
              " 'This can be a good first step that your existing machine learning engineers — or even talented data scientists — can manage.',\n",
              " 'To take the next step, again, identify your data assets.',\n",
              " 'Many sectors, and even divisions within your organization, use highly specialized vocabularies.',\n",
              " 'Through a combination of your data assets and open datasets, train a model for the needs of specific sectors or divisions.',\n",
              " 'Think of finance.',\n",
              " 'You do not want a model specialized in finance.',\n",
              " 'You want a model customized for commercial banking, or for capital markets.',\n",
              " 'And data is critical, but now it is unlabeled data, and the more the better.',\n",
              " 'Specialized models like this can unlock untold value for your firm.',\n",
              " 'Understand how you might leverage AI-based language technologies to make better decisions or reorganize your skilled labor.',\n",
              " 'Language-based AI won’t replace jobs, but it will automate many tasks, even for decision makers.',\n",
              " 'Startups like Verneek are creating Elicit-like tools to enable everyone to make data-informed decisions.',\n",
              " 'These new tools will transcend traditional business intelligence and will transform the nature of many roles in organizations — programmers are just the beginning.',\n",
              " 'You need to start understanding how these technologies can be used to reorganize your skilled labor.',\n",
              " 'The next generation of tools like OpenAI’s Codex will lead to more productive programmers, which likely means fewer dedicated programmers and more employees with modest programming skills using them for an increasing number of more complex tasks.',\n",
              " 'This may not be true for all software developers, but it has significant implications for tasks like data processing and web development.',\n",
              " 'Begin incorporating new language-based AI tools for a variety of tasks to better understand their capabilities.',\n",
              " 'Right now tools like Elicit are just emerging, but they can already be useful in surprising ways.',\n",
              " 'In fact, the previous suggestion was inspired by one of Elicit’s brainstorming tasks conditioned on my other three suggestions.',\n",
              " 'The original suggestion itself wasn’t perfect, but it reminded me of some critical topics that I had overlooked, and I revised the article accordingly.',\n",
              " 'In organizations, tasks like this can assist strategic thinking or scenario-planning exercises.',\n",
              " 'Although there is tremendous potential for such applications, right now the results are still relatively crude, but they can already add value in their current state.',\n",
              " 'The bottom line is that you need to encourage broad adoption of language-based AI tools throughout your business.',\n",
              " 'It is difficult to anticipate just how these tools might be used at different levels of your organization, but the best way to get an understanding of this tech may be for you and other leaders in your firm to adopt it yourselves.',\n",
              " 'Don’t bet the boat on it because some of the tech may not work out, but if your team gains a better understanding of what is possible, then you will be ahead of the competition.',\n",
              " 'Remember that while current AI might not be poised to replace managers, managers who understand AI are poised to replace managers who don’t.',\n",
              " 'Do not underestimate the transformative potential of AI.',\n",
              " 'Large foundation models like GPT-3 exhibit abilities to generalize to a large number of tasks without any task-specific training.',\n",
              " 'The recent progress in this tech is a significant step toward human-level generalization and general artificial intelligence that are the ultimate goals of many AI researchers, including those at OpenAI and Google’s DeepMind.',\n",
              " 'Such systems have tremendous disruptive potential that could lead to AI-driven explosive economic growth, which would radically transform business and society.',\n",
              " 'While you may still be skeptical of radically transformative AI like artificial general intelligence, it is prudent for organizations’ leaders to be cognizant of early signs of progress due to its tremendous disruptive potential.',\n",
              " 'Consider that former Google chief Eric Schmidt expects general artificial intelligence in 10–20 years and that the UK recently took an official position on risks from artificial general intelligence.',\n",
              " 'Had organizations paid attention to Anthony Fauci’s 2017 warning on the importance of pandemic preparedness, the most severe effects of the pandemic and ensuing supply chain crisis may have been avoided.',\n",
              " 'Ignoring the transformative potential of AI also carries risks, and similar to the supply chain crisis, firms’ inaction or irresponsible use of AI could have widespread and damaging effects on society (e.g., increasing inequality or domain-specific risks from automation).',\n",
              " 'However, unlike the supply chain crisis, societal changes from transformative AI will likely be irreversible and could even continue to accelerate.',\n",
              " 'Organizations should begin preparing now not only to capitalize on transformative AI, but to do their part to avoid undesirable futures and ensure that advanced AI is used to equitably benefit society.',\n",
              " 'Language-Based AI Tools Are Here to Stay\\n\\nPowerful generalizable language-based AI tools like Elicit are here, and they are just the tip of the iceberg; multimodal foundation model-based tools are poised to transform business in ways that are still difficult to predict.',\n",
              " 'To begin preparing now, start understanding your text data assets and the variety of cognitive tasks involved in different roles in your organization.',\n",
              " 'Aggressively adopt new language-based AI technologies; some will work well and others will not, but your employees will be quicker to adjust when you move on to the next.',\n",
              " 'And don’t forget to adopt these technologies yourself — this is the best way for you to start to understand their future roles in your organization.']"
            ]
          },
          "metadata": {},
          "execution_count": 46
        }
      ],
      "source": [
        "original_sentences"
      ]
    },
    {
      "cell_type": "code",
      "execution_count": null,
      "metadata": {
        "colab": {
          "base_uri": "https://localhost:8080/"
        },
        "id": "4QBGNJr-gCeb",
        "outputId": "98c08b87-29a3-4c70-ec07-4a0731c0f702"
      },
      "outputs": [
        {
          "output_type": "stream",
          "name": "stdout",
          "text": [
            "['10' '10x' '20' '2017' 'abilities' 'able' 'about' 'academic' 'accelerate'\n",
            " 'accordingly' 'accuracy' 'act' 'add' 'adjust' 'adopt' 'adoption'\n",
            " 'advanced' 'advances' 'affect' 'again' 'aggressively' 'ago' 'ahead' 'ai'\n",
            " 'aligned' 'all' 'already' 'also' 'although' 'am' 'ambitious' 'an'\n",
            " 'analysts' 'analytics' 'analyzing' 'and' 'answer' 'answering' 'anthony'\n",
            " 'anticipate' 'any' 'appeared' 'applicable' 'applications' 'apps'\n",
            " 'archives' 'are' 'area' 'areas' 'around' 'article' 'artificial' 'as'\n",
            " 'assets' 'assist' 'assistant' 'at' 'attention' 'authored' 'automate'\n",
            " 'automates' 'automation' 'autonlp' 'avoid' 'avoided' 'aware' 'banking'\n",
            " 'barriers' 'based' 'basic' 'be' 'because' 'become' 'been' 'begin'\n",
            " 'beginning' 'benefit' 'best' 'bet' 'bets' 'better' 'blocks' 'blog' 'boat'\n",
            " 'bottom' 'bounds' 'brainstorming' 'branch' 'bread' 'breakthroughs'\n",
            " 'broad' 'business' 'businesses' 'but' 'butter' 'by' 'call' 'called'\n",
            " 'calls' 'can' 'capabilities' 'capability' 'capable' 'capital'\n",
            " 'capitalize' 'carries' 'cautious' 'certainly' 'chain' 'change' 'changes'\n",
            " 'changing' 'chief' 'classifying' 'code' 'codex' 'coding' 'cognitive'\n",
            " 'cognizant' 'combination' 'comes' 'commercial' 'common' 'companies'\n",
            " 'company' 'compete' 'competition' 'competitions' 'complex' 'computers'\n",
            " 'conditioned' 'consider' 'considered' 'content' 'continue' 'contracts'\n",
            " 'conventional' 'copilot' 'core' 'could' 'creating' 'creative' 'creator'\n",
            " 'crisis' 'critical' 'crude' 'current' 'currently' 'customer' 'customized'\n",
            " 'dall' 'damaging' 'data' 'datasets' 'decision' 'decisions' 'dedicated'\n",
            " 'deepmind' 'demonstrates' 'designed' 'despite' 'determine' 'developed'\n",
            " 'developers' 'developing' 'development' 'different' 'difficult' 'digging'\n",
            " 'discipline' 'disruptive' 'divisions' 'do' 'documents' 'domain' 'don'\n",
            " 'drive' 'driven' 'due' 'early' 'economic' 'economists' 'economy' 'edge'\n",
            " 'edges' 'effects' 'elicit' 'emails' 'emerging' 'employees' 'enable'\n",
            " 'enabled' 'encourage' 'ended' 'engineers' 'ensuing' 'ensure' 'equitably'\n",
            " 'eric' 'especially' 'essential' 'even' 'every' 'everyone' 'example'\n",
            " 'excels' 'exercises' 'exhibit' 'existing' 'expect' 'expected' 'expects'\n",
            " 'experience' 'explosive' 'extract' 'face' 'fact' 'far' 'fauci' 'feats'\n",
            " 'few' 'fewer' 'finance' 'find' 'fine' 'firm' 'firms' 'first' 'focus'\n",
            " 'focused' 'following' 'for' 'forget' 'former' 'forms' 'found'\n",
            " 'foundation' 'francisco' 'from' 'funded' 'further' 'future' 'futures'\n",
            " 'gains' 'game' 'games' 'general' 'generalizable' 'generalization'\n",
            " 'generalize' 'generate' 'generating' 'generation' 'get' 'github' 'go'\n",
            " 'goals' 'gone' 'good' 'google' 'gpt' 'grabbing' 'great' 'growing'\n",
            " 'growth' 'guardian' 'had' 'has' 'have' 'help' 'here' 'high' 'highly'\n",
            " 'hours' 'how' 'however' 'hugging' 'human' 'humans' 'iceberg' 'ideas'\n",
            " 'identify' 'identifying' 'if' 'ignoring' 'images' 'imaginary'\n",
            " 'implications' 'importance' 'impractical' 'impressive' 'improve' 'in'\n",
            " 'inaction' 'including' 'incorporating' 'increases' 'increasing'\n",
            " 'indicative' 'industrial' 'inequality' 'inferior' 'informed' 'input'\n",
            " 'inspired' 'instead' 'instructgpt' 'instructions' 'integrate'\n",
            " 'integration' 'intelligence' 'intended' 'intentions' 'interfaces' 'into'\n",
            " 'involved' 'irresponsible' 'irreversible' 'is' 'it' 'its' 'itself' 'jobs'\n",
            " 'just' 'known' 'lab' 'labeling' 'labels' 'labor' 'lack' 'language'\n",
            " 'large' 'larger' 'latest' 'lead' 'leaders' 'leaps' 'learning' 'less'\n",
            " 'level' 'levels' 'leverage' 'leveraged' 'like' 'likely' 'line'\n",
            " 'literature' 'logic' 'looking' 'machine' 'made' 'make' 'makers' 'making'\n",
            " 'manage' 'management' 'managers' 'many' 'markets' 'math' 'may' 'me'\n",
            " 'means' 'meetings' 'microsoft' 'might' 'minutes' 'model' 'models'\n",
            " 'modest' 'months' 'more' 'most' 'move' 'much' 'multimodal' 'multiple'\n",
            " 'my' 'natural' 'nature' 'necessary' 'need' 'needs' 'new' 'next' 'nlp'\n",
            " 'noisy' 'not' 'notions' 'now' 'number' 'objects' 'of' 'offers' 'official'\n",
            " 'on' 'one' 'ones' 'only' 'open' 'openai' 'or' 'organization'\n",
            " 'organizations' 'original' 'other' 'others' 'ought' 'out' 'outperform'\n",
            " 'over' 'overlooked' 'overlooking' 'overzealous' 'own' 'paid' 'pandemic'\n",
            " 'part' 'past' 'perfect' 'perform' 'phone' 'pivotal' 'planning' 'platform'\n",
            " 'poised' 'position' 'possible' 'posts' 'potential' 'powerful' 'powering'\n",
            " 'practitioners' 'preceding' 'predict' 'prepare' 'preparedness'\n",
            " 'preparing' 'press' 'previous' 'problems' 'process' 'processing'\n",
            " 'productive' 'products' 'programmers' 'programming' 'programs' 'progress'\n",
            " 'promise' 'promising' 'prompts' 'prudent' 'qualitative' 'questions'\n",
            " 'quicker' 'radically' 'rapidly' 'really' 'reasoning' 'recent' 'recently'\n",
            " 'relatively' 'release' 'released' 'releases' 'relevant' 'remain'\n",
            " 'remember' 'reminded' 'renderings' 'renders' 'reorganize' 'rephrase'\n",
            " 'rephrasing' 'replace' 'reports' 'research' 'researchers' 'reshaping'\n",
            " 'resolution' 'resource' 'responses' 'results' 'review' 'reviews'\n",
            " 'revised' 'revolution' 'right' 'risks' 'roles' 'rough' 'same' 'san'\n",
            " 'scenario' 'scenes' 'schmidt' 'scholar' 'school' 'scientists' 'search'\n",
            " 'sectors' 'seeks' 'sentence' 'sentiment' 'severe' 'should' 'shows'\n",
            " 'significant' 'signs' 'similar' 'simple' 'simply' 'situations'\n",
            " 'skeptical' 'skilled' 'skills' 'so' 'societal' 'society' 'software'\n",
            " 'solving' 'some' 'sort' 'specialized' 'specific' 'spend' 'spotty'\n",
            " 'standard' 'start' 'startup' 'startups' 'state' 'statistics' 'stay'\n",
            " 'step' 'still' 'strategic' 'struggle' 'stunts' 'subsidiary' 'such'\n",
            " 'suggestion' 'suggestions' 'summarization' 'summarizing' 'supply'\n",
            " 'supporting' 'surprising' 'surprisingly' 'systems' 'take' 'talented'\n",
            " 'task' 'tasks' 'team' 'tech' 'techniques' 'technologies' 'technology'\n",
            " 'text' 'than' 'that' 'the' 'their' 'them' 'then' 'there' 'these' 'they'\n",
            " 'think' 'thinking' 'this' 'those' 'three' 'through' 'throughout' 'time'\n",
            " 'tip' 'to' 'took' 'tool' 'tools' 'topic' 'topics' 'toward' 'traditional'\n",
            " 'train' 'trained' 'training' 'transcend' 'transcribed' 'transform'\n",
            " 'transformative' 'tremendous' 'true' 'trying' 'tuned' 'two' 'types'\n",
            " 'typing' 'uk' 'ultimate' 'underestimate' 'understand' 'understanding'\n",
            " 'undesirable' 'unlabeled' 'unlike' 'unlock' 'until' 'untold' 'uploading'\n",
            " 'upon' 'use' 'used' 'useful' 'user' 'uses' 'using' 'utilize' 'utilizing'\n",
            " 'valuable' 'value' 'values' 'variety' 've' 'verneek' 'version' 'video'\n",
            " 'viral' 'visible' 'vocabularies' 'voice' 'want' 'warning' 'was' 'wasn'\n",
            " 'way' 'ways' 'web' 'weeks' 'well' 'weren' 'what' 'when' 'where' 'which'\n",
            " 'while' 'who' 'widespread' 'will' 'wisdom' 'with' 'within' 'without'\n",
            " 'won' 'word' 'words' 'work' 'working' 'works' 'would' 'write' 'writing'\n",
            " 'years' 'yet' 'you' 'your' 'yourself' 'yourselves']\n"
          ]
        }
      ],
      "source": [
        "vectorizer = CountVectorizer()\n",
        "X_sentences = vectorizer.fit_transform(original_sentences)\n",
        "print(vectorizer.get_feature_names_out())"
      ]
    },
    {
      "cell_type": "code",
      "execution_count": null,
      "metadata": {
        "colab": {
          "base_uri": "https://localhost:8080/"
        },
        "id": "fRhRTdbDgT7U",
        "outputId": "3b3e8d44-8cf7-44ff-ac55-ade7e0d25873"
      },
      "outputs": [
        {
          "output_type": "execute_result",
          "data": {
            "text/plain": [
              "671"
            ]
          },
          "metadata": {},
          "execution_count": 48
        }
      ],
      "source": [
        "len(vectorizer.get_feature_names_out())"
      ]
    },
    {
      "cell_type": "code",
      "execution_count": null,
      "metadata": {
        "colab": {
          "base_uri": "https://localhost:8080/"
        },
        "id": "EU_3RPpugi_n",
        "outputId": "30eabcc3-09ae-4f28-a3ea-3088ab20901b"
      },
      "outputs": [
        {
          "output_type": "execute_result",
          "data": {
            "text/plain": [
              "array([[0, 0, 0, ..., 0, 0, 0],\n",
              "       [0, 0, 0, ..., 0, 0, 0],\n",
              "       [0, 0, 0, ..., 0, 0, 0],\n",
              "       ...,\n",
              "       [0, 0, 0, ..., 2, 0, 0],\n",
              "       [0, 0, 0, ..., 1, 0, 0],\n",
              "       [0, 0, 0, ..., 1, 1, 0]])"
            ]
          },
          "metadata": {},
          "execution_count": 49
        }
      ],
      "source": [
        "X_sentences.toarray()"
      ]
    },
    {
      "cell_type": "code",
      "execution_count": null,
      "metadata": {
        "colab": {
          "base_uri": "https://localhost:8080/"
        },
        "id": "QNqDsj1_hKOh",
        "outputId": "6ab5994d-06a0-43e5-f22e-6a0b5f720191"
      },
      "outputs": [
        {
          "output_type": "execute_result",
          "data": {
            "text/plain": [
              "array([0, 0, 0, 0, 0, 0, 0, 0, 0, 0, 0, 0, 0, 0, 0, 0, 0, 0, 0, 0, 0, 0,\n",
              "       0, 1, 0, 0, 0, 0, 0, 0, 0, 0, 0, 0, 0, 0, 0, 0, 0, 0, 0, 0, 0, 0,\n",
              "       0, 0, 0, 0, 0, 1, 0, 0, 0, 0, 0, 0, 0, 0, 0, 0, 0, 0, 0, 0, 0, 0,\n",
              "       0, 0, 0, 0, 0, 0, 0, 1, 0, 0, 0, 0, 0, 0, 0, 0, 0, 0, 0, 0, 0, 0,\n",
              "       0, 0, 0, 0, 0, 0, 0, 0, 0, 0, 0, 1, 0, 0, 0, 0, 0, 0, 0, 0, 0, 0,\n",
              "       0, 0, 0, 0, 0, 0, 0, 0, 0, 0, 1, 0, 0, 0, 0, 1, 0, 0, 0, 1, 0, 0,\n",
              "       0, 0, 0, 0, 1, 0, 0, 0, 0, 0, 0, 0, 0, 0, 0, 0, 0, 0, 0, 0, 1, 0,\n",
              "       1, 0, 0, 0, 0, 0, 0, 0, 0, 0, 0, 0, 0, 0, 0, 0, 0, 0, 0, 0, 0, 0,\n",
              "       0, 1, 0, 0, 0, 0, 0, 1, 0, 0, 0, 0, 0, 0, 0, 0, 0, 0, 0, 0, 0, 0,\n",
              "       0, 0, 0, 0, 0, 0, 0, 0, 0, 0, 0, 0, 0, 0, 0, 0, 0, 0, 0, 0, 0, 0,\n",
              "       0, 0, 0, 0, 0, 0, 0, 0, 0, 0, 0, 0, 0, 0, 0, 0, 0, 0, 0, 0, 0, 0,\n",
              "       0, 0, 0, 0, 0, 0, 0, 0, 0, 0, 0, 0, 0, 0, 0, 0, 0, 0, 0, 0, 0, 0,\n",
              "       0, 0, 0, 1, 1, 0, 0, 0, 0, 0, 0, 0, 0, 0, 1, 0, 0, 0, 0, 0, 0, 0,\n",
              "       0, 0, 0, 0, 0, 0, 0, 0, 0, 0, 0, 0, 0, 0, 0, 0, 0, 0, 0, 0, 0, 0,\n",
              "       0, 0, 0, 0, 0, 0, 0, 0, 0, 0, 0, 2, 0, 0, 0, 0, 0, 0, 0, 0, 0, 0,\n",
              "       0, 0, 0, 0, 0, 0, 0, 0, 0, 0, 0, 0, 0, 0, 0, 0, 0, 0, 0, 0, 0, 0,\n",
              "       0, 1, 0, 0, 0, 0, 0, 0, 0, 0, 0, 0, 0, 0, 0, 0, 0, 0, 0, 0, 0, 0,\n",
              "       0, 0, 0, 0, 0, 0, 0, 0, 0, 0, 0, 0, 0, 0, 0, 0, 0, 0, 0, 0, 0, 1,\n",
              "       0, 0, 0, 0, 0, 0, 0, 0, 0, 0, 0, 0, 0, 0, 1, 0, 0, 0, 0, 0, 0, 0,\n",
              "       0, 0, 0, 0, 0, 0, 0, 0, 0, 0, 0, 0, 0, 0, 0, 0, 0, 0, 0, 0, 0, 0,\n",
              "       0, 0, 0, 0, 0, 0, 0, 0, 0, 0, 0, 0, 0, 1, 0, 0, 0, 0, 0, 0, 0, 0,\n",
              "       0, 0, 0, 0, 0, 0, 0, 0, 0, 0, 0, 0, 0, 0, 0, 0, 0, 0, 0, 0, 0, 0,\n",
              "       0, 0, 0, 0, 0, 0, 0, 0, 0, 0, 0, 0, 0, 0, 0, 0, 0, 0, 0, 0, 0, 0,\n",
              "       0, 0, 0, 0, 0, 0, 0, 0, 0, 0, 0, 0, 0, 0, 0, 0, 0, 0, 0, 0, 0, 0,\n",
              "       0, 0, 0, 0, 0, 0, 0, 0, 0, 0, 0, 0, 0, 0, 0, 0, 0, 0, 0, 0, 0, 0,\n",
              "       0, 0, 0, 0, 1, 0, 0, 0, 0, 0, 0, 0, 1, 2, 0, 0, 0, 0, 0, 0, 0, 0,\n",
              "       0, 0, 0, 0, 0, 0, 0, 1, 0, 0, 0, 0, 0, 0, 0, 0, 0, 0, 0, 0, 0, 0,\n",
              "       0, 0, 0, 0, 0, 0, 0, 0, 0, 0, 0, 0, 0, 0, 0, 0, 0, 0, 0, 0, 0, 0,\n",
              "       0, 0, 0, 0, 0, 0, 0, 0, 0, 0, 0, 0, 0, 0, 0, 0, 0, 0, 0, 0, 0, 0,\n",
              "       0, 0, 0, 0, 0, 0, 0, 1, 0, 0, 1, 0, 0, 0, 1, 0, 0, 0, 0, 0, 0, 0,\n",
              "       0, 0, 0, 0, 0, 0, 0, 0, 0, 0, 0])"
            ]
          },
          "metadata": {},
          "execution_count": 50
        }
      ],
      "source": [
        "X_sentences.toarray()[0]"
      ]
    },
    {
      "cell_type": "code",
      "execution_count": null,
      "metadata": {
        "colab": {
          "base_uri": "https://localhost:8080/",
          "height": 53
        },
        "id": "0ZGpbg8phO7O",
        "outputId": "de9fe871-02b5-4f23-cdf1-4b560da4dfbc"
      },
      "outputs": [
        {
          "output_type": "execute_result",
          "data": {
            "text/plain": [
              "'The conventional wisdom around AI has been that while computers have the edge over humans when it comes to data-driven decision making, it can’t compete on qualitative tasks.'"
            ],
            "application/vnd.google.colaboratory.intrinsic+json": {
              "type": "string"
            }
          },
          "metadata": {},
          "execution_count": 51
        }
      ],
      "source": [
        "original_sentences[0]"
      ]
    },
    {
      "cell_type": "markdown",
      "metadata": {
        "id": "z0uIGqGh2N45"
      },
      "source": [
        "### TF-IDF"
      ]
    },
    {
      "cell_type": "code",
      "execution_count": null,
      "metadata": {
        "colab": {
          "base_uri": "https://localhost:8080/"
        },
        "id": "9lbnX-xb2QLO",
        "outputId": "7cecc0aa-9f53-4495-e453-cdbff39d7a2a"
      },
      "outputs": [
        {
          "output_type": "execute_result",
          "data": {
            "text/plain": [
              "['this is the first document.',\n",
              " 'this document is the second document.',\n",
              " 'and this is the third one.',\n",
              " 'is this the first document']"
            ]
          },
          "metadata": {},
          "execution_count": 52
        }
      ],
      "source": [
        "sentences"
      ]
    },
    {
      "cell_type": "markdown",
      "metadata": {
        "id": "FjJyOdZq2aDD"
      },
      "source": [
        "TF = frekuensi kata T muncul pada suatu kalimat / jumlah kata pada kalimat"
      ]
    },
    {
      "cell_type": "code",
      "execution_count": null,
      "metadata": {
        "colab": {
          "base_uri": "https://localhost:8080/"
        },
        "id": "t4pr-NTz2Agy",
        "outputId": "69cd8f64-781b-44c5-c248-59438232252f"
      },
      "outputs": [
        {
          "output_type": "execute_result",
          "data": {
            "text/plain": [
              "(0.2, 0.16666666666666666)"
            ]
          },
          "metadata": {},
          "execution_count": 53
        }
      ],
      "source": [
        "tf1 = 1/5 #tf kata dokumen di kalimat pertama\n",
        "tf2 = 1/6 #tf kata dokumen di kalimat kedua\n",
        "tf1, tf2"
      ]
    },
    {
      "cell_type": "markdown",
      "metadata": {
        "id": "SdwQvy1L2t81"
      },
      "source": [
        "IDF = 1 + Log(jumlah kalimat pada dokumen / jumlah kalimat dimana kata T muncul)"
      ]
    },
    {
      "cell_type": "code",
      "execution_count": null,
      "metadata": {
        "colab": {
          "base_uri": "https://localhost:8080/"
        },
        "id": "riG776k33ERU",
        "outputId": "106cf59d-b49b-4e25-8ccb-b0650dc530e4"
      },
      "outputs": [
        {
          "output_type": "execute_result",
          "data": {
            "text/plain": [
              "(1.2876820724517808, 1.6931471805599454)"
            ]
          },
          "metadata": {},
          "execution_count": 54
        }
      ],
      "source": [
        "#ada 4 kalimat pada dokumen sentences\n",
        "import math\n",
        "idf1 = 1+math.log(4/3) #idf kata dokumen\n",
        "idf2 = 1+math.log(4/2) #idf kata first\n",
        "idf1, idf2"
      ]
    },
    {
      "cell_type": "code",
      "execution_count": null,
      "metadata": {
        "id": "qAKAbC1TaV4q"
      },
      "outputs": [],
      "source": [
        "from sklearn.feature_extraction.text import TfidfVectorizer"
      ]
    },
    {
      "cell_type": "code",
      "execution_count": null,
      "metadata": {
        "id": "BnvZfTcaadwL"
      },
      "outputs": [],
      "source": [
        "vectorizer = TfidfVectorizer()\n",
        "X = vectorizer.fit_transform(sentences)"
      ]
    },
    {
      "cell_type": "code",
      "execution_count": null,
      "metadata": {
        "colab": {
          "base_uri": "https://localhost:8080/"
        },
        "id": "WW9qLpXWaxus",
        "outputId": "1380d205-7073-4763-9c94-3a4a0f4ffed3"
      },
      "outputs": [
        {
          "output_type": "execute_result",
          "data": {
            "text/plain": [
              "array(['and', 'document', 'first', 'is', 'one', 'second', 'the', 'third',\n",
              "       'this'], dtype=object)"
            ]
          },
          "metadata": {},
          "execution_count": 57
        }
      ],
      "source": [
        "vectorizer.get_feature_names_out()"
      ]
    },
    {
      "cell_type": "code",
      "execution_count": null,
      "metadata": {
        "colab": {
          "base_uri": "https://localhost:8080/"
        },
        "id": "s3DHjF1za-CB",
        "outputId": "1c7038da-02f8-466f-a422-1f540f22cede"
      },
      "outputs": [
        {
          "output_type": "execute_result",
          "data": {
            "text/plain": [
              "array([1.91629073, 1.22314355, 1.51082562, 1.        , 1.91629073,\n",
              "       1.91629073, 1.        , 1.91629073, 1.        ])"
            ]
          },
          "metadata": {},
          "execution_count": 58
        }
      ],
      "source": [
        "vectorizer.idf_"
      ]
    },
    {
      "cell_type": "code",
      "execution_count": null,
      "metadata": {
        "colab": {
          "base_uri": "https://localhost:8080/"
        },
        "id": "sdfQfrQYbuLQ",
        "outputId": "f8d6eb49-fe7f-444d-b96a-6248a668d778"
      },
      "outputs": [
        {
          "output_type": "execute_result",
          "data": {
            "text/plain": [
              "array([[0.        , 0.46979139, 0.58028582, 0.38408524, 0.        ,\n",
              "        0.        , 0.38408524, 0.        , 0.38408524],\n",
              "       [0.        , 0.6876236 , 0.        , 0.28108867, 0.        ,\n",
              "        0.53864762, 0.28108867, 0.        , 0.28108867],\n",
              "       [0.51184851, 0.        , 0.        , 0.26710379, 0.51184851,\n",
              "        0.        , 0.26710379, 0.51184851, 0.26710379],\n",
              "       [0.        , 0.46979139, 0.58028582, 0.38408524, 0.        ,\n",
              "        0.        , 0.38408524, 0.        , 0.38408524]])"
            ]
          },
          "metadata": {},
          "execution_count": 59
        }
      ],
      "source": [
        "X.toarray()"
      ]
    },
    {
      "cell_type": "markdown",
      "metadata": {
        "id": "S4attkU54bNY"
      },
      "source": [
        "### Cosine Similarity"
      ]
    },
    {
      "cell_type": "markdown",
      "metadata": {
        "id": "Gg_uDmrcLXGG"
      },
      "source": [
        "step by step calculation : https://janav.wordpress.com/2013/10/27/tf-idf-and-cosine-similarity/"
      ]
    },
    {
      "cell_type": "code",
      "execution_count": null,
      "metadata": {
        "colab": {
          "base_uri": "https://localhost:8080/"
        },
        "id": "MTOeILxDL6gj",
        "outputId": "04b45c0f-b447-4d1d-a54a-55169ff807de"
      },
      "outputs": [
        {
          "output_type": "execute_result",
          "data": {
            "text/plain": [
              "(81, 671)"
            ]
          },
          "metadata": {},
          "execution_count": 60
        }
      ],
      "source": [
        "X_sentences.shape"
      ]
    },
    {
      "cell_type": "code",
      "execution_count": null,
      "metadata": {
        "colab": {
          "base_uri": "https://localhost:8080/"
        },
        "id": "7v66NzNIMRvZ",
        "outputId": "f62a6ece-0493-4b9f-c684-d9e121538c71"
      },
      "outputs": [
        {
          "output_type": "execute_result",
          "data": {
            "text/plain": [
              "array([[0, 0, 0, ..., 0, 0, 0],\n",
              "       [0, 0, 0, ..., 0, 0, 0],\n",
              "       [0, 0, 0, ..., 0, 0, 0],\n",
              "       [0, 0, 0, ..., 0, 0, 0]])"
            ]
          },
          "metadata": {},
          "execution_count": 61
        }
      ],
      "source": [
        "import numpy as np\n",
        "X_test_similarity = X_sentences[0:3].toarray()\n",
        "X_test_similarity = np.concatenate((X_test_similarity, X_test_similarity[0].reshape(1,-1)), axis=0)\n",
        "X_test_similarity"
      ]
    },
    {
      "cell_type": "code",
      "execution_count": null,
      "metadata": {
        "colab": {
          "base_uri": "https://localhost:8080/"
        },
        "id": "v7p7RXXRM3aI",
        "outputId": "8ab9b269-e71c-4484-c787-6dee77e7a9bb"
      },
      "outputs": [
        {
          "output_type": "execute_result",
          "data": {
            "text/plain": [
              "array([[0.08703883]])"
            ]
          },
          "metadata": {},
          "execution_count": 62
        }
      ],
      "source": [
        "from sklearn.metrics.pairwise import cosine_similarity\n",
        "\n",
        "cosine_similarity(X_test_similarity[0].reshape(1,-1), X_test_similarity[1].reshape(1,-1))"
      ]
    },
    {
      "cell_type": "code",
      "execution_count": null,
      "metadata": {
        "colab": {
          "base_uri": "https://localhost:8080/",
          "height": 53
        },
        "id": "B8_38RMYNSld",
        "outputId": "de7a42fc-e954-455c-9e72-6b9405b6b50e"
      },
      "outputs": [
        {
          "output_type": "execute_result",
          "data": {
            "text/plain": [
              "'The conventional wisdom around AI has been that while computers have the edge over humans when it comes to data-driven decision making, it can’t compete on qualitative tasks.'"
            ],
            "application/vnd.google.colaboratory.intrinsic+json": {
              "type": "string"
            }
          },
          "metadata": {},
          "execution_count": 63
        }
      ],
      "source": [
        "original_sentences[0]"
      ]
    },
    {
      "cell_type": "code",
      "execution_count": null,
      "metadata": {
        "colab": {
          "base_uri": "https://localhost:8080/",
          "height": 36
        },
        "id": "59b54OlZNi_j",
        "outputId": "3a84a3b8-e3ab-446b-f3d7-398a5b1b6e79"
      },
      "outputs": [
        {
          "output_type": "execute_result",
          "data": {
            "text/plain": [
              "'That, however, is changing.'"
            ],
            "application/vnd.google.colaboratory.intrinsic+json": {
              "type": "string"
            }
          },
          "metadata": {},
          "execution_count": 64
        }
      ],
      "source": [
        "original_sentences[1]"
      ]
    },
    {
      "cell_type": "code",
      "execution_count": null,
      "metadata": {
        "colab": {
          "base_uri": "https://localhost:8080/"
        },
        "id": "X5Qw825gNnu8",
        "outputId": "325c158f-a145-4d90-e58c-689858489cdb"
      },
      "outputs": [
        {
          "output_type": "execute_result",
          "data": {
            "text/plain": [
              "array([[0.07784989]])"
            ]
          },
          "metadata": {},
          "execution_count": 65
        }
      ],
      "source": [
        "cosine_similarity(X_test_similarity[0].reshape(1,-1), X_test_similarity[2].reshape(1,-1))"
      ]
    },
    {
      "cell_type": "code",
      "execution_count": null,
      "metadata": {
        "colab": {
          "base_uri": "https://localhost:8080/",
          "height": 36
        },
        "id": "OyNB5fwlNsDB",
        "outputId": "b28750d8-80a2-4868-902f-917a7be2f859"
      },
      "outputs": [
        {
          "output_type": "execute_result",
          "data": {
            "text/plain": [
              "'Natural language processing (NLP) tools have advanced rapidly and can help with writing, coding, and discipline-specific reasoning.'"
            ],
            "application/vnd.google.colaboratory.intrinsic+json": {
              "type": "string"
            }
          },
          "metadata": {},
          "execution_count": 66
        }
      ],
      "source": [
        "original_sentences[2]"
      ]
    },
    {
      "cell_type": "code",
      "execution_count": null,
      "metadata": {
        "colab": {
          "base_uri": "https://localhost:8080/"
        },
        "id": "cNTJKGL9Pb3l",
        "outputId": "c930a6a9-9689-4e1f-e67a-e059ae630579"
      },
      "outputs": [
        {
          "output_type": "execute_result",
          "data": {
            "text/plain": [
              "array([[1.        , 0.08703883, 0.07784989, 1.        ]])"
            ]
          },
          "metadata": {},
          "execution_count": 67
        }
      ],
      "source": [
        "cosine_similarity(X_test_similarity[0].reshape(1,-1), X_test_similarity)"
      ]
    },
    {
      "cell_type": "markdown",
      "metadata": {
        "id": "2F7xp3ZTPlMB"
      },
      "source": [
        "### CHATBOT"
      ]
    },
    {
      "cell_type": "code",
      "execution_count": null,
      "metadata": {
        "id": "8mCL5p74PoM5"
      },
      "outputs": [],
      "source": [
        "welcome_words_input = ('hey', 'hello', 'hi')\n",
        "welcome_words_output = ('hey', 'hello', 'hi', 'how are you?', 'welcome', 'how are you doing?')"
      ]
    },
    {
      "cell_type": "code",
      "execution_count": null,
      "metadata": {
        "colab": {
          "base_uri": "https://localhost:8080/"
        },
        "id": "i2RDyItCy0yo",
        "outputId": "ac5ecfc8-1ef9-4706-ed8e-5c22a83be5f4"
      },
      "outputs": [
        {
          "output_type": "execute_result",
          "data": {
            "text/plain": [
              "['how', 'are', 'you']"
            ]
          },
          "metadata": {},
          "execution_count": 69
        }
      ],
      "source": [
        "'how are you'.split()"
      ]
    },
    {
      "cell_type": "code",
      "execution_count": null,
      "metadata": {
        "id": "g0uz5F1ty6iA"
      },
      "outputs": [],
      "source": [
        "import random\n",
        "def welcome_message(text):\n",
        "  for word in text.split():\n",
        "    if word.lower() in welcome_words_input:\n",
        "      return random.choice(welcome_words_output)"
      ]
    },
    {
      "cell_type": "code",
      "execution_count": null,
      "metadata": {
        "colab": {
          "base_uri": "https://localhost:8080/",
          "height": 36
        },
        "id": "DsJFheU6zeVJ",
        "outputId": "70f19180-ea8f-4b15-c045-eed376ec7e95"
      },
      "outputs": [
        {
          "output_type": "execute_result",
          "data": {
            "text/plain": [
              "'how are you?'"
            ],
            "application/vnd.google.colaboratory.intrinsic+json": {
              "type": "string"
            }
          },
          "metadata": {},
          "execution_count": 71
        }
      ],
      "source": [
        "welcome_message('hello worlds')"
      ]
    },
    {
      "cell_type": "code",
      "source": [
        "def answer(user_text, threshold = 0.2):\n",
        "  cleaned_sentences = []\n",
        "  for sentence in original_sentences:\n",
        "    cleaned_sentences.append(preprocessing(sentence))\n",
        "  #print(cleaned_sentences)\n",
        "\n",
        "  chatbot_answer = ''\n",
        "  user_text = preprocessing(user_text)\n",
        "  #print(user_text)\n",
        "  cleaned_sentences.append(user_text)\n",
        "  #print(cleaned_sentences[-1])\n",
        "\n",
        "  tfidf = TfidfVectorizer()\n",
        "  X_sentences = tfidf.fit_transform(cleaned_sentences)\n",
        "  #print(X_sentences.toarray()[-1])\n",
        "  similarity = cosine_similarity(X_sentences[-1], X_sentences)\n",
        "  #print(similarity)\n",
        "  sentence_index = similarity.argsort()[0][-2]\n",
        "  #print(sentence_index)\n",
        "  #print(similarity[0][sentence_index])\n",
        "\n",
        "  if similarity[0][sentence_index] < threshold:\n",
        "    chatbot_answer += 'Sorry, no answer was found!'\n",
        "  else:\n",
        "    chatbot_answer += original_sentences[sentence_index]\n",
        "\n",
        "  return chatbot_answer  "
      ],
      "metadata": {
        "id": "WNfbGnANykA9"
      },
      "execution_count": null,
      "outputs": []
    },
    {
      "cell_type": "code",
      "source": [
        "answer('What is natural language processing?', 0.3)"
      ],
      "metadata": {
        "colab": {
          "base_uri": "https://localhost:8080/",
          "height": 36
        },
        "id": "AF-1VI94ymtK",
        "outputId": "fb040132-db6b-4f76-8ad0-80d309be4c2c"
      },
      "execution_count": null,
      "outputs": [
        {
          "output_type": "execute_result",
          "data": {
            "text/plain": [
              "'The most visible advances have been in what’s called “natural language processing” (NLP), the branch of AI focused on how computers can process language like humans do.'"
            ],
            "application/vnd.google.colaboratory.intrinsic+json": {
              "type": "string"
            }
          },
          "metadata": {},
          "execution_count": 77
        }
      ]
    },
    {
      "cell_type": "code",
      "source": [
        "answer('What is NLP?', 0.2)"
      ],
      "metadata": {
        "colab": {
          "base_uri": "https://localhost:8080/",
          "height": 36
        },
        "id": "5iTk3xQGyy1m",
        "outputId": "98892ed4-bcf9-4523-b456-c4c2c635e754"
      },
      "execution_count": null,
      "outputs": [
        {
          "output_type": "execute_result",
          "data": {
            "text/plain": [
              "'Natural language processing (NLP) tools have advanced rapidly and can help with writing, coding, and discipline-specific reasoning.'"
            ],
            "application/vnd.google.colaboratory.intrinsic+json": {
              "type": "string"
            }
          },
          "metadata": {},
          "execution_count": 81
        }
      ]
    },
    {
      "cell_type": "code",
      "source": [
        "answer('hello', 0.3)"
      ],
      "metadata": {
        "colab": {
          "base_uri": "https://localhost:8080/",
          "height": 36
        },
        "id": "tp9lU1AtzWaX",
        "outputId": "e77ce1a1-39b7-4efe-a5c8-3a523d6ff3af"
      },
      "execution_count": null,
      "outputs": [
        {
          "output_type": "execute_result",
          "data": {
            "text/plain": [
              "'Sorry, no answer was found!'"
            ],
            "application/vnd.google.colaboratory.intrinsic+json": {
              "type": "string"
            }
          },
          "metadata": {},
          "execution_count": 82
        }
      ]
    },
    {
      "cell_type": "code",
      "source": [
        "cont = True\n",
        "print('Hello! I am a chatbot and I will answer your questions about natural language processing')\n",
        "while cont == True:\n",
        "  user_text = input()\n",
        "  if user_text != 'quit':\n",
        "    if welcome_message(user_text) != None:\n",
        "      print('Chatbot: ' + welcome_message(user_text))\n",
        "    else:\n",
        "      print('Chatbot:')\n",
        "      print(answer(user_text))  \n",
        "  else:\n",
        "    cont = False\n",
        "    print('Chatbot: Bye! I will see you soon')"
      ],
      "metadata": {
        "colab": {
          "base_uri": "https://localhost:8080/"
        },
        "id": "Umo_H7J10O5W",
        "outputId": "fa961aef-73fc-4593-c74f-0a22cdee3e26"
      },
      "execution_count": null,
      "outputs": [
        {
          "output_type": "stream",
          "name": "stdout",
          "text": [
            "Hello! I am a chatbot and I will answer your questions about natural language processing\n",
            "hi\n",
            "Chatbot: hello\n",
            "What is natural language processing?\n",
            "Chatbot:\n",
            "The most visible advances have been in what’s called “natural language processing” (NLP), the branch of AI focused on how computers can process language like humans do.\n",
            "nlp?\n",
            "Chatbot:\n",
            "Natural language processing (NLP) tools have advanced rapidly and can help with writing, coding, and discipline-specific reasoning.\n",
            "quit\n",
            "Chatbot: Bye! I will see you soon\n"
          ]
        }
      ]
    }
  ],
  "metadata": {
    "colab": {
      "collapsed_sections": [],
      "name": "basic_Text_summarization_chatbot.ipynb",
      "provenance": []
    },
    "kernelspec": {
      "display_name": "Python 3",
      "name": "python3"
    },
    "language_info": {
      "name": "python"
    }
  },
  "nbformat": 4,
  "nbformat_minor": 0
}